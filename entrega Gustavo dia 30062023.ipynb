{
  "nbformat": 4,
  "nbformat_minor": 0,
  "metadata": {
    "colab": {
      "provenance": [],
      "authorship_tag": "ABX9TyMMPKHyxxEaoNwE3lWNma87",
      "include_colab_link": true
    },
    "kernelspec": {
      "name": "python3",
      "display_name": "Python 3"
    },
    "language_info": {
      "name": "python"
    }
  },
  "cells": [
    {
      "cell_type": "markdown",
      "metadata": {
        "id": "view-in-github",
        "colab_type": "text"
      },
      "source": [
        "<a href=\"https://colab.research.google.com/github/GustavoFernandesdaCunha/iec2023_1_AeB/blob/main/entrega%20Gustavo%20dia%2030062023.ipynb\" target=\"_parent\"><img src=\"https://colab.research.google.com/assets/colab-badge.svg\" alt=\"Open In Colab\"/></a>"
      ]
    },
    {
      "cell_type": "markdown",
      "source": [
        "## Introdução à Engenharia de Computação\n",
        "# Aula 2 Python"
      ],
      "metadata": {
        "id": "rLNP8p1Y0Lzd"
      }
    },
    {
      "cell_type": "code",
      "execution_count": 62,
      "metadata": {
        "colab": {
          "base_uri": "https://localhost:8080/"
        },
        "id": "UYrgxAIoz0GK",
        "outputId": "80aebafb-6716-40c1-cc96-f5c5019880b2"
      },
      "outputs": [
        {
          "output_type": "stream",
          "name": "stdout",
          "text": [
            "A versão em uso é 3.10.12.\n"
          ]
        }
      ],
      "source": [
        "from platform import python_version\n",
        "print(f'A versão em uso é {python_version()}.')"
      ]
    },
    {
      "cell_type": "code",
      "source": [
        "print('Bye bye, World')"
      ],
      "metadata": {
        "colab": {
          "base_uri": "https://localhost:8080/"
        },
        "id": "YZejJ0Yez-zY",
        "outputId": "5be8a72a-9332-4f18-edbd-6f834b7f9932"
      },
      "execution_count": 63,
      "outputs": [
        {
          "output_type": "stream",
          "name": "stdout",
          "text": [
            "Bye bye, World\n"
          ]
        }
      ]
    },
    {
      "cell_type": "code",
      "source": [
        "import pandas as pd\n",
        "print('Biblioteca importada com sucesso')\n"
      ],
      "metadata": {
        "colab": {
          "base_uri": "https://localhost:8080/"
        },
        "id": "lBhg1DsIz-0l",
        "outputId": "bc2d34b0-327c-4a51-d92f-cfe405d557be"
      },
      "execution_count": 64,
      "outputs": [
        {
          "output_type": "stream",
          "name": "stdout",
          "text": [
            "Biblioteca importada com sucesso\n"
          ]
        }
      ]
    },
    {
      "cell_type": "code",
      "source": [
        "df_gustavo = pd.read_csv('https://raw.githubusercontent.com/scadriano/iec2023_1_AeB/main/01.%20Conceitua%C3%A7%C3%A3o%20de%20Python/hospital.csv', sep=',', index_col=None)\n",
        "\n",
        "print('Dados importados com sucesso')"
      ],
      "metadata": {
        "colab": {
          "base_uri": "https://localhost:8080/"
        },
        "id": "hbbLTcsw2lt8",
        "outputId": "0e0513fe-e167-4aac-ba9a-6d7038e9e339"
      },
      "execution_count": 65,
      "outputs": [
        {
          "output_type": "stream",
          "name": "stdout",
          "text": [
            "Dados importados com sucesso\n"
          ]
        }
      ]
    },
    {
      "cell_type": "code",
      "source": [
        "display(df_gustavo.head())"
      ],
      "metadata": {
        "colab": {
          "base_uri": "https://localhost:8080/",
          "height": 206
        },
        "id": "cF7z1vE93sPY",
        "outputId": "8affb7fb-9777-41ec-b88b-9b85f915b846"
      },
      "execution_count": 66,
      "outputs": [
        {
          "output_type": "display_data",
          "data": {
            "text/plain": [
              "     Id     Nome  Idade Sexo  Peso       Manchas  Temperatura  Internação  \\\n",
              "0  4201     João     28    M    79  Concentradas         38.0           2   \n",
              "1  3217    Maria     18    F    67  Inexistentes         39.5           4   \n",
              "2  4039     Luiz     49    M    92    Espalhadas         38.0           2   \n",
              "3  1920     José     18    M    43  Inexistentes         38.5           8   \n",
              "4  4340  Cláudia     21    F    52     Uniformes         37.6           1   \n",
              "\n",
              "  Estado       Time Diagnóstico  \n",
              "0     SP  Palmeiras      Doente  \n",
              "1     MG   Cruzeiro      Doente  \n",
              "2     RS     Grêmio    Saudável  \n",
              "3     MG   Atlético      Doente  \n",
              "4     PE      Sport    Saudável  "
            ],
            "text/html": [
              "\n",
              "  <div id=\"df-7bb430ac-0f19-48dd-a7b3-a917e3ea4b96\">\n",
              "    <div class=\"colab-df-container\">\n",
              "      <div>\n",
              "<style scoped>\n",
              "    .dataframe tbody tr th:only-of-type {\n",
              "        vertical-align: middle;\n",
              "    }\n",
              "\n",
              "    .dataframe tbody tr th {\n",
              "        vertical-align: top;\n",
              "    }\n",
              "\n",
              "    .dataframe thead th {\n",
              "        text-align: right;\n",
              "    }\n",
              "</style>\n",
              "<table border=\"1\" class=\"dataframe\">\n",
              "  <thead>\n",
              "    <tr style=\"text-align: right;\">\n",
              "      <th></th>\n",
              "      <th>Id</th>\n",
              "      <th>Nome</th>\n",
              "      <th>Idade</th>\n",
              "      <th>Sexo</th>\n",
              "      <th>Peso</th>\n",
              "      <th>Manchas</th>\n",
              "      <th>Temperatura</th>\n",
              "      <th>Internação</th>\n",
              "      <th>Estado</th>\n",
              "      <th>Time</th>\n",
              "      <th>Diagnóstico</th>\n",
              "    </tr>\n",
              "  </thead>\n",
              "  <tbody>\n",
              "    <tr>\n",
              "      <th>0</th>\n",
              "      <td>4201</td>\n",
              "      <td>João</td>\n",
              "      <td>28</td>\n",
              "      <td>M</td>\n",
              "      <td>79</td>\n",
              "      <td>Concentradas</td>\n",
              "      <td>38.0</td>\n",
              "      <td>2</td>\n",
              "      <td>SP</td>\n",
              "      <td>Palmeiras</td>\n",
              "      <td>Doente</td>\n",
              "    </tr>\n",
              "    <tr>\n",
              "      <th>1</th>\n",
              "      <td>3217</td>\n",
              "      <td>Maria</td>\n",
              "      <td>18</td>\n",
              "      <td>F</td>\n",
              "      <td>67</td>\n",
              "      <td>Inexistentes</td>\n",
              "      <td>39.5</td>\n",
              "      <td>4</td>\n",
              "      <td>MG</td>\n",
              "      <td>Cruzeiro</td>\n",
              "      <td>Doente</td>\n",
              "    </tr>\n",
              "    <tr>\n",
              "      <th>2</th>\n",
              "      <td>4039</td>\n",
              "      <td>Luiz</td>\n",
              "      <td>49</td>\n",
              "      <td>M</td>\n",
              "      <td>92</td>\n",
              "      <td>Espalhadas</td>\n",
              "      <td>38.0</td>\n",
              "      <td>2</td>\n",
              "      <td>RS</td>\n",
              "      <td>Grêmio</td>\n",
              "      <td>Saudável</td>\n",
              "    </tr>\n",
              "    <tr>\n",
              "      <th>3</th>\n",
              "      <td>1920</td>\n",
              "      <td>José</td>\n",
              "      <td>18</td>\n",
              "      <td>M</td>\n",
              "      <td>43</td>\n",
              "      <td>Inexistentes</td>\n",
              "      <td>38.5</td>\n",
              "      <td>8</td>\n",
              "      <td>MG</td>\n",
              "      <td>Atlético</td>\n",
              "      <td>Doente</td>\n",
              "    </tr>\n",
              "    <tr>\n",
              "      <th>4</th>\n",
              "      <td>4340</td>\n",
              "      <td>Cláudia</td>\n",
              "      <td>21</td>\n",
              "      <td>F</td>\n",
              "      <td>52</td>\n",
              "      <td>Uniformes</td>\n",
              "      <td>37.6</td>\n",
              "      <td>1</td>\n",
              "      <td>PE</td>\n",
              "      <td>Sport</td>\n",
              "      <td>Saudável</td>\n",
              "    </tr>\n",
              "  </tbody>\n",
              "</table>\n",
              "</div>\n",
              "      <button class=\"colab-df-convert\" onclick=\"convertToInteractive('df-7bb430ac-0f19-48dd-a7b3-a917e3ea4b96')\"\n",
              "              title=\"Convert this dataframe to an interactive table.\"\n",
              "              style=\"display:none;\">\n",
              "        \n",
              "  <svg xmlns=\"http://www.w3.org/2000/svg\" height=\"24px\"viewBox=\"0 0 24 24\"\n",
              "       width=\"24px\">\n",
              "    <path d=\"M0 0h24v24H0V0z\" fill=\"none\"/>\n",
              "    <path d=\"M18.56 5.44l.94 2.06.94-2.06 2.06-.94-2.06-.94-.94-2.06-.94 2.06-2.06.94zm-11 1L8.5 8.5l.94-2.06 2.06-.94-2.06-.94L8.5 2.5l-.94 2.06-2.06.94zm10 10l.94 2.06.94-2.06 2.06-.94-2.06-.94-.94-2.06-.94 2.06-2.06.94z\"/><path d=\"M17.41 7.96l-1.37-1.37c-.4-.4-.92-.59-1.43-.59-.52 0-1.04.2-1.43.59L10.3 9.45l-7.72 7.72c-.78.78-.78 2.05 0 2.83L4 21.41c.39.39.9.59 1.41.59.51 0 1.02-.2 1.41-.59l7.78-7.78 2.81-2.81c.8-.78.8-2.07 0-2.86zM5.41 20L4 18.59l7.72-7.72 1.47 1.35L5.41 20z\"/>\n",
              "  </svg>\n",
              "      </button>\n",
              "      \n",
              "  <style>\n",
              "    .colab-df-container {\n",
              "      display:flex;\n",
              "      flex-wrap:wrap;\n",
              "      gap: 12px;\n",
              "    }\n",
              "\n",
              "    .colab-df-convert {\n",
              "      background-color: #E8F0FE;\n",
              "      border: none;\n",
              "      border-radius: 50%;\n",
              "      cursor: pointer;\n",
              "      display: none;\n",
              "      fill: #1967D2;\n",
              "      height: 32px;\n",
              "      padding: 0 0 0 0;\n",
              "      width: 32px;\n",
              "    }\n",
              "\n",
              "    .colab-df-convert:hover {\n",
              "      background-color: #E2EBFA;\n",
              "      box-shadow: 0px 1px 2px rgba(60, 64, 67, 0.3), 0px 1px 3px 1px rgba(60, 64, 67, 0.15);\n",
              "      fill: #174EA6;\n",
              "    }\n",
              "\n",
              "    [theme=dark] .colab-df-convert {\n",
              "      background-color: #3B4455;\n",
              "      fill: #D2E3FC;\n",
              "    }\n",
              "\n",
              "    [theme=dark] .colab-df-convert:hover {\n",
              "      background-color: #434B5C;\n",
              "      box-shadow: 0px 1px 3px 1px rgba(0, 0, 0, 0.15);\n",
              "      filter: drop-shadow(0px 1px 2px rgba(0, 0, 0, 0.3));\n",
              "      fill: #FFFFFF;\n",
              "    }\n",
              "  </style>\n",
              "\n",
              "      <script>\n",
              "        const buttonEl =\n",
              "          document.querySelector('#df-7bb430ac-0f19-48dd-a7b3-a917e3ea4b96 button.colab-df-convert');\n",
              "        buttonEl.style.display =\n",
              "          google.colab.kernel.accessAllowed ? 'block' : 'none';\n",
              "\n",
              "        async function convertToInteractive(key) {\n",
              "          const element = document.querySelector('#df-7bb430ac-0f19-48dd-a7b3-a917e3ea4b96');\n",
              "          const dataTable =\n",
              "            await google.colab.kernel.invokeFunction('convertToInteractive',\n",
              "                                                     [key], {});\n",
              "          if (!dataTable) return;\n",
              "\n",
              "          const docLinkHtml = 'Like what you see? Visit the ' +\n",
              "            '<a target=\"_blank\" href=https://colab.research.google.com/notebooks/data_table.ipynb>data table notebook</a>'\n",
              "            + ' to learn more about interactive tables.';\n",
              "          element.innerHTML = '';\n",
              "          dataTable['output_type'] = 'display_data';\n",
              "          await google.colab.output.renderOutput(dataTable, element);\n",
              "          const docLink = document.createElement('div');\n",
              "          docLink.innerHTML = docLinkHtml;\n",
              "          element.appendChild(docLink);\n",
              "        }\n",
              "      </script>\n",
              "    </div>\n",
              "  </div>\n",
              "  "
            ]
          },
          "metadata": {}
        }
      ]
    },
    {
      "cell_type": "code",
      "source": [
        "display(df_gustavo)"
      ],
      "metadata": {
        "colab": {
          "base_uri": "https://localhost:8080/",
          "height": 300
        },
        "id": "yBDUp3nw3sQo",
        "outputId": "873be304-fdd1-438b-e02a-45c38e161427"
      },
      "execution_count": 67,
      "outputs": [
        {
          "output_type": "display_data",
          "data": {
            "text/plain": [
              "     Id     Nome  Idade Sexo  Peso       Manchas  Temperatura  Internação  \\\n",
              "0  4201     João     28    M    79  Concentradas         38.0           2   \n",
              "1  3217    Maria     18    F    67  Inexistentes         39.5           4   \n",
              "2  4039     Luiz     49    M    92    Espalhadas         38.0           2   \n",
              "3  1920     José     18    M    43  Inexistentes         38.5           8   \n",
              "4  4340  Cláudia     21    F    52     Uniformes         37.6           1   \n",
              "5  2301      Ana     22    F    72  Inexistentes         38.0           3   \n",
              "6  1322    Marta     19    F    87    Espalhadas         39.0           6   \n",
              "7  3027    Paulo     34    M    67     Uniformes         38.4           2   \n",
              "\n",
              "  Estado       Time Diagnóstico  \n",
              "0     SP  Palmeiras      Doente  \n",
              "1     MG   Cruzeiro      Doente  \n",
              "2     RS     Grêmio    Saudável  \n",
              "3     MG   Atlético      Doente  \n",
              "4     PE      Sport    Saudável  \n",
              "5     RJ   Botafogo      Doente  \n",
              "6     AM   Flamengo      Doente  \n",
              "7     GO  Vila Nova    Saudável  "
            ],
            "text/html": [
              "\n",
              "  <div id=\"df-f3354017-44d4-4bdd-ba36-d6b43f956f01\">\n",
              "    <div class=\"colab-df-container\">\n",
              "      <div>\n",
              "<style scoped>\n",
              "    .dataframe tbody tr th:only-of-type {\n",
              "        vertical-align: middle;\n",
              "    }\n",
              "\n",
              "    .dataframe tbody tr th {\n",
              "        vertical-align: top;\n",
              "    }\n",
              "\n",
              "    .dataframe thead th {\n",
              "        text-align: right;\n",
              "    }\n",
              "</style>\n",
              "<table border=\"1\" class=\"dataframe\">\n",
              "  <thead>\n",
              "    <tr style=\"text-align: right;\">\n",
              "      <th></th>\n",
              "      <th>Id</th>\n",
              "      <th>Nome</th>\n",
              "      <th>Idade</th>\n",
              "      <th>Sexo</th>\n",
              "      <th>Peso</th>\n",
              "      <th>Manchas</th>\n",
              "      <th>Temperatura</th>\n",
              "      <th>Internação</th>\n",
              "      <th>Estado</th>\n",
              "      <th>Time</th>\n",
              "      <th>Diagnóstico</th>\n",
              "    </tr>\n",
              "  </thead>\n",
              "  <tbody>\n",
              "    <tr>\n",
              "      <th>0</th>\n",
              "      <td>4201</td>\n",
              "      <td>João</td>\n",
              "      <td>28</td>\n",
              "      <td>M</td>\n",
              "      <td>79</td>\n",
              "      <td>Concentradas</td>\n",
              "      <td>38.0</td>\n",
              "      <td>2</td>\n",
              "      <td>SP</td>\n",
              "      <td>Palmeiras</td>\n",
              "      <td>Doente</td>\n",
              "    </tr>\n",
              "    <tr>\n",
              "      <th>1</th>\n",
              "      <td>3217</td>\n",
              "      <td>Maria</td>\n",
              "      <td>18</td>\n",
              "      <td>F</td>\n",
              "      <td>67</td>\n",
              "      <td>Inexistentes</td>\n",
              "      <td>39.5</td>\n",
              "      <td>4</td>\n",
              "      <td>MG</td>\n",
              "      <td>Cruzeiro</td>\n",
              "      <td>Doente</td>\n",
              "    </tr>\n",
              "    <tr>\n",
              "      <th>2</th>\n",
              "      <td>4039</td>\n",
              "      <td>Luiz</td>\n",
              "      <td>49</td>\n",
              "      <td>M</td>\n",
              "      <td>92</td>\n",
              "      <td>Espalhadas</td>\n",
              "      <td>38.0</td>\n",
              "      <td>2</td>\n",
              "      <td>RS</td>\n",
              "      <td>Grêmio</td>\n",
              "      <td>Saudável</td>\n",
              "    </tr>\n",
              "    <tr>\n",
              "      <th>3</th>\n",
              "      <td>1920</td>\n",
              "      <td>José</td>\n",
              "      <td>18</td>\n",
              "      <td>M</td>\n",
              "      <td>43</td>\n",
              "      <td>Inexistentes</td>\n",
              "      <td>38.5</td>\n",
              "      <td>8</td>\n",
              "      <td>MG</td>\n",
              "      <td>Atlético</td>\n",
              "      <td>Doente</td>\n",
              "    </tr>\n",
              "    <tr>\n",
              "      <th>4</th>\n",
              "      <td>4340</td>\n",
              "      <td>Cláudia</td>\n",
              "      <td>21</td>\n",
              "      <td>F</td>\n",
              "      <td>52</td>\n",
              "      <td>Uniformes</td>\n",
              "      <td>37.6</td>\n",
              "      <td>1</td>\n",
              "      <td>PE</td>\n",
              "      <td>Sport</td>\n",
              "      <td>Saudável</td>\n",
              "    </tr>\n",
              "    <tr>\n",
              "      <th>5</th>\n",
              "      <td>2301</td>\n",
              "      <td>Ana</td>\n",
              "      <td>22</td>\n",
              "      <td>F</td>\n",
              "      <td>72</td>\n",
              "      <td>Inexistentes</td>\n",
              "      <td>38.0</td>\n",
              "      <td>3</td>\n",
              "      <td>RJ</td>\n",
              "      <td>Botafogo</td>\n",
              "      <td>Doente</td>\n",
              "    </tr>\n",
              "    <tr>\n",
              "      <th>6</th>\n",
              "      <td>1322</td>\n",
              "      <td>Marta</td>\n",
              "      <td>19</td>\n",
              "      <td>F</td>\n",
              "      <td>87</td>\n",
              "      <td>Espalhadas</td>\n",
              "      <td>39.0</td>\n",
              "      <td>6</td>\n",
              "      <td>AM</td>\n",
              "      <td>Flamengo</td>\n",
              "      <td>Doente</td>\n",
              "    </tr>\n",
              "    <tr>\n",
              "      <th>7</th>\n",
              "      <td>3027</td>\n",
              "      <td>Paulo</td>\n",
              "      <td>34</td>\n",
              "      <td>M</td>\n",
              "      <td>67</td>\n",
              "      <td>Uniformes</td>\n",
              "      <td>38.4</td>\n",
              "      <td>2</td>\n",
              "      <td>GO</td>\n",
              "      <td>Vila Nova</td>\n",
              "      <td>Saudável</td>\n",
              "    </tr>\n",
              "  </tbody>\n",
              "</table>\n",
              "</div>\n",
              "      <button class=\"colab-df-convert\" onclick=\"convertToInteractive('df-f3354017-44d4-4bdd-ba36-d6b43f956f01')\"\n",
              "              title=\"Convert this dataframe to an interactive table.\"\n",
              "              style=\"display:none;\">\n",
              "        \n",
              "  <svg xmlns=\"http://www.w3.org/2000/svg\" height=\"24px\"viewBox=\"0 0 24 24\"\n",
              "       width=\"24px\">\n",
              "    <path d=\"M0 0h24v24H0V0z\" fill=\"none\"/>\n",
              "    <path d=\"M18.56 5.44l.94 2.06.94-2.06 2.06-.94-2.06-.94-.94-2.06-.94 2.06-2.06.94zm-11 1L8.5 8.5l.94-2.06 2.06-.94-2.06-.94L8.5 2.5l-.94 2.06-2.06.94zm10 10l.94 2.06.94-2.06 2.06-.94-2.06-.94-.94-2.06-.94 2.06-2.06.94z\"/><path d=\"M17.41 7.96l-1.37-1.37c-.4-.4-.92-.59-1.43-.59-.52 0-1.04.2-1.43.59L10.3 9.45l-7.72 7.72c-.78.78-.78 2.05 0 2.83L4 21.41c.39.39.9.59 1.41.59.51 0 1.02-.2 1.41-.59l7.78-7.78 2.81-2.81c.8-.78.8-2.07 0-2.86zM5.41 20L4 18.59l7.72-7.72 1.47 1.35L5.41 20z\"/>\n",
              "  </svg>\n",
              "      </button>\n",
              "      \n",
              "  <style>\n",
              "    .colab-df-container {\n",
              "      display:flex;\n",
              "      flex-wrap:wrap;\n",
              "      gap: 12px;\n",
              "    }\n",
              "\n",
              "    .colab-df-convert {\n",
              "      background-color: #E8F0FE;\n",
              "      border: none;\n",
              "      border-radius: 50%;\n",
              "      cursor: pointer;\n",
              "      display: none;\n",
              "      fill: #1967D2;\n",
              "      height: 32px;\n",
              "      padding: 0 0 0 0;\n",
              "      width: 32px;\n",
              "    }\n",
              "\n",
              "    .colab-df-convert:hover {\n",
              "      background-color: #E2EBFA;\n",
              "      box-shadow: 0px 1px 2px rgba(60, 64, 67, 0.3), 0px 1px 3px 1px rgba(60, 64, 67, 0.15);\n",
              "      fill: #174EA6;\n",
              "    }\n",
              "\n",
              "    [theme=dark] .colab-df-convert {\n",
              "      background-color: #3B4455;\n",
              "      fill: #D2E3FC;\n",
              "    }\n",
              "\n",
              "    [theme=dark] .colab-df-convert:hover {\n",
              "      background-color: #434B5C;\n",
              "      box-shadow: 0px 1px 3px 1px rgba(0, 0, 0, 0.15);\n",
              "      filter: drop-shadow(0px 1px 2px rgba(0, 0, 0, 0.3));\n",
              "      fill: #FFFFFF;\n",
              "    }\n",
              "  </style>\n",
              "\n",
              "      <script>\n",
              "        const buttonEl =\n",
              "          document.querySelector('#df-f3354017-44d4-4bdd-ba36-d6b43f956f01 button.colab-df-convert');\n",
              "        buttonEl.style.display =\n",
              "          google.colab.kernel.accessAllowed ? 'block' : 'none';\n",
              "\n",
              "        async function convertToInteractive(key) {\n",
              "          const element = document.querySelector('#df-f3354017-44d4-4bdd-ba36-d6b43f956f01');\n",
              "          const dataTable =\n",
              "            await google.colab.kernel.invokeFunction('convertToInteractive',\n",
              "                                                     [key], {});\n",
              "          if (!dataTable) return;\n",
              "\n",
              "          const docLinkHtml = 'Like what you see? Visit the ' +\n",
              "            '<a target=\"_blank\" href=https://colab.research.google.com/notebooks/data_table.ipynb>data table notebook</a>'\n",
              "            + ' to learn more about interactive tables.';\n",
              "          element.innerHTML = '';\n",
              "          dataTable['output_type'] = 'display_data';\n",
              "          await google.colab.output.renderOutput(dataTable, element);\n",
              "          const docLink = document.createElement('div');\n",
              "          docLink.innerHTML = docLinkHtml;\n",
              "          element.appendChild(docLink);\n",
              "        }\n",
              "      </script>\n",
              "    </div>\n",
              "  </div>\n",
              "  "
            ]
          },
          "metadata": {}
        }
      ]
    },
    {
      "cell_type": "code",
      "source": [
        "df_gustavo = df_gustavo.drop(columns={'Estado','Time'})"
      ],
      "metadata": {
        "id": "7pgG_lRW4xis"
      },
      "execution_count": 68,
      "outputs": []
    },
    {
      "cell_type": "code",
      "source": [
        "df_gustavo.groupby('Diagnóstico').count().plot.pie(y='Internação')"
      ],
      "metadata": {
        "colab": {
          "base_uri": "https://localhost:8080/",
          "height": 423
        },
        "id": "-UrBXRPg6oYv",
        "outputId": "75d56802-94b7-4184-aa60-547b434cfd89"
      },
      "execution_count": 69,
      "outputs": [
        {
          "output_type": "execute_result",
          "data": {
            "text/plain": [
              "<Axes: ylabel='Internação'>"
            ]
          },
          "metadata": {},
          "execution_count": 69
        },
        {
          "output_type": "display_data",
          "data": {
            "text/plain": [
              "<Figure size 640x480 with 1 Axes>"
            ],
            "image/png": "[encoded data removed]"
          },
          "metadata": {}
        }
      ]
    },
    {
      "cell_type": "code",
      "source": [
        "import matplotlib.pyplot as plt\n",
        "\n",
        "dados = [\n",
        "    [4201, 'João', 55, 'M', 90, 'Concentradas', 38.0, 2, 'SP', 'Palmeiras', 'Doente'],\n",
        "    [3217, 'Maria', 56, 'F', 91, 'Inexistentes', 39.5, 4, 'MG', 'Cruzeiro', 'Doente'],\n",
        "    [4039, 'Luiz', 49, 'M', 92, 'Espalhadas', 38.0, 2, 'RS', 'Grêmio', 'Saudável'],\n",
        "    [1920, 'José', 57, 'M', 93, 'Inexistentes', 38.5, 2, 'MG', 'Atlético', 'Doente'],\n",
        "    [4340, 'Cláudia', 21, 'F', 52, 'Uniformes', 37.6, 1, 'PE', 'Sport', 'Saudável'],\n",
        "    [2301, 'Ana', 58, 'F', 94, 'Inexistentes', 38.0, 3, 'RJ', 'Botafogo', 'Doente'],\n",
        "    [1322, 'Marta', 19, 'F', 87, 'Espalhadas', 39.0, 3, 'AM', 'Flamengo', 'Doente'],\n",
        "    [3027, 'Paulo', 34, 'M', 67, 'Uniformes', 38.4, 2, 'GO', 'Vila Nova', 'Saudável'],\n",
        "    [3546, 'Roberto', 44, 'M', None, 'Uniformes', 37.6, 1, 'PE', 'Sport', 'Saudável'],\n",
        "    [6754, 'Lorena', 33, 'F', 72, 'Inexistentes', 38.0, 3, 'RJ', 'Botafogo', 'Doente'],\n",
        "    [1735, 'Pedro', 13, 'M', 87, 'Espalhadas', 6, 4, 'AM', 'Flamengo', 'Doente'],\n",
        "    [9834, 'Laura', 65, 'F', None, 'Uniformes', 38.4, 2, 'GO', 'Vila Nova', 'Saudável'],\n",
        "    [4201, 'João', 28, 'M', 79, 'Concentradas', 38.0, 2, 'SP', 'Palmeiras', 'Doente'],\n",
        "    [3217, 'Maria', 18, 'F', 67, 'Inexistentes', 39.5, 4, 'MG', 'Cruzeiro', 'Saudável']\n",
        "]\n",
        "\n",
        "idades = []\n",
        "diagnosticos = []\n",
        "\n",
        "for dado in dados:\n",
        "    idade = dado[2]\n",
        "    diagnostico = dado[10]\n",
        "    idades.append(idade)\n",
        "    diagnosticos.append(diagnostico)\n",
        "\n",
        "# Plotagem do gráfico de barras\n",
        "plt.bar(idades, diagnosticos)\n",
        "plt.xlabel('Idade')\n",
        "plt.ylabel('Diagnóstico')\n",
        "plt.title('Contagem de pessoas doentes e saudáveis por faixa etária')\n",
        "plt.show()\n"
      ],
      "metadata": {
        "colab": {
          "base_uri": "https://localhost:8080/",
          "height": 472
        },
        "id": "eoa1g_DqCw9t",
        "outputId": "d462d58b-f347-4922-9ed2-04c9a85d1232"
      },
      "execution_count": 71,
      "outputs": [
        {
          "output_type": "display_data",
          "data": {
            "text/plain": [
              "<Figure size 640x480 with 1 Axes>"
            ],
            "image/png": "[encoded data removed]"
          },
          "metadata": {}
        }
      ]
    },
    {
      "cell_type": "code",
      "source": [
        "import seaborn as sns\n",
        "import matplotlib.pyplot as plt\n",
        "\n",
        "dados = [\n",
        "    [4201, 'João', 55, 'M', 90, 'Concentradas', 38.0, 2, 'SP', 'Palmeiras', 'Doente'],\n",
        "    [3217, 'Maria', 56, 'F', 91, 'Inexistentes', 39.5, 4, 'MG', 'Cruzeiro', 'Doente'],\n",
        "    [4039, 'Luiz', 49, 'M', 92, 'Espalhadas', 38.0, 2, 'RS', 'Grêmio', 'Saudável'],\n",
        "    [1920, 'José', 57, 'M', 93, 'Inexistentes', 38.5, 2, 'MG', 'Atlético', 'Doente'],\n",
        "    [4340, 'Cláudia', 21, 'F', 52, 'Uniformes', 37.6, 1, 'PE', 'Sport', 'Saudável'],\n",
        "    [2301, 'Ana', 58, 'F', 94, 'Inexistentes', 38.0, 3, 'RJ', 'Botafogo', 'Doente'],\n",
        "    [1322, 'Marta', 19, 'F', 87, 'Espalhadas', 39.0, 3, 'AM', 'Flamengo', 'Doente'],\n",
        "    [3027, 'Paulo', 34, 'M', 67, 'Uniformes', 38.4, 2, 'GO', 'Vila Nova', 'Saudável'],\n",
        "    [3546, 'Roberto', 44, 'M', None, 'Uniformes', 37.6, 1, 'PE', 'Sport', 'Saudável'],\n",
        "    [6754, 'Lorena', 33, 'F', 72, 'Inexistentes', 38.0, 3, 'RJ', 'Botafogo', 'Doente'],\n",
        "    [1735, 'Pedro', 13, 'M', 87, 'Espalhadas', 6, 4, 'AM', 'Flamengo', 'Doente'],\n",
        "    [9834, 'Laura', 65, 'F', None, 'Uniformes', 38.4, 2, 'GO', 'Vila Nova', 'Saudável'],\n",
        "    [4201, 'João', 28, 'M', 79, 'Concentradas', 38.0, 2, 'SP', 'Palmeiras', 'Doente'],\n",
        "    [3217, 'Maria', 18, 'F', 67, 'Inexistentes', 39.5, 4, 'MG', 'Cruzeiro', 'Saudável']\n",
        "]\n",
        "\n",
        "idades = []\n",
        "diagnosticos = []\n",
        "\n",
        "for dado in dados:\n",
        "    idade = dado[2]\n",
        "    diagnostico = dado[10]\n",
        "    idades.append(idade)\n",
        "    diagnosticos.append(diagnostico)\n",
        "\n",
        "# Configuração do estilo do Seaborn\n",
        "sns.set_style(\"whitegrid\")\n",
        "\n",
        "# Plotagem do gráfico de barras com Seaborn\n",
        "sns.barplot(x=idades, y=diagnosticos)\n",
        "\n",
        "#\n"
      ],
      "metadata": {
        "colab": {
          "base_uri": "https://localhost:8080/",
          "height": 447
        },
        "id": "u2XBE484DJE7",
        "outputId": "84174729-c22d-4104-93de-bc3d6c7332d6"
      },
      "execution_count": 72,
      "outputs": [
        {
          "output_type": "execute_result",
          "data": {
            "text/plain": [
              "<Axes: >"
            ]
          },
          "metadata": {},
          "execution_count": 72
        },
        {
          "output_type": "display_data",
          "data": {
            "text/plain": [
              "<Figure size 640x480 with 1 Axes>"
            ],
            "image/png": "[encoded data removed]"
          },
          "metadata": {}
        }
      ]
    }
  ]
}