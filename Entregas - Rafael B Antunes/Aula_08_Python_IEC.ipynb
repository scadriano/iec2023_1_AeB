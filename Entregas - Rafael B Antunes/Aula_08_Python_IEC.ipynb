{
  "nbformat": 4,
  "nbformat_minor": 0,
  "metadata": {
    "colab": {
      "provenance": [],
      "mount_file_id": "14i4Q_T2qcPffzgPWsze5rX5XFgocZQYj",
      "authorship_tag": "ABX9TyMKg1/gYk541Xs/ZtH4CHne",
      "include_colab_link": true
    },
    "kernelspec": {
      "name": "python3",
      "display_name": "Python 3"
    },
    "language_info": {
      "name": "python"
    }
  },
  "cells": [
    {
      "cell_type": "markdown",
      "metadata": {
        "id": "view-in-github",
        "colab_type": "text"
      },
      "source": [
        "<a href=\"https://colab.research.google.com/github/RafaelAntunes21/iec2023_1_AeB/blob/main/Entregas%20-%20Rafael%20B%20Antunes/Aula_08_Python_IEC.ipynb\" target=\"_parent\"><img src=\"https://colab.research.google.com/assets/colab-badge.svg\" alt=\"Open In Colab\"/></a>"
      ]
    },
    {
      "cell_type": "markdown",
      "source": [
        "***Introdução a Engenharia de Computação***"
      ],
      "metadata": {
        "id": "GVg4TZymyQjx"
      }
    },
    {
      "cell_type": "code",
      "execution_count": null,
      "metadata": {
        "colab": {
          "base_uri": "https://localhost:8080/"
        },
        "id": "FY1yiq76vCQ_",
        "outputId": "f0b53142-7296-444e-9aa1-d808cb4cae72"
      },
      "outputs": [
        {
          "output_type": "stream",
          "name": "stdout",
          "text": [
            "A versão em uso é 3.10.12.\n"
          ]
        }
      ],
      "source": [
        "from platform import python_version\n",
        "print(f'A versão em uso é {python_version()}.')"
      ]
    },
    {
      "cell_type": "code",
      "source": [
        "# verificar se o python está funcionando\n",
        "print('Bye bye, World!')"
      ],
      "metadata": {
        "colab": {
          "base_uri": "https://localhost:8080/"
        },
        "id": "5jeqib-K0DF-",
        "outputId": "dfafd6e1-8a02-46af-da55-0e243ea86d8e"
      },
      "execution_count": null,
      "outputs": [
        {
          "output_type": "stream",
          "name": "stdout",
          "text": [
            "Bye bye, World!\n"
          ]
        }
      ]
    },
    {
      "cell_type": "markdown",
      "source": [
        "**Operadores artimeticos**"
      ],
      "metadata": {
        "id": "1IOjXGb80TPc"
      }
    },
    {
      "cell_type": "code",
      "source": [
        "# Adição\n",
        "1 + 1"
      ],
      "metadata": {
        "colab": {
          "base_uri": "https://localhost:8080/"
        },
        "id": "DBgM7-uV0WFs",
        "outputId": "8c62e4cb-ea54-449f-d1c6-1bc114dbc5c0"
      },
      "execution_count": null,
      "outputs": [
        {
          "output_type": "execute_result",
          "data": {
            "text/plain": [
              "2"
            ]
          },
          "metadata": {},
          "execution_count": 6
        }
      ]
    },
    {
      "cell_type": "code",
      "source": [
        "# Subtração\n",
        "2 - 1"
      ],
      "metadata": {
        "colab": {
          "base_uri": "https://localhost:8080/"
        },
        "id": "88xVfjwo0ZAl",
        "outputId": "c0d17b14-2192-4968-96c0-a561e81299ea"
      },
      "execution_count": null,
      "outputs": [
        {
          "output_type": "execute_result",
          "data": {
            "text/plain": [
              "1"
            ]
          },
          "metadata": {},
          "execution_count": 7
        }
      ]
    },
    {
      "cell_type": "code",
      "source": [
        "# Multiplicação\n",
        "2 * 2"
      ],
      "metadata": {
        "colab": {
          "base_uri": "https://localhost:8080/"
        },
        "id": "FhQDnyOR0bZE",
        "outputId": "2b4b416a-0c0a-4c61-d2ad-db59e59470f5"
      },
      "execution_count": null,
      "outputs": [
        {
          "output_type": "execute_result",
          "data": {
            "text/plain": [
              "4"
            ]
          },
          "metadata": {},
          "execution_count": 8
        }
      ]
    },
    {
      "cell_type": "code",
      "source": [
        "# Divisão\n",
        "4 / 2"
      ],
      "metadata": {
        "colab": {
          "base_uri": "https://localhost:8080/"
        },
        "id": "iPBPOUs80efV",
        "outputId": "efcefb9d-7434-445b-b069-7e17df64087a"
      },
      "execution_count": null,
      "outputs": [
        {
          "output_type": "execute_result",
          "data": {
            "text/plain": [
              "2.0"
            ]
          },
          "metadata": {},
          "execution_count": 9
        }
      ]
    },
    {
      "cell_type": "code",
      "source": [
        "# Potência\n",
        "\n",
        "2 ** 3"
      ],
      "metadata": {
        "colab": {
          "base_uri": "https://localhost:8080/"
        },
        "id": "TZr8Z4Bx0ibk",
        "outputId": "59ed212d-baa8-483d-f4e7-fbe920ba293e"
      },
      "execution_count": null,
      "outputs": [
        {
          "output_type": "execute_result",
          "data": {
            "text/plain": [
              "8"
            ]
          },
          "metadata": {},
          "execution_count": 10
        }
      ]
    },
    {
      "cell_type": "code",
      "source": [
        "# Módulo (resto da divisão)\n",
        "10 % 3"
      ],
      "metadata": {
        "colab": {
          "base_uri": "https://localhost:8080/"
        },
        "id": "TSFHKqUq0mv9",
        "outputId": "eed6783b-a2ed-4a6a-bc04-275ade03d2f8"
      },
      "execution_count": null,
      "outputs": [
        {
          "output_type": "execute_result",
          "data": {
            "text/plain": [
              "1"
            ]
          },
          "metadata": {},
          "execution_count": 11
        }
      ]
    },
    {
      "cell_type": "markdown",
      "source": [
        "**Tipos de Dados (Type)**"
      ],
      "metadata": {
        "id": "qlNDInCO1JC1"
      }
    },
    {
      "cell_type": "code",
      "source": [
        "# Qual é o tipo do (?) -> Inteiro\n",
        "type(5)"
      ],
      "metadata": {
        "colab": {
          "base_uri": "https://localhost:8080/"
        },
        "id": "EvD7vIDR1PaT",
        "outputId": "041fa6ed-3171-4711-9819-744f2a4335d2"
      },
      "execution_count": null,
      "outputs": [
        {
          "output_type": "execute_result",
          "data": {
            "text/plain": [
              "int"
            ]
          },
          "metadata": {},
          "execution_count": 12
        }
      ]
    },
    {
      "cell_type": "code",
      "source": [
        "# Qual é o tipo do (?) -> Float - Decimal\n",
        "type(5.0)"
      ],
      "metadata": {
        "colab": {
          "base_uri": "https://localhost:8080/"
        },
        "id": "gaxSpX6j1UgK",
        "outputId": "f2606aff-97d6-4250-96eb-ee4c8e9d30d9"
      },
      "execution_count": null,
      "outputs": [
        {
          "output_type": "execute_result",
          "data": {
            "text/plain": [
              "float"
            ]
          },
          "metadata": {},
          "execution_count": 13
        }
      ]
    },
    {
      "cell_type": "code",
      "source": [
        "# Qual é o tipo do (?) -> String\n",
        "a = 'Estudando Python!'\n",
        "type(a)"
      ],
      "metadata": {
        "colab": {
          "base_uri": "https://localhost:8080/"
        },
        "id": "ycLaIBVs1clK",
        "outputId": "2c2f9d65-4c8c-4a34-f484-180bcfc9ac4a"
      },
      "execution_count": null,
      "outputs": [
        {
          "output_type": "execute_result",
          "data": {
            "text/plain": [
              "str"
            ]
          },
          "metadata": {},
          "execution_count": 14
        }
      ]
    },
    {
      "cell_type": "markdown",
      "source": [
        "**Condicional If**"
      ],
      "metadata": {
        "id": "XTWfpIhH1wiS"
      }
    },
    {
      "cell_type": "code",
      "source": [
        "# Condicional if (Se)\n",
        "if 5 > 2:\n",
        "  print('A sentença é verdadeira')"
      ],
      "metadata": {
        "colab": {
          "base_uri": "https://localhost:8080/"
        },
        "id": "H887UzUB1_sU",
        "outputId": "1c3c8675-96f0-4f36-f6b6-88aae6fb08b7"
      },
      "execution_count": null,
      "outputs": [
        {
          "output_type": "stream",
          "name": "stdout",
          "text": [
            "A sentença é verdadeira\n"
          ]
        }
      ]
    },
    {
      "cell_type": "code",
      "source": [
        "#Condicional if... else\n",
        "if 5 < 2:\n",
        "    print('A sentença é verdadeira!')\n",
        "else:\n",
        "    print('A sentença é falsa!')"
      ],
      "metadata": {
        "colab": {
          "base_uri": "https://localhost:8080/"
        },
        "id": "5zUhXtHt2GbJ",
        "outputId": "bb04916f-45e7-45d6-9401-2ac2bdf94854"
      },
      "execution_count": null,
      "outputs": [
        {
          "output_type": "stream",
          "name": "stdout",
          "text": [
            "A sentença é falsa!\n"
          ]
        }
      ]
    },
    {
      "cell_type": "code",
      "source": [
        "# Condicional if..... else com variável\n",
        "dia = 'Quarta-feira'\n",
        "if dia == 'Sexta-feira':\n",
        "    print('Hoje terá sol')\n",
        "else:\n",
        "    print('Hoje vai chover!')\n",
        "\n",
        "type(dia)"
      ],
      "metadata": {
        "colab": {
          "base_uri": "https://localhost:8080/"
        },
        "id": "cgWgBT_M2b3E",
        "outputId": "2247f80c-b2ca-423a-c773-7ba56da09d46"
      },
      "execution_count": null,
      "outputs": [
        {
          "output_type": "stream",
          "name": "stdout",
          "text": [
            "Hoje vai chover!\n"
          ]
        },
        {
          "output_type": "execute_result",
          "data": {
            "text/plain": [
              "str"
            ]
          },
          "metadata": {},
          "execution_count": 19
        }
      ]
    },
    {
      "cell_type": "markdown",
      "source": [
        "**Manipulando Arquivos**"
      ],
      "metadata": {
        "id": "QndkXSZs3Kkg"
      }
    },
    {
      "cell_type": "code",
      "source": [
        "from google.colab import drive\n",
        "drive.mount('/content/drive')"
      ],
      "metadata": {
        "id": "u6qNmuFg3Qb5"
      },
      "execution_count": null,
      "outputs": []
    },
    {
      "cell_type": "markdown",
      "source": [
        "**Lendo arquivos (.txt)**"
      ],
      "metadata": {
        "id": "ue_bMV6A30lW"
      }
    },
    {
      "cell_type": "code",
      "source": [
        "# Abrindo o arquivo para leitura\n",
        "al = open('/content/drive/MyDrive/Projeto Python IEC 16_06.txt', 'r')"
      ],
      "metadata": {
        "id": "s-R2U9Fi45Ok"
      },
      "execution_count": null,
      "outputs": []
    },
    {
      "cell_type": "code",
      "source": [
        "#Lendo o arquivo\n",
        "print(al.read())"
      ],
      "metadata": {
        "colab": {
          "base_uri": "https://localhost:8080/"
        },
        "id": "rOQJwh4m3y7u",
        "outputId": "7a6810d9-d0d7-453a-b82f-e9e623399910"
      },
      "execution_count": null,
      "outputs": [
        {
          "output_type": "stream",
          "name": "stdout",
          "text": [
            "Bye bye - Aula de IEC 16/06\n",
            "\n"
          ]
        }
      ]
    },
    {
      "cell_type": "markdown",
      "source": [
        "**Gravando arquivos (.txt)**"
      ],
      "metadata": {
        "id": "kb9fJTBy6JYi"
      }
    },
    {
      "cell_type": "code",
      "source": [
        "#Abrindo arquivo para gravação\n",
        "a2 = open('/content/drive/MyDrive/Aprendendo python.txt', 'w')"
      ],
      "metadata": {
        "id": "7iO1OOR36Yky"
      },
      "execution_count": null,
      "outputs": []
    },
    {
      "cell_type": "code",
      "source": [
        "# Gravando no arquivo\n",
        "a2.write('Arraial do Engenho!')"
      ],
      "metadata": {
        "id": "RgcwhNoe6hGg",
        "colab": {
          "base_uri": "https://localhost:8080/"
        },
        "outputId": "c2ba5e84-6e29-4439-f80b-a1c20220a3f3"
      },
      "execution_count": null,
      "outputs": [
        {
          "output_type": "execute_result",
          "data": {
            "text/plain": [
              "19"
            ]
          },
          "metadata": {},
          "execution_count": 37
        }
      ]
    },
    {
      "cell_type": "code",
      "source": [
        "# Abrindo o arquivo para leitura\n",
        "a2 = open('/content/drive/MyDrive/Aprendendo python.txt', 'r')"
      ],
      "metadata": {
        "id": "xcFA-4xT83hO"
      },
      "execution_count": null,
      "outputs": []
    },
    {
      "cell_type": "code",
      "source": [
        "# Imprimindo arquivo\n",
        "print(a2.read())"
      ],
      "metadata": {
        "colab": {
          "base_uri": "https://localhost:8080/"
        },
        "id": "pnnDm5_A9Alk",
        "outputId": "f2c7dc6e-0520-4a46-93a0-56ce6f9236b0"
      },
      "execution_count": null,
      "outputs": [
        {
          "output_type": "stream",
          "name": "stdout",
          "text": [
            "Arraial do Engenho!\n"
          ]
        }
      ]
    }
  ]
}