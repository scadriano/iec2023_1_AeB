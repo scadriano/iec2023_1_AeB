{
  "nbformat": 4,
  "nbformat_minor": 0,
  "metadata": {
    "colab": {
      "provenance": [],
      "mount_file_id": "1EHstPX1LumRAKCowBgVKUj5ompFYeeD_",
      "authorship_tag": "ABX9TyM8wrFIGCEetlmjPEjFHHMh",
      "include_colab_link": true
    },
    "kernelspec": {
      "name": "python3",
      "display_name": "Python 3"
    },
    "language_info": {
      "name": "python"
    }
  },
  "cells": [
    {
      "cell_type": "markdown",
      "metadata": {
        "id": "view-in-github",
        "colab_type": "text"
      },
      "source": [
        "<a href=\"https://colab.research.google.com/github/RafaelAntunes21/iec2023_1_AeB/blob/main/Entregas%20-%20Rafael%20B%20Antunes/%20Aula_30_06_IEC.ipynb\" target=\"_parent\"><img src=\"https://colab.research.google.com/assets/colab-badge.svg\" alt=\"Open In Colab\"/></a>"
      ]
    },
    {
      "cell_type": "markdown",
      "source": [
        "**Introdução à Engenharia de computação**\n",
        "\n",
        "Aula 2 de Python\n"
      ],
      "metadata": {
        "id": "EnHBHcNZzlD5"
      }
    },
    {
      "cell_type": "code",
      "execution_count": null,
      "metadata": {
        "id": "18JV0dG3zKfG"
      },
      "outputs": [],
      "source": [
        "from platform import python_version\n",
        "print(f' A versão em uso é {python_version()}.')"
      ]
    },
    {
      "cell_type": "code",
      "source": [
        "#Verificar se o Python está funcionando\n",
        "print('Bye bye, World!')"
      ],
      "metadata": {
        "id": "m90mEMtB0VFY"
      },
      "execution_count": null,
      "outputs": []
    },
    {
      "cell_type": "code",
      "source": [
        "import pandas as pd\n",
        "import numpy as np\n",
        "import seaborn as sns\n",
        "\n",
        "print('Biblioteca carregada com sucessoo!')"
      ],
      "metadata": {
        "id": "YNjYQqXl0-SI"
      },
      "execution_count": null,
      "outputs": []
    },
    {
      "cell_type": "code",
      "source": [
        "#Importar o arquivo e guardar em um datafram do pandas\n",
        "##df_rafael = pd.read_csv ('/content/hospital (1).csv', sep=',', index_col=None)\n",
        "\n",
        "df_rafael = pd.read_csv('https://raw.githubusercontent.com/scadriano/iec2023_1_AeB/main/01.%20Conceitua%C3%A7%C3%A3o%20de%20Python/hospital.csv')\n",
        "print('Dados importados com sucesso!')"
      ],
      "metadata": {
        "id": "_JwrQ4z81miu"
      },
      "execution_count": null,
      "outputs": []
    },
    {
      "cell_type": "code",
      "source": [
        "#exibir uma amostra do dataframe\n",
        "display(df_rafael.head())"
      ],
      "metadata": {
        "id": "QyB1GG642mWE"
      },
      "execution_count": null,
      "outputs": []
    },
    {
      "cell_type": "code",
      "source": [
        "#exibir todo o dataframe\n",
        "display(df_rafael)"
      ],
      "metadata": {
        "id": "NI8xJjzn3X37"
      },
      "execution_count": null,
      "outputs": []
    },
    {
      "cell_type": "code",
      "source": [
        "#Remover as colunas id_planta e cidade_origem\n",
        "df_rafael = df_rafael.drop(columns={'Estado', 'Time'})\n"
      ],
      "metadata": {
        "id": "mDcc1-Yx35U6"
      },
      "execution_count": null,
      "outputs": []
    },
    {
      "cell_type": "code",
      "source": [
        "#Imprimir o dataframe\n",
        "display(df_rafael)"
      ],
      "metadata": {
        "id": "tl2Uu0ot5fCf"
      },
      "execution_count": null,
      "outputs": []
    },
    {
      "cell_type": "code",
      "source": [
        "df_rafael.groupby('Diagnóstico').count().plot.pie(y = 'Internação')"
      ],
      "metadata": {
        "id": "Dkk78RHr5w22"
      },
      "execution_count": null,
      "outputs": []
    },
    {
      "cell_type": "markdown",
      "source": [
        "**GRÁFICO COM MATPLOT**"
      ],
      "metadata": {
        "id": "-b0WpxRt2jk4"
      }
    },
    {
      "cell_type": "code",
      "source": [
        "df_rafael = pd.read_csv('https://raw.githubusercontent.com/scadriano/iec2023_1_AeB/main/01.%20Conceitua%C3%A7%C3%A3o%20de%20Python/hospital.csv')\n",
        "\n",
        "plt.plot(df_rafael['Nome'], df_rafael['Idade'], marker='o',  label='Idade')\n",
        "plt.plot(df_rafael['Nome'], df_rafael['Temperatura'], marker='^', label='Temperatura')\n",
        "plt.plot(df_rafael['Nome'], df_rafael['Peso'], marker='s', label='Peso')\n",
        "\n",
        "\n",
        "plt.xlabel('Nome')\n",
        "plt.ylabel('Valores')\n",
        "\n",
        "plt.title('Idade Temperatura e Peso')\n",
        "\n",
        "plt.legend()\n",
        "\n",
        "plt.show()"
      ],
      "metadata": {
        "id": "2jqOUPhg0QUa"
      },
      "execution_count": null,
      "outputs": []
    },
    {
      "cell_type": "markdown",
      "source": [
        "**GRÁFICO COM SEABORN**"
      ],
      "metadata": {
        "id": "5YLsQ4wT2p5y"
      }
    },
    {
      "cell_type": "code",
      "source": [
        "df_rafael = pd.read_csv('https://raw.githubusercontent.com/scadriano/iec2023_1_AeB/main/01.%20Conceitua%C3%A7%C3%A3o%20de%20Python/hospital.csv')\n",
        "\n",
        "sns.set_theme()\n",
        "\n",
        "sns.scatterplot(x='Idade', y='Temperatura', hue='Nome', data=df_rafael)\n",
        "\n",
        "plt.xlabel('Idade')\n",
        "plt.ylabel('Temperatura')\n",
        "\n",
        "plt.show()"
      ],
      "metadata": {
        "id": "uQmK_TjeCa4O"
      },
      "execution_count": null,
      "outputs": []
    }
  ]
}