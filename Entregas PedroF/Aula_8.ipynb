{
  "nbformat": 4,
  "nbformat_minor": 0,
  "metadata": {
    "colab": {
      "provenance": [],
      "mount_file_id": "1Ouavcm38DSkcfCXemAz1Pd8dWo8xGKNc",
      "authorship_tag": "ABX9TyOPvSxPm6gODaimJfOXqG1j",
      "include_colab_link": true
    },
    "kernelspec": {
      "name": "python3",
      "display_name": "Python 3"
    },
    "language_info": {
      "name": "python"
    }
  },
  "cells": [
    {
      "cell_type": "markdown",
      "metadata": {
        "id": "view-in-github",
        "colab_type": "text"
      },
      "source": [
        "<a href=\"https://colab.research.google.com/github/pedrocsf/iec2023_1_AeB/blob/main/Entregas%20PedroF%20/%20Aula_8.ipynb\" target=\"_parent\"><img src=\"https://colab.research.google.com/assets/colab-badge.svg\" alt=\"Open In Colab\"/></a>"
      ]
    },
    {
      "cell_type": "markdown",
      "source": [
        "***Introdução à Engenharia de Computação***"
      ],
      "metadata": {
        "id": "jFhQpKhqguYD"
      }
    },
    {
      "cell_type": "code",
      "source": [
        "with open(\"2.txt\", 'w') as ai:\n",
        "    ai.write(\"123\")\n",
        "\n",
        "with open(\"2.txt\", 'r') as a:\n",
        "    print(a.read())"
      ],
      "metadata": {
        "colab": {
          "base_uri": "https://localhost:8080/"
        },
        "id": "MsRYee4xg6FO",
        "outputId": "e6e6e070-2b9c-4cb4-b069-e02026352c2b"
      },
      "execution_count": 37,
      "outputs": [
        {
          "output_type": "stream",
          "name": "stdout",
          "text": [
            "123\n"
          ]
        }
      ]
    }
  ]
}
