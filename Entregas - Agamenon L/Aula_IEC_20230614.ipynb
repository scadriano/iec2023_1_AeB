{
  "nbformat": 4,
  "nbformat_minor": 0,
  "metadata": {
    "colab": {
      "provenance": [],
      "mount_file_id": "14WYHG5cZ7kPARKti2TL4_FJ7_RLui_eZ",
      "authorship_tag": "ABX9TyPHhlOwZt6hsN879q2Bb3gz",
      "include_colab_link": true
    },
    "kernelspec": {
      "name": "python3",
      "display_name": "Python 3"
    },
    "language_info": {
      "name": "python"
    }
  },
  "cells": [
    {
      "cell_type": "markdown",
      "metadata": {
        "id": "view-in-github",
        "colab_type": "text"
      },
      "source": [
        "<a href=\"https://colab.research.google.com/github/agamenonlv/iec2023_1_AeB/blob/main/Entregas%20-%20Agamenon%20L/Aula_IEC_20230614.ipynb\" target=\"_parent\"><img src=\"https://colab.research.google.com/assets/colab-badge.svg\" alt=\"Open In Colab\"/></a>"
      ]
    },
    {
      "cell_type": "markdown",
      "source": [
        "## Introdução à Engenharia de Computação"
      ],
      "metadata": {
        "id": "1oxsUg7Fgr3Q"
      }
    },
    {
      "cell_type": "code",
      "source": [
        "from platform import python_version\n",
        "print(f'A versão em uso é {python_version()}.')"
      ],
      "metadata": {
        "colab": {
          "base_uri": "https://localhost:8080/"
        },
        "id": "-d1PcFl_hBE3",
        "outputId": "7886558c-0e7b-42c8-8309-4fe196d1ae7b"
      },
      "execution_count": 1,
      "outputs": [
        {
          "output_type": "stream",
          "name": "stdout",
          "text": [
            "A versão em uso é 3.10.12.\n"
          ]
        }
      ]
    },
    {
      "cell_type": "code",
      "source": [
        "# Verificar se o Python está funcionando\n",
        "print('Bye, bye, World!')"
      ],
      "metadata": {
        "colab": {
          "base_uri": "https://localhost:8080/"
        },
        "id": "kIXKJwbziMqN",
        "outputId": "eaabb484-e9d5-43c0-f728-04ddd7fcd401"
      },
      "execution_count": 3,
      "outputs": [
        {
          "output_type": "stream",
          "name": "stdout",
          "text": [
            "Bye, bye, World!\n"
          ]
        }
      ]
    },
    {
      "cell_type": "markdown",
      "source": [
        "## Operadores Aritméticos"
      ],
      "metadata": {
        "id": "DeLzoGvaiqkL"
      }
    },
    {
      "cell_type": "code",
      "source": [
        "# Adição\n",
        "1+1"
      ],
      "metadata": {
        "colab": {
          "base_uri": "https://localhost:8080/"
        },
        "id": "9rn0Re-OiuM6",
        "outputId": "bd6216c5-9c18-4794-b257-20f3b66860ee"
      },
      "execution_count": 4,
      "outputs": [
        {
          "output_type": "execute_result",
          "data": {
            "text/plain": [
              "2"
            ]
          },
          "metadata": {},
          "execution_count": 4
        }
      ]
    },
    {
      "cell_type": "code",
      "source": [
        "# Subtração\n",
        "2-1"
      ],
      "metadata": {
        "colab": {
          "base_uri": "https://localhost:8080/"
        },
        "id": "DPG5OETwiwsC",
        "outputId": "e23fd20e-ca04-4086-fa63-1cf081894bd2"
      },
      "execution_count": 5,
      "outputs": [
        {
          "output_type": "execute_result",
          "data": {
            "text/plain": [
              "1"
            ]
          },
          "metadata": {},
          "execution_count": 5
        }
      ]
    },
    {
      "cell_type": "code",
      "source": [
        "# Multiplicação\n",
        "2*2"
      ],
      "metadata": {
        "colab": {
          "base_uri": "https://localhost:8080/"
        },
        "id": "wK3bNtKMiygN",
        "outputId": "6dd87cbd-4123-4016-d95d-a9fbd47d7946"
      },
      "execution_count": 6,
      "outputs": [
        {
          "output_type": "execute_result",
          "data": {
            "text/plain": [
              "4"
            ]
          },
          "metadata": {},
          "execution_count": 6
        }
      ]
    },
    {
      "cell_type": "code",
      "source": [
        "# Divisão\n",
        "3/2"
      ],
      "metadata": {
        "colab": {
          "base_uri": "https://localhost:8080/"
        },
        "id": "p1oH9dBbi1aN",
        "outputId": "c0163db5-67ce-45e6-f22b-249111996ce9"
      },
      "execution_count": 7,
      "outputs": [
        {
          "output_type": "execute_result",
          "data": {
            "text/plain": [
              "1.5"
            ]
          },
          "metadata": {},
          "execution_count": 7
        }
      ]
    },
    {
      "cell_type": "code",
      "source": [
        "# Potência\n",
        "4 ** 2"
      ],
      "metadata": {
        "colab": {
          "base_uri": "https://localhost:8080/"
        },
        "id": "VDtHcgWYjRu2",
        "outputId": "ba7494b9-af33-429c-89bd-7d1e3a4ed59a"
      },
      "execution_count": 8,
      "outputs": [
        {
          "output_type": "execute_result",
          "data": {
            "text/plain": [
              "16"
            ]
          },
          "metadata": {},
          "execution_count": 8
        }
      ]
    },
    {
      "cell_type": "code",
      "source": [
        "# Módulo (resto da divisão)\n",
        "10 % 3"
      ],
      "metadata": {
        "colab": {
          "base_uri": "https://localhost:8080/"
        },
        "id": "Gus946-sjU4T",
        "outputId": "34cacbd6-961b-4f80-dd80-eb98024ab812"
      },
      "execution_count": 9,
      "outputs": [
        {
          "output_type": "execute_result",
          "data": {
            "text/plain": [
              "1"
            ]
          },
          "metadata": {},
          "execution_count": 9
        }
      ]
    },
    {
      "cell_type": "markdown",
      "source": [
        "## Tipos de dados (Type)"
      ],
      "metadata": {
        "id": "7-Y9js13jyst"
      }
    },
    {
      "cell_type": "code",
      "source": [
        "# Qual o tipo do (?) -> Inteiro\n",
        "type(5)"
      ],
      "metadata": {
        "colab": {
          "base_uri": "https://localhost:8080/"
        },
        "id": "NCddOT-Uj3sm",
        "outputId": "5f91eae3-46a0-4118-c0f5-cfcdd250cfbb"
      },
      "execution_count": 10,
      "outputs": [
        {
          "output_type": "execute_result",
          "data": {
            "text/plain": [
              "int"
            ]
          },
          "metadata": {},
          "execution_count": 10
        }
      ]
    },
    {
      "cell_type": "code",
      "source": [
        "# Qual o tipo do (?) -> Float = Decimal\n",
        "type(5.0)"
      ],
      "metadata": {
        "colab": {
          "base_uri": "https://localhost:8080/"
        },
        "id": "JWlz-Cn0j_b2",
        "outputId": "2982c4b3-b47c-4042-8154-7a358381ad85"
      },
      "execution_count": 11,
      "outputs": [
        {
          "output_type": "execute_result",
          "data": {
            "text/plain": [
              "float"
            ]
          },
          "metadata": {},
          "execution_count": 11
        }
      ]
    },
    {
      "cell_type": "code",
      "source": [
        "# Qual o tipo do (?) -> String\n",
        "a = 'Estudando Python!'\n",
        "type(a)"
      ],
      "metadata": {
        "colab": {
          "base_uri": "https://localhost:8080/"
        },
        "id": "ckbNJEbfkFMn",
        "outputId": "1e69a046-003d-499d-a15a-d4a36a28e018"
      },
      "execution_count": 12,
      "outputs": [
        {
          "output_type": "execute_result",
          "data": {
            "text/plain": [
              "str"
            ]
          },
          "metadata": {},
          "execution_count": 12
        }
      ]
    },
    {
      "cell_type": "markdown",
      "source": [
        "## Condicional if"
      ],
      "metadata": {
        "id": "m0Ve-4Erkbnq"
      }
    },
    {
      "cell_type": "code",
      "source": [
        "# Condicional if (se)\n",
        "if 5 > 2:\n",
        "  print('A sentença é verdadeira!')"
      ],
      "metadata": {
        "colab": {
          "base_uri": "https://localhost:8080/"
        },
        "id": "ZmKolqt1kdFd",
        "outputId": "721df53f-8f90-4a94-d86d-19b67edbf7fb"
      },
      "execution_count": 13,
      "outputs": [
        {
          "output_type": "stream",
          "name": "stdout",
          "text": [
            "A sentença é verdadeira!\n"
          ]
        }
      ]
    },
    {
      "cell_type": "code",
      "source": [
        "# condicional if ... else\n",
        "if 5 < 2:\n",
        "  print('A sentença é verdadeira!')\n",
        "else:\n",
        "  print('A sentença é falsa!')"
      ],
      "metadata": {
        "colab": {
          "base_uri": "https://localhost:8080/"
        },
        "id": "AUAQYtfnko7f",
        "outputId": "0f193e83-e103-4072-a55d-a4baf1c4c985"
      },
      "execution_count": 14,
      "outputs": [
        {
          "output_type": "stream",
          "name": "stdout",
          "text": [
            "A sentença é falsa!\n"
          ]
        }
      ]
    },
    {
      "cell_type": "code",
      "source": [
        "# Condicional if...else com variável\n",
        "dia = \"Quarta-feira\"\n",
        "if dia == 'Sexta-feira':\n",
        "  print('Hoje fará sol!')\n",
        "else:\n",
        "  print('Hoje vai chover!')"
      ],
      "metadata": {
        "colab": {
          "base_uri": "https://localhost:8080/"
        },
        "id": "D6nMY3lzk0fQ",
        "outputId": "e2909930-5607-40fb-ce7c-0176c4840253"
      },
      "execution_count": 15,
      "outputs": [
        {
          "output_type": "stream",
          "name": "stdout",
          "text": [
            "Hoje vai chover!\n"
          ]
        }
      ]
    },
    {
      "cell_type": "markdown",
      "source": [
        "## Manipulando arquivos"
      ],
      "metadata": {
        "id": "34xd5DBClaPx"
      }
    },
    {
      "cell_type": "markdown",
      "source": [
        "Lendo arquivos (.txt)"
      ],
      "metadata": {
        "id": "Q7O2gAu9lrNJ"
      }
    },
    {
      "cell_type": "code",
      "source": [
        "# Abrindo o arquivo para leitura\n",
        "a1 = open('/content/drive/MyDrive/aula.txt', 'r')"
      ],
      "metadata": {
        "id": "PpyefL_Ple9k"
      },
      "execution_count": 18,
      "outputs": []
    },
    {
      "cell_type": "code",
      "source": [
        "# Lendo o arquivo\n",
        "print(a1.read())"
      ],
      "metadata": {
        "colab": {
          "base_uri": "https://localhost:8080/"
        },
        "id": "DlR7ro7bnpEN",
        "outputId": "6684d664-a02c-4e95-9c9f-a01979013a19"
      },
      "execution_count": 19,
      "outputs": [
        {
          "output_type": "stream",
          "name": "stdout",
          "text": [
            "Jesus está voltando! Prepare-se!\n",
            "\n"
          ]
        }
      ]
    },
    {
      "cell_type": "markdown",
      "source": [
        "## Gravando arquivos (.txt)"
      ],
      "metadata": {
        "id": "9pcAVvzkoKBB"
      }
    },
    {
      "cell_type": "code",
      "source": [
        "# Abrindo o arquivo para gravação\n",
        "a2 = open('/content/drive/MyDrive/arquivo2.txt', 'w')"
      ],
      "metadata": {
        "id": "sueFhywAoNtJ"
      },
      "execution_count": 25,
      "outputs": []
    },
    {
      "cell_type": "code",
      "source": [
        "# Gravando no arquivo\n",
        "a2.write('Aprendendo Python!')"
      ],
      "metadata": {
        "colab": {
          "base_uri": "https://localhost:8080/"
        },
        "id": "HNW9w5Rzoo2h",
        "outputId": "cf4c00c8-d528-4aab-a0e9-e77e7829650f"
      },
      "execution_count": 23,
      "outputs": [
        {
          "output_type": "execute_result",
          "data": {
            "text/plain": [
              "18"
            ]
          },
          "metadata": {},
          "execution_count": 23
        }
      ]
    },
    {
      "cell_type": "code",
      "source": [
        "# Imprimindo o arquivo\n",
        "a2 = open('/content/drive/MyDrive/arquivo2.txt', 'r')\n",
        "print(a2.read())"
      ],
      "metadata": {
        "colab": {
          "base_uri": "https://localhost:8080/"
        },
        "id": "yh16qgpnpyQm",
        "outputId": "32c97ec5-1c00-410d-cbf8-a4f5f1280faf"
      },
      "execution_count": 27,
      "outputs": [
        {
          "output_type": "stream",
          "name": "stdout",
          "text": [
            "Aprendendo Python!\n"
          ]
        }
      ]
    }
  ]
}