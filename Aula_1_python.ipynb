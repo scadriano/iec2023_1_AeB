{
  "nbformat": 4,
  "nbformat_minor": 0,
  "metadata": {
    "colab": {
      "provenance": [],
      "toc_visible": true,
      "authorship_tag": "ABX9TyMjD+x7c911xF9REjV4I4kT",
      "include_colab_link": true
    },
    "kernelspec": {
      "name": "python3",
      "display_name": "Python 3"
    },
    "language_info": {
      "name": "python"
    }
  },
  "cells": [
    {
      "cell_type": "markdown",
      "metadata": {
        "id": "view-in-github",
        "colab_type": "text"
      },
      "source": [
        "<a href=\"https://colab.research.google.com/github/Lucas-Siade/iec2023_1_AeB/blob/main/Aula_1_python.ipynb\" target=\"_parent\"><img src=\"https://colab.research.google.com/assets/colab-badge.svg\" alt=\"Open In Colab\"/></a>"
      ]
    },
    {
      "cell_type": "markdown",
      "source": [
        "# Introdução à Engenharia de Computação\n"
      ],
      "metadata": {
        "id": "GhmZhnZm_AYO"
      }
    },
    {
      "cell_type": "code",
      "source": [
        "from platform import python_version\n",
        "print(f\"A versão em uso é {python_version()}.\")"
      ],
      "metadata": {
        "colab": {
          "base_uri": "https://localhost:8080/"
        },
        "id": "YADnaWDaCLWo",
        "outputId": "eea34e9f-31fb-48c2-9984-62b93badfa8a"
      },
      "execution_count": 1,
      "outputs": [
        {
          "output_type": "stream",
          "name": "stdout",
          "text": [
            "A versão em uso é 3.10.12.\n"
          ]
        }
      ]
    },
    {
      "cell_type": "code",
      "source": [
        "# Verificar s o Python está funcionando\n",
        "print(\"Bye bye, World!\")"
      ],
      "metadata": {
        "colab": {
          "base_uri": "https://localhost:8080/"
        },
        "id": "a01Q4WOhCfMJ",
        "outputId": "1b844caf-8b02-44c1-d49e-9c59996b903f"
      },
      "execution_count": 2,
      "outputs": [
        {
          "output_type": "stream",
          "name": "stdout",
          "text": [
            "Bye bye, World!\n"
          ]
        }
      ]
    },
    {
      "cell_type": "markdown",
      "source": [
        "# Operadores Aritméticos\n"
      ],
      "metadata": {
        "id": "k2VwsIi9BFoa"
      }
    },
    {
      "cell_type": "code",
      "execution_count": 3,
      "metadata": {
        "colab": {
          "base_uri": "https://localhost:8080/"
        },
        "id": "J-A36j2WvLMw",
        "outputId": "53b89baa-441b-404b-fdef-0ecb2b36a491"
      },
      "outputs": [
        {
          "output_type": "execute_result",
          "data": {
            "text/plain": [
              "2"
            ]
          },
          "metadata": {},
          "execution_count": 3
        }
      ],
      "source": [
        "#Adição\n",
        "1 + 1"
      ]
    },
    {
      "cell_type": "code",
      "source": [
        "#Subtração\n",
        "2 - 1"
      ],
      "metadata": {
        "id": "UX11EEkM0hdm",
        "colab": {
          "base_uri": "https://localhost:8080/"
        },
        "outputId": "8aa1ff2f-6ad4-4541-dc20-03c8e048b4f0"
      },
      "execution_count": 4,
      "outputs": [
        {
          "output_type": "execute_result",
          "data": {
            "text/plain": [
              "1"
            ]
          },
          "metadata": {},
          "execution_count": 4
        }
      ]
    },
    {
      "cell_type": "code",
      "source": [
        "#Multiplicação\n",
        "2 * 2"
      ],
      "metadata": {
        "id": "Zl3UjIG20h6W",
        "colab": {
          "base_uri": "https://localhost:8080/"
        },
        "outputId": "13b9e5f7-fee6-43df-bbe8-84050e8f55b3"
      },
      "execution_count": 5,
      "outputs": [
        {
          "output_type": "execute_result",
          "data": {
            "text/plain": [
              "4"
            ]
          },
          "metadata": {},
          "execution_count": 5
        }
      ]
    },
    {
      "cell_type": "code",
      "source": [
        "#Divisão\n",
        "3 / 2"
      ],
      "metadata": {
        "id": "oWtm4VmA0h8e",
        "colab": {
          "base_uri": "https://localhost:8080/"
        },
        "outputId": "6235f412-f69c-4235-8a96-bdce55eed90d"
      },
      "execution_count": 7,
      "outputs": [
        {
          "output_type": "execute_result",
          "data": {
            "text/plain": [
              "1.5"
            ]
          },
          "metadata": {},
          "execution_count": 7
        }
      ]
    },
    {
      "cell_type": "code",
      "source": [
        "#Potência\n",
        "4 ** 2"
      ],
      "metadata": {
        "colab": {
          "base_uri": "https://localhost:8080/"
        },
        "id": "4AAj0hUb0h-u",
        "outputId": "ef6c86de-0903-4d8e-d6f9-68059e9b4b30"
      },
      "execution_count": 8,
      "outputs": [
        {
          "output_type": "execute_result",
          "data": {
            "text/plain": [
              "16"
            ]
          },
          "metadata": {},
          "execution_count": 8
        }
      ]
    },
    {
      "cell_type": "code",
      "source": [
        "#Módulo (Resto da divisão)\n",
        "10 % 3"
      ],
      "metadata": {
        "colab": {
          "base_uri": "https://localhost:8080/"
        },
        "id": "HkWhKgpD01C0",
        "outputId": "7d86d264-3d47-4e2d-a858-d1fb77b85f4f"
      },
      "execution_count": 9,
      "outputs": [
        {
          "output_type": "execute_result",
          "data": {
            "text/plain": [
              "1"
            ]
          },
          "metadata": {},
          "execution_count": 9
        }
      ]
    },
    {
      "cell_type": "markdown",
      "source": [
        "# Tipo de Dados (Type)"
      ],
      "metadata": {
        "id": "T_fBHb8bBJ2N"
      }
    },
    {
      "cell_type": "code",
      "source": [
        "# Qual o tipo do (?) -> Inteiro\n",
        "type(5)"
      ],
      "metadata": {
        "colab": {
          "base_uri": "https://localhost:8080/"
        },
        "id": "xVkoofNHC7Xv",
        "outputId": "eb4c40ff-1ef9-46a6-c166-141a8fc0dd9e"
      },
      "execution_count": 10,
      "outputs": [
        {
          "output_type": "execute_result",
          "data": {
            "text/plain": [
              "int"
            ]
          },
          "metadata": {},
          "execution_count": 10
        }
      ]
    },
    {
      "cell_type": "code",
      "source": [
        "# Qual o tipo do (?) -> Float - Decimal\n",
        "type(5.0)"
      ],
      "metadata": {
        "colab": {
          "base_uri": "https://localhost:8080/"
        },
        "id": "22Wz33LjDBya",
        "outputId": "3bfaafbd-f8c8-4509-ac24-f3e9a2bf486f"
      },
      "execution_count": 11,
      "outputs": [
        {
          "output_type": "execute_result",
          "data": {
            "text/plain": [
              "float"
            ]
          },
          "metadata": {},
          "execution_count": 11
        }
      ]
    },
    {
      "cell_type": "code",
      "source": [
        "# Qual o tipo do (?) -> String\n",
        "a = \"Estudando Python!\"\n",
        "type(a)"
      ],
      "metadata": {
        "colab": {
          "base_uri": "https://localhost:8080/"
        },
        "id": "ICoFGlhZDIRM",
        "outputId": "bc102065-41dc-4571-ed1a-f20210ece93e"
      },
      "execution_count": 13,
      "outputs": [
        {
          "output_type": "execute_result",
          "data": {
            "text/plain": [
              "str"
            ]
          },
          "metadata": {},
          "execution_count": 13
        }
      ]
    },
    {
      "cell_type": "markdown",
      "source": [
        "# Condicional if"
      ],
      "metadata": {
        "id": "2s6owJs-BRYb"
      }
    },
    {
      "cell_type": "code",
      "source": [
        "# Condicional if (Se)\n",
        "if 5 > 2:\n",
        "  print(\"A sentença é verdadeira!\")"
      ],
      "metadata": {
        "colab": {
          "base_uri": "https://localhost:8080/"
        },
        "id": "nrvg0CXRDW6_",
        "outputId": "9646138b-940a-44d9-89d3-f3685230dee4"
      },
      "execution_count": 14,
      "outputs": [
        {
          "output_type": "stream",
          "name": "stdout",
          "text": [
            "A sentença é verdadeira!\n"
          ]
        }
      ]
    },
    {
      "cell_type": "code",
      "source": [
        "#Condicional if... else\n",
        "\n",
        "if 5 < 2:\n",
        "  print(\"A sentença é verdadeira.\")\n",
        "else:\n",
        "  print(\"A sentença é falsa.\")"
      ],
      "metadata": {
        "colab": {
          "base_uri": "https://localhost:8080/"
        },
        "id": "488VaKZ_10e9",
        "outputId": "fa850f1c-8731-4794-fb71-3b408c3007ef"
      },
      "execution_count": 15,
      "outputs": [
        {
          "output_type": "stream",
          "name": "stdout",
          "text": [
            "A sentença é falsa.\n"
          ]
        }
      ]
    },
    {
      "cell_type": "code",
      "source": [
        "#Condicional if... else com variável\n",
        "dia = \"Quarta-feira\"\n",
        "\n",
        "if dia == \"Sexta-feira\":\n",
        "  print(\"Hoje fará sol.\")\n",
        "else:\n",
        "  print(\"Hoje vai chover.\")\n",
        "\n",
        "\n",
        "type(dia)"
      ],
      "metadata": {
        "colab": {
          "base_uri": "https://localhost:8080/"
        },
        "id": "7_8zqSE42d_c",
        "outputId": "777306e7-ddb9-4313-9fc7-b86be41f8c83"
      },
      "execution_count": null,
      "outputs": [
        {
          "output_type": "stream",
          "name": "stdout",
          "text": [
            "Hoje vai chover.\n"
          ]
        },
        {
          "output_type": "execute_result",
          "data": {
            "text/plain": [
              "str"
            ]
          },
          "metadata": {},
          "execution_count": 18
        }
      ]
    },
    {
      "cell_type": "markdown",
      "source": [
        "# Manipulando arquivos"
      ],
      "metadata": {
        "id": "nf3nayG4BVl6"
      }
    },
    {
      "cell_type": "code",
      "source": [
        "from google.colab import drive\n",
        "drive.mount('/content/drive')"
      ],
      "metadata": {
        "colab": {
          "base_uri": "https://localhost:8080/"
        },
        "id": "aVNnb4lLDqqW",
        "outputId": "ae535a58-5f2b-4bc4-ffd4-7886ab95c212"
      },
      "execution_count": 16,
      "outputs": [
        {
          "output_type": "stream",
          "name": "stdout",
          "text": [
            "Mounted at /content/drive\n"
          ]
        }
      ]
    },
    {
      "cell_type": "markdown",
      "source": [
        "# Lendo arquivos (.txt)"
      ],
      "metadata": {
        "id": "IMgzPqNRBarj"
      }
    },
    {
      "cell_type": "code",
      "source": [
        "# Abrindo o arquivo para Leitura\n",
        "a1 = open('/content/drive/MyDrive/Aaaaaaaaa/aaaaaaaaaaaa.txt', \"r\")"
      ],
      "metadata": {
        "id": "n56bhgSTEBQp"
      },
      "execution_count": 24,
      "outputs": []
    },
    {
      "cell_type": "code",
      "source": [
        "# Lendo o arquivo\n",
        "print(a1.read())"
      ],
      "metadata": {
        "colab": {
          "base_uri": "https://localhost:8080/"
        },
        "id": "bcvX6-vpEK2F",
        "outputId": "4f651420-4541-4a06-8e2d-0489c4fc8fdb"
      },
      "execution_count": 25,
      "outputs": [
        {
          "output_type": "stream",
          "name": "stdout",
          "text": [
            "Opaaaaaaaaa\n"
          ]
        }
      ]
    },
    {
      "cell_type": "markdown",
      "source": [
        "# Gravando arquivos (.txt)"
      ],
      "metadata": {
        "id": "6P7HdMJKBe2-"
      }
    },
    {
      "cell_type": "code",
      "source": [
        "# Abrindo o arquivo para gravação\n",
        "a2 = open('/content/drive/MyDrive/Aaaaaaaaa/aaaaaaaaaaaa.txt', \"w\")"
      ],
      "metadata": {
        "id": "DEd5kReR30Go"
      },
      "execution_count": 19,
      "outputs": []
    },
    {
      "cell_type": "code",
      "source": [
        "# Gravando no arquivo\n",
        "a2.write(\"Opaaaaaaaaa\")"
      ],
      "metadata": {
        "colab": {
          "base_uri": "https://localhost:8080/"
        },
        "id": "yorb8_8pEdM6",
        "outputId": "b42b1a4d-ac0a-47e3-9113-f98f08a36c45"
      },
      "execution_count": 20,
      "outputs": [
        {
          "output_type": "execute_result",
          "data": {
            "text/plain": [
              "11"
            ]
          },
          "metadata": {},
          "execution_count": 20
        }
      ]
    },
    {
      "cell_type": "code",
      "source": [
        "# Abrindo o arquivo para leitura\n",
        "a2 = open('/content/drive/MyDrive/Aaaaaaaaa/aaaaaaaaaaaa.txt', \"r\")"
      ],
      "metadata": {
        "id": "aN4NZUgdEmRK"
      },
      "execution_count": 21,
      "outputs": []
    },
    {
      "cell_type": "code",
      "source": [
        "# Imprimindo o arquivo\n",
        "print(a2.read())"
      ],
      "metadata": {
        "colab": {
          "base_uri": "https://localhost:8080/"
        },
        "id": "8BHLgUqQEqVh",
        "outputId": "21d5687f-74cd-4e58-f7d9-2e6ea1203ee4"
      },
      "execution_count": 22,
      "outputs": [
        {
          "output_type": "stream",
          "name": "stdout",
          "text": [
            "Opaaaaaaaaa\n"
          ]
        }
      ]
    }
  ]
}