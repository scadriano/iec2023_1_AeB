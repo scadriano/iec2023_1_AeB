{
  "nbformat": 4,
  "nbformat_minor": 0,
  "metadata": {
    "colab": {
      "provenance": [],
      "mount_file_id": "1UmUksvzp9IrnlHC42bKV5esvIXLbKJ9v",
      "authorship_tag": "ABX9TyMVonFHMl4jpBzdAA5G25BB",
      "include_colab_link": true
    },
    "kernelspec": {
      "name": "python3",
      "display_name": "Python 3"
    },
    "language_info": {
      "name": "python"
    }
  },
  "cells": [
    {
      "cell_type": "markdown",
      "metadata": {
        "id": "view-in-github",
        "colab_type": "text"
      },
      "source": [
        "<a href=\"https://colab.research.google.com/github/Gabryel-Borges/iec2023_1_AeB/blob/main/Entregas%20-%20Adriano%20Santana/%20AulaIPythonIEC.ipynb\" target=\"_parent\"><img src=\"https://colab.research.google.com/assets/colab-badge.svg\" alt=\"Open In Colab\"/></a>"
      ]
    },
    {
      "cell_type": "code",
      "execution_count": null,
      "metadata": {
        "id": "wbfgS1Y9vQUa"
      },
      "outputs": [],
      "source": []
    },
    {
      "cell_type": "markdown",
      "source": [
        "###Introdução a engenharia de computação\n"
      ],
      "metadata": {
        "id": "BUnfutqcyaJB"
      }
    },
    {
      "cell_type": "code",
      "source": [
        "from platform import python_version\n",
        "print(f'A versão em uso é {python_version()}')"
      ],
      "metadata": {
        "colab": {
          "base_uri": "https://localhost:8080/"
        },
        "id": "Gi4Aw7PTyhoK",
        "outputId": "bd19fe74-7639-4b28-ea00-69274bd9460f"
      },
      "execution_count": null,
      "outputs": [
        {
          "output_type": "stream",
          "name": "stdout",
          "text": [
            "A versão em uso é 3.10.12\n"
          ]
        }
      ]
    },
    {
      "cell_type": "code",
      "source": [
        "print('Bye, Bye Mundo')"
      ],
      "metadata": {
        "colab": {
          "base_uri": "https://localhost:8080/"
        },
        "id": "04N9HsYb0Jw_",
        "outputId": "03fb30ab-9d83-41c5-f216-5313424e866f"
      },
      "execution_count": null,
      "outputs": [
        {
          "output_type": "stream",
          "name": "stdout",
          "text": [
            "Bye, Bye Mundo\n"
          ]
        }
      ]
    },
    {
      "cell_type": "markdown",
      "source": [
        "#Adição"
      ],
      "metadata": {
        "id": "cSwBDGkh0h60"
      }
    },
    {
      "cell_type": "code",
      "source": [
        "1 + 1"
      ],
      "metadata": {
        "colab": {
          "base_uri": "https://localhost:8080/"
        },
        "id": "-66cHh4H0fDF",
        "outputId": "66f75825-c31a-45a6-9859-bba5d02722ab"
      },
      "execution_count": null,
      "outputs": [
        {
          "output_type": "execute_result",
          "data": {
            "text/plain": [
              "2"
            ]
          },
          "metadata": {},
          "execution_count": 5
        }
      ]
    },
    {
      "cell_type": "markdown",
      "source": [
        "#Subtração"
      ],
      "metadata": {
        "id": "6G1V3Ll70rQV"
      }
    },
    {
      "cell_type": "code",
      "source": [
        "1 - 3"
      ],
      "metadata": {
        "colab": {
          "base_uri": "https://localhost:8080/"
        },
        "id": "dtiXopdA0u5V",
        "outputId": "0705a4ea-2f90-4fe1-ba64-dcea8170571d"
      },
      "execution_count": null,
      "outputs": [
        {
          "output_type": "execute_result",
          "data": {
            "text/plain": [
              "-2"
            ]
          },
          "metadata": {},
          "execution_count": 6
        }
      ]
    },
    {
      "cell_type": "markdown",
      "source": [
        "#Multiplicação"
      ],
      "metadata": {
        "id": "djuybgIv0yT-"
      }
    },
    {
      "cell_type": "code",
      "source": [
        "3 * 3"
      ],
      "metadata": {
        "colab": {
          "base_uri": "https://localhost:8080/"
        },
        "id": "6RvgLamY034-",
        "outputId": "fb023188-e643-4aea-9910-c59240accec7"
      },
      "execution_count": null,
      "outputs": [
        {
          "output_type": "execute_result",
          "data": {
            "text/plain": [
              "9"
            ]
          },
          "metadata": {},
          "execution_count": 7
        }
      ]
    },
    {
      "cell_type": "markdown",
      "source": [
        "#Divisão"
      ],
      "metadata": {
        "id": "EvYccmk508lU"
      }
    },
    {
      "cell_type": "code",
      "source": [
        "4 / 2"
      ],
      "metadata": {
        "colab": {
          "base_uri": "https://localhost:8080/"
        },
        "id": "AvgPrfRg1AIs",
        "outputId": "ce7d9746-3a9f-457a-8e22-4325d84bd527"
      },
      "execution_count": null,
      "outputs": [
        {
          "output_type": "execute_result",
          "data": {
            "text/plain": [
              "2.0"
            ]
          },
          "metadata": {},
          "execution_count": 8
        }
      ]
    },
    {
      "cell_type": "code",
      "source": [
        "#tipo de dado\n",
        "a = 'Python'\n",
        "type(a)"
      ],
      "metadata": {
        "colab": {
          "base_uri": "https://localhost:8080/"
        },
        "id": "cpb8F50I1nur",
        "outputId": "35556a11-8320-497d-bc61-dfffeb8c9e99"
      },
      "execution_count": null,
      "outputs": [
        {
          "output_type": "execute_result",
          "data": {
            "text/plain": [
              "str"
            ]
          },
          "metadata": {},
          "execution_count": 9
        }
      ]
    },
    {
      "cell_type": "code",
      "source": [
        "#tipo de dado\n",
        "b = 7.90\n",
        "type(b)"
      ],
      "metadata": {
        "colab": {
          "base_uri": "https://localhost:8080/"
        },
        "id": "JKoav9QJ1xWi",
        "outputId": "80a50bc5-8d54-4718-c07b-b6f4aceeece5"
      },
      "execution_count": null,
      "outputs": [
        {
          "output_type": "execute_result",
          "data": {
            "text/plain": [
              "float"
            ]
          },
          "metadata": {},
          "execution_count": 10
        }
      ]
    },
    {
      "cell_type": "code",
      "source": [
        "#condicional\n",
        "if 2 < 5:\n",
        "  print('Verdade')\n",
        "else:\n",
        "  print(\"Falso\")"
      ],
      "metadata": {
        "colab": {
          "base_uri": "https://localhost:8080/"
        },
        "id": "ZjX29xJb2CCy",
        "outputId": "5fafa184-41ac-431d-cdf4-9a820050ca3f"
      },
      "execution_count": null,
      "outputs": [
        {
          "output_type": "stream",
          "name": "stdout",
          "text": [
            "Verdade\n"
          ]
        }
      ]
    },
    {
      "cell_type": "code",
      "source": [
        "#testa uma condição\n",
        "dia = \"Sexta-feira\"\n",
        "if dia == \"Sexta-feira\":\n",
        "  print(\"Vou passear\")\n",
        "else:\n",
        "  print(\"Não vou passear\")"
      ],
      "metadata": {
        "colab": {
          "base_uri": "https://localhost:8080/"
        },
        "id": "F81R4lxY2hZS",
        "outputId": "58d214c4-712a-47fc-dfaa-c8ab2bb05904"
      },
      "execution_count": null,
      "outputs": [
        {
          "output_type": "stream",
          "name": "stdout",
          "text": [
            "Vou passear\n"
          ]
        }
      ]
    },
    {
      "cell_type": "code",
      "source": [
        "a = open(\"/content/drive/MyDrive/teste_python.txt\",\"r\")\n",
        "print(a.read())"
      ],
      "metadata": {
        "colab": {
          "base_uri": "https://localhost:8080/"
        },
        "id": "YKRGAErp3nVf",
        "outputId": "cffc0e29-a09d-4107-da63-cc720d2488fe"
      },
      "execution_count": null,
      "outputs": [
        {
          "output_type": "stream",
          "name": "stdout",
          "text": [
            "Olá mundo python\n"
          ]
        }
      ]
    },
    {
      "cell_type": "code",
      "source": [
        "b = open(\"/content/drive/MyDrive/teste_python.txt\", \"w\")\n",
        "s = \"Gabryel\"\n",
        "b.write(s)\n",
        "b = open(\"/content/drive/MyDrive/teste_python.txt\",\"r\")\n",
        "print(b.read())"
      ],
      "metadata": {
        "colab": {
          "base_uri": "https://localhost:8080/"
        },
        "id": "QJxq3NcY5Wvj",
        "outputId": "05a78667-4e1f-4062-ccb9-dd2fde057b5d"
      },
      "execution_count": null,
      "outputs": [
        {
          "output_type": "stream",
          "name": "stdout",
          "text": [
            "Gabryel\n"
          ]
        }
      ]
    }
  ]
}