{
  "nbformat": 4,
  "nbformat_minor": 0,
  "metadata": {
    "colab": {
      "provenance": [],
      "toc_visible": true,
      "mount_file_id": "1WlG799B_URjxuBrDmGzIJSSvBqR3aGmE",
      "authorship_tag": "ABX9TyMehMUX8VXgliOhpNkxVgej",
      "include_colab_link": true
    },
    "kernelspec": {
      "name": "python3",
      "display_name": "Python 3"
    },
    "language_info": {
      "name": "python"
    }
  },
  "cells": [
    {
      "cell_type": "markdown",
      "metadata": {
        "id": "view-in-github",
        "colab_type": "text"
      },
      "source": [
        "<a href=\"https://colab.research.google.com/github/GustavoFernandesdaCunha/iec2023_1_AeB/blob/main/Entregas%20-%20GustavoFIEC3_0.ipynb\" target=\"_parent\"><img src=\"https://colab.research.google.com/assets/colab-badge.svg\" alt=\"Open In Colab\"/></a>"
      ]
    },
    {
      "cell_type": "markdown",
      "source": [
        "##Introdução a EC\n",
        "\n"
      ],
      "metadata": {
        "id": "mC1X2dbhyLzV"
      }
    },
    {
      "cell_type": "code",
      "execution_count": 1,
      "metadata": {
        "colab": {
          "base_uri": "https://localhost:8080/"
        },
        "id": "MvjIuzjUvAa9",
        "outputId": "ac1bd90d-7dcd-460b-ef65-f7e5f844c6e5"
      },
      "outputs": [
        {
          "output_type": "stream",
          "name": "stdout",
          "text": [
            "A versão em uso é 3.10.12.\n"
          ]
        }
      ],
      "source": [
        "from platform import python_version\n",
        "print(f'A versão em uso é {python_version()}.')"
      ]
    },
    {
      "cell_type": "code",
      "source": [
        "# Verificar se o python funciona\n",
        "print(f'Bye bye, Universe')"
      ],
      "metadata": {
        "colab": {
          "base_uri": "https://localhost:8080/"
        },
        "id": "t_iQEO64zO67",
        "outputId": "efc32fb9-9cc0-4108-ced7-9804aee9686f"
      },
      "execution_count": 2,
      "outputs": [
        {
          "output_type": "stream",
          "name": "stdout",
          "text": [
            "Bye bye Universe\n"
          ]
        }
      ]
    },
    {
      "cell_type": "code",
      "source": [
        "#Adição\n",
        "1+1"
      ],
      "metadata": {
        "colab": {
          "base_uri": "https://localhost:8080/"
        },
        "id": "uaoI9ICYzO8L",
        "outputId": "0fca77d4-b266-4bcf-f40a-9b91846b761a"
      },
      "execution_count": 3,
      "outputs": [
        {
          "output_type": "execute_result",
          "data": {
            "text/plain": [
              "2"
            ]
          },
          "metadata": {},
          "execution_count": 3
        }
      ]
    },
    {
      "cell_type": "code",
      "source": [
        "#Subtração\n",
        "8-5"
      ],
      "metadata": {
        "colab": {
          "base_uri": "https://localhost:8080/"
        },
        "id": "1QSPQExh0b1g",
        "outputId": "77cf477a-7fff-46db-8f7f-df1ecbf0ffd8"
      },
      "execution_count": 4,
      "outputs": [
        {
          "output_type": "execute_result",
          "data": {
            "text/plain": [
              "3"
            ]
          },
          "metadata": {},
          "execution_count": 4
        }
      ]
    },
    {
      "cell_type": "code",
      "source": [
        "#Multiplicação\n",
        "7*8"
      ],
      "metadata": {
        "colab": {
          "base_uri": "https://localhost:8080/"
        },
        "id": "vVEgdM_f0hTG",
        "outputId": "b80986fe-54c3-43e9-c21e-dfd95f9d0845"
      },
      "execution_count": 5,
      "outputs": [
        {
          "output_type": "execute_result",
          "data": {
            "text/plain": [
              "56"
            ]
          },
          "metadata": {},
          "execution_count": 5
        }
      ]
    },
    {
      "cell_type": "code",
      "source": [
        "#Divisão\n",
        "1728/12"
      ],
      "metadata": {
        "colab": {
          "base_uri": "https://localhost:8080/"
        },
        "id": "MVLhu5gU0kJe",
        "outputId": "715d2cc4-c2a2-40af-b433-56fd260462ec"
      },
      "execution_count": 6,
      "outputs": [
        {
          "output_type": "execute_result",
          "data": {
            "text/plain": [
              "144.0"
            ]
          },
          "metadata": {},
          "execution_count": 6
        }
      ]
    },
    {
      "cell_type": "code",
      "source": [
        "#Potência\n",
        "7**4"
      ],
      "metadata": {
        "colab": {
          "base_uri": "https://localhost:8080/"
        },
        "id": "fgRGVlrb0qhe",
        "outputId": "83959b2d-4203-41b5-f706-c514db18b49c"
      },
      "execution_count": 7,
      "outputs": [
        {
          "output_type": "execute_result",
          "data": {
            "text/plain": [
              "2401"
            ]
          },
          "metadata": {},
          "execution_count": 7
        }
      ]
    },
    {
      "cell_type": "code",
      "source": [
        "#Módulo (resto da divisão)\n",
        "1028%3"
      ],
      "metadata": {
        "colab": {
          "base_uri": "https://localhost:8080/"
        },
        "id": "qvg2bZcJ0uIX",
        "outputId": "ef844d22-58fe-4328-cd3b-afe38fcced20"
      },
      "execution_count": 8,
      "outputs": [
        {
          "output_type": "execute_result",
          "data": {
            "text/plain": [
              "2"
            ]
          },
          "metadata": {},
          "execution_count": 8
        }
      ]
    },
    {
      "cell_type": "markdown",
      "source": [
        "##Tipos de\n"
      ],
      "metadata": {
        "id": "dPoQxkFD1ZWU"
      }
    },
    {
      "cell_type": "code",
      "source": [
        "#Qual o tipo do (?) -> INTEIRO\n",
        "type(5)"
      ],
      "metadata": {
        "colab": {
          "base_uri": "https://localhost:8080/"
        },
        "id": "EZZ9WxpK1cn1",
        "outputId": "57a3dfa9-8c95-4e39-db8a-2b7ba780bb17"
      },
      "execution_count": 11,
      "outputs": [
        {
          "output_type": "execute_result",
          "data": {
            "text/plain": [
              "int"
            ]
          },
          "metadata": {},
          "execution_count": 11
        }
      ]
    },
    {
      "cell_type": "code",
      "source": [
        "#Qual o tipo do (?) -> Float - Decimal\n",
        "type(5.6)"
      ],
      "metadata": {
        "colab": {
          "base_uri": "https://localhost:8080/"
        },
        "id": "rM5Ah19q1rkb",
        "outputId": "fb0d9178-2039-4d20-cfa7-d8aad6223ebc"
      },
      "execution_count": 12,
      "outputs": [
        {
          "output_type": "execute_result",
          "data": {
            "text/plain": [
              "float"
            ]
          },
          "metadata": {},
          "execution_count": 12
        }
      ]
    },
    {
      "cell_type": "code",
      "source": [
        "#Qual o tipo de (?) -> String\n",
        "a = 'Estundando Python'\n",
        "type(a)"
      ],
      "metadata": {
        "colab": {
          "base_uri": "https://localhost:8080/"
        },
        "id": "aZfI_WBp1zsL",
        "outputId": "6444fd95-ce9f-46fa-d777-a77a09ca1081"
      },
      "execution_count": 14,
      "outputs": [
        {
          "output_type": "execute_result",
          "data": {
            "text/plain": [
              "str"
            ]
          },
          "metadata": {},
          "execution_count": 14
        }
      ]
    },
    {
      "cell_type": "markdown",
      "source": [
        "##Condicional if"
      ],
      "metadata": {
        "id": "Nrv2Lw1A2MfS"
      }
    },
    {
      "cell_type": "code",
      "source": [
        "#Condicional if (Se)\n",
        "if 5>2:\n",
        "   print(\"A sentença é verdadeira\")"
      ],
      "metadata": {
        "colab": {
          "base_uri": "https://localhost:8080/"
        },
        "id": "Yzx_ptJh2O-7",
        "outputId": "1dc23410-612a-4de7-c2f6-55a0c0883c3e"
      },
      "execution_count": 15,
      "outputs": [
        {
          "output_type": "stream",
          "name": "stdout",
          "text": [
            "A sentença é verdadeira\n"
          ]
        }
      ]
    },
    {
      "cell_type": "code",
      "source": [
        "# Condicional if...else\n",
        "if 5 < 2:\n",
        "  print(\"A sentença é verdadeira\")\n",
        "else :\n",
        "    print(\"A sentença é falsa\")"
      ],
      "metadata": {
        "colab": {
          "base_uri": "https://localhost:8080/"
        },
        "id": "8ToFSbOM2chS",
        "outputId": "af9d4253-7a7b-481f-aedb-a3dbbbdf02a6"
      },
      "execution_count": 19,
      "outputs": [
        {
          "output_type": "stream",
          "name": "stdout",
          "text": [
            "A sentença é falsa\n"
          ]
        }
      ]
    },
    {
      "cell_type": "code",
      "source": [
        "# Condicional if...else com variável\n",
        "dia = \"Quarta-feira\"\n",
        "if dia == \"Sexta-feira\":\n",
        "       print(\"Hoje fará Sol\")\n",
        "else:\n",
        "       print(\"Hoje vai chover\")\n",
        "\n",
        "type(dia)"
      ],
      "metadata": {
        "colab": {
          "base_uri": "https://localhost:8080/"
        },
        "id": "waQxpoM629O6",
        "outputId": "199d321c-e1e6-4d23-be89-e397a166091a"
      },
      "execution_count": 30,
      "outputs": [
        {
          "output_type": "stream",
          "name": "stdout",
          "text": [
            "Hoje vai chover\n"
          ]
        },
        {
          "output_type": "execute_result",
          "data": {
            "text/plain": [
              "str"
            ]
          },
          "metadata": {},
          "execution_count": 30
        }
      ]
    }
  ]
}