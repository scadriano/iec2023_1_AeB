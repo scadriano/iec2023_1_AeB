{
  "nbformat": 4,
  "nbformat_minor": 0,
  "metadata": {
    "colab": {
      "provenance": [],
      "mount_file_id": "156ZXO_xxsfg4Lue2e-dFiyfEmP89vHcD",
      "authorship_tag": "ABX9TyPoJz//Fk8IpEp3kYxErjES",
      "include_colab_link": true
    },
    "kernelspec": {
      "name": "python3",
      "display_name": "Python 3"
    },
    "language_info": {
      "name": "python"
    }
  },
  "cells": [
    {
      "cell_type": "markdown",
      "metadata": {
        "id": "view-in-github",
        "colab_type": "text"
      },
      "source": [
        "<a href=\"https://colab.research.google.com/github/fernandomaltez/iec2023_1_AeB/blob/main/Entregas%20-%20Fernando%20Maltez%20Bezerra/Introdu%C3%A7%C3%A3o_ao_Python_Aula_1.ipynb\" target=\"_parent\"><img src=\"https://colab.research.google.com/assets/colab-badge.svg\" alt=\"Open In Colab\"/></a>"
      ]
    },
    {
      "cell_type": "markdown",
      "source": [
        "Introdução à Engenharia de Computação"
      ],
      "metadata": {
        "id": "Q9J51PQoyfax"
      }
    },
    {
      "cell_type": "code",
      "execution_count": null,
      "metadata": {
        "colab": {
          "base_uri": "https://localhost:8080/"
        },
        "id": "XeXoQa1oydWX",
        "outputId": "f296d71e-1ae7-4e7b-caf0-2fd4e0b3db5a"
      },
      "outputs": [
        {
          "output_type": "stream",
          "name": "stdout",
          "text": [
            "A versão em uso é 3.10.12.\n"
          ]
        }
      ],
      "source": [
        "from platform import python_version\n",
        "print(f'A versão em uso é {python_version()}.')"
      ]
    },
    {
      "cell_type": "code",
      "source": [
        "# Verificar se o Python está funcionando\n",
        "print('Bye Bye, World')"
      ],
      "metadata": {
        "colab": {
          "base_uri": "https://localhost:8080/"
        },
        "id": "Ilm1z8Bz0Hnk",
        "outputId": "43b2fc4d-dc1c-4a1a-997c-988eac997d70"
      },
      "execution_count": null,
      "outputs": [
        {
          "output_type": "stream",
          "name": "stdout",
          "text": [
            "Bye Bye, World\n"
          ]
        }
      ]
    },
    {
      "cell_type": "markdown",
      "source": [
        "## Operadores aritméticos"
      ],
      "metadata": {
        "id": "ESL_ey3g4xT8"
      }
    },
    {
      "cell_type": "code",
      "source": [
        "#Adição\n",
        "1+1"
      ],
      "metadata": {
        "colab": {
          "base_uri": "https://localhost:8080/"
        },
        "id": "TGHAOj1D0Xxb",
        "outputId": "d126f8c5-3680-44e7-9bfb-1058aae4850c"
      },
      "execution_count": null,
      "outputs": [
        {
          "output_type": "execute_result",
          "data": {
            "text/plain": [
              "2"
            ]
          },
          "metadata": {},
          "execution_count": 10
        }
      ]
    },
    {
      "cell_type": "code",
      "source": [
        "#Subtração\n",
        "2-1"
      ],
      "metadata": {
        "colab": {
          "base_uri": "https://localhost:8080/"
        },
        "id": "O8n4Uz5I0cIz",
        "outputId": "49aa1ff8-93c6-4868-a944-e0835eb73c80"
      },
      "execution_count": null,
      "outputs": [
        {
          "output_type": "execute_result",
          "data": {
            "text/plain": [
              "1"
            ]
          },
          "metadata": {},
          "execution_count": 11
        }
      ]
    },
    {
      "cell_type": "code",
      "source": [
        "#Multiplicação\n",
        "2 * 2"
      ],
      "metadata": {
        "colab": {
          "base_uri": "https://localhost:8080/"
        },
        "id": "13mfV3-A0hN7",
        "outputId": "c6f08729-b5db-4d7a-cbf7-ae4aa4d5ac07"
      },
      "execution_count": null,
      "outputs": [
        {
          "output_type": "execute_result",
          "data": {
            "text/plain": [
              "4"
            ]
          },
          "metadata": {},
          "execution_count": 6
        }
      ]
    },
    {
      "cell_type": "code",
      "source": [
        "#Divisão\n",
        "3 / 2"
      ],
      "metadata": {
        "colab": {
          "base_uri": "https://localhost:8080/"
        },
        "id": "dGq_jis40mAS",
        "outputId": "8d7be350-a7b6-479a-df39-182b15650a83"
      },
      "execution_count": null,
      "outputs": [
        {
          "output_type": "execute_result",
          "data": {
            "text/plain": [
              "1.5"
            ]
          },
          "metadata": {},
          "execution_count": 7
        }
      ]
    },
    {
      "cell_type": "code",
      "source": [
        "#Potência\n",
        "4 ** 2"
      ],
      "metadata": {
        "colab": {
          "base_uri": "https://localhost:8080/"
        },
        "id": "WYp_HOXV0qRb",
        "outputId": "ab2b7307-ef17-41b6-d786-7d1a65599a1b"
      },
      "execution_count": null,
      "outputs": [
        {
          "output_type": "execute_result",
          "data": {
            "text/plain": [
              "16"
            ]
          },
          "metadata": {},
          "execution_count": 8
        }
      ]
    },
    {
      "cell_type": "code",
      "source": [
        "# Módulo (resto da divisão)\n",
        "10 % 3"
      ],
      "metadata": {
        "colab": {
          "base_uri": "https://localhost:8080/"
        },
        "id": "EnFjFGrF0w3K",
        "outputId": "86992e4d-3b9e-48d1-d49c-06f0d7330458"
      },
      "execution_count": null,
      "outputs": [
        {
          "output_type": "execute_result",
          "data": {
            "text/plain": [
              "1"
            ]
          },
          "metadata": {},
          "execution_count": 9
        }
      ]
    },
    {
      "cell_type": "markdown",
      "source": [
        "## Variáveis"
      ],
      "metadata": {
        "id": "-bMxug256Wok"
      }
    },
    {
      "cell_type": "code",
      "source": [
        "# Qual o tipo do (?) -> Inteiro\n",
        "type(5)"
      ],
      "metadata": {
        "id": "jJCHc12g1S_x"
      },
      "execution_count": null,
      "outputs": []
    },
    {
      "cell_type": "code",
      "source": [
        "# Qual o tipo do (?) -> Float - Decimal\n",
        "type(5.0)"
      ],
      "metadata": {
        "id": "4GtiTXUg1jKo"
      },
      "execution_count": null,
      "outputs": []
    },
    {
      "cell_type": "code",
      "source": [
        "# Qual o tipo do (?) -> String\n",
        "a = 'Estudando Python!'\n",
        "type(a)"
      ],
      "metadata": {
        "id": "_dXIJel71tpS"
      },
      "execution_count": null,
      "outputs": []
    },
    {
      "cell_type": "markdown",
      "source": [
        "## Condicionais"
      ],
      "metadata": {
        "id": "0CuwE4fx6iDY"
      }
    },
    {
      "cell_type": "code",
      "source": [
        "# Condicional if (Se)\n",
        "if 5>2:\n",
        "  print(\"A sentença é verdadeira\")\n",
        "else:\n",
        "  print(\"A sentença é falsa\")"
      ],
      "metadata": {
        "id": "xIz9Yd_J2Hew"
      },
      "execution_count": null,
      "outputs": []
    },
    {
      "cell_type": "code",
      "source": [
        "# Condicional if . . . else com variável\n",
        "dia = \"Quarta-Feira\"\n",
        "if dia==\"Sexta-Feira\":\n",
        "  print(\"Hoje fará sol!\")\n",
        "else:\n",
        "  print(\"Hoje vai chover!\")\n",
        "\n",
        "type(dia)"
      ],
      "metadata": {
        "id": "NGWPabFg2dN3"
      },
      "execution_count": null,
      "outputs": []
    },
    {
      "cell_type": "markdown",
      "source": [
        "## Lendo arquivos"
      ],
      "metadata": {
        "id": "E6J0xUsD65Oo"
      }
    },
    {
      "cell_type": "code",
      "source": [
        "# Abrindo o arquivo para leitura\n",
        "al = open(\"/content/drive/MyDrive/Arquivo aula IEC 16062023.txt\", \"r\")"
      ],
      "metadata": {
        "id": "QuWLjqE55CxT"
      },
      "execution_count": null,
      "outputs": []
    },
    {
      "cell_type": "code",
      "source": [
        "# Lendo o arquivo\n",
        "print(al.read())"
      ],
      "metadata": {
        "colab": {
          "base_uri": "https://localhost:8080/"
        },
        "id": "f553eZB66A1a",
        "outputId": "4c9bbc32-ca26-44b9-a2e4-1d2dbc02646d"
      },
      "execution_count": null,
      "outputs": [
        {
          "output_type": "stream",
          "name": "stdout",
          "text": [
            "Aprendendo Python\n"
          ]
        }
      ]
    },
    {
      "cell_type": "markdown",
      "source": [
        "## Gravando arquivos"
      ],
      "metadata": {
        "id": "9xqg5xmw7I7X"
      }
    },
    {
      "cell_type": "code",
      "source": [
        "# Abrindo o arquivo para gravação\n",
        "a2 = open(\"/content/drive/MyDrive/Arquivo2 aula IEC 16062023.txt\", \"w\")"
      ],
      "metadata": {
        "id": "Gs4wizEN7Rt3"
      },
      "execution_count": null,
      "outputs": []
    },
    {
      "cell_type": "code",
      "source": [
        "#Gravando no arquivo\n",
        "a2.write(\"Arraial do Engenho!\")"
      ],
      "metadata": {
        "colab": {
          "base_uri": "https://localhost:8080/"
        },
        "id": "hNJXYGlb88yM",
        "outputId": "696a6cb9-df73-4301-a8ea-a5a0155b8b55"
      },
      "execution_count": null,
      "outputs": [
        {
          "output_type": "execute_result",
          "data": {
            "text/plain": [
              "19"
            ]
          },
          "metadata": {},
          "execution_count": 23
        }
      ]
    },
    {
      "cell_type": "code",
      "source": [
        "# Abrindo o arquivo para leitura\n",
        "a2 = open(\"/content/drive/MyDrive/Arquivo2 aula IEC 16062023.txt\", \"r\")"
      ],
      "metadata": {
        "id": "-w2VdwWX9MKM"
      },
      "execution_count": null,
      "outputs": []
    },
    {
      "cell_type": "code",
      "source": [
        "# Imprimindo o arquivo\n",
        "print(a2.read())"
      ],
      "metadata": {
        "colab": {
          "base_uri": "https://localhost:8080/"
        },
        "id": "cYK_IX3v9kVb",
        "outputId": "e781f38a-618f-4f8c-8ec9-e6dfc6bdd34e"
      },
      "execution_count": null,
      "outputs": [
        {
          "output_type": "stream",
          "name": "stdout",
          "text": [
            "Arraial do Engenho!\n"
          ]
        }
      ]
    }
  ]
}