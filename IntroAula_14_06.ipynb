{
  "nbformat": 4,
  "nbformat_minor": 0,
  "metadata": {
    "colab": {
      "provenance": [],
      "mount_file_id": "15L2-M09Rgaa2eF83tMDLJf659VU0Kh5G",
      "authorship_tag": "ABX9TyNWpo4R6Nuk+pYRaSN1waan",
      "include_colab_link": true
    },
    "kernelspec": {
      "name": "python3",
      "display_name": "Python 3"
    },
    "language_info": {
      "name": "python"
    }
  },
  "cells": [
    {
      "cell_type": "markdown",
      "metadata": {
        "id": "view-in-github",
        "colab_type": "text"
      },
      "source": [
        "<a href=\"https://colab.research.google.com/github/marcospaulo2ufg/iec2023_1_AeB/blob/main/IntroAula_14_06.ipynb\" target=\"_parent\"><img src=\"https://colab.research.google.com/assets/colab-badge.svg\" alt=\"Open In Colab\"/></a>"
      ]
    },
    {
      "cell_type": "markdown",
      "source": [
        "##Introdução à Engenharia da computação"
      ],
      "metadata": {
        "id": "_rdZWyFihQuN"
      }
    },
    {
      "cell_type": "code",
      "source": [
        "from platform import python_version\n",
        "print(f'A versão em uso é {python_version()}')"
      ],
      "metadata": {
        "colab": {
          "base_uri": "https://localhost:8080/"
        },
        "id": "ZzPdbMjdhVaM",
        "outputId": "78dd4e83-c898-4849-e118-7d909388c8a8"
      },
      "execution_count": 3,
      "outputs": [
        {
          "output_type": "stream",
          "name": "stdout",
          "text": [
            "A versão em uso é 3.10.12\n"
          ]
        }
      ]
    },
    {
      "cell_type": "code",
      "source": [
        "print('Tchau Mundo!')"
      ],
      "metadata": {
        "id": "payLUn-oiQ8r"
      },
      "execution_count": null,
      "outputs": []
    },
    {
      "cell_type": "markdown",
      "source": [
        "##Operadores Aritméticos"
      ],
      "metadata": {
        "id": "939KvtGcigET"
      }
    },
    {
      "cell_type": "code",
      "source": [
        "print(1 + 1)\n",
        "print(2 - 1)\n",
        "print(2 * 2)\n",
        "print(3 / 2)\n",
        "print(3 ** 2)\n",
        "print(3 % 2)"
      ],
      "metadata": {
        "colab": {
          "base_uri": "https://localhost:8080/"
        },
        "id": "lOjhEvaTiu8c",
        "outputId": "eba141ff-019f-4d5b-a964-c37bde4de0b9"
      },
      "execution_count": 7,
      "outputs": [
        {
          "output_type": "stream",
          "name": "stdout",
          "text": [
            "2\n",
            "1\n",
            "4\n",
            "1.5\n",
            "9\n",
            "1\n"
          ]
        }
      ]
    },
    {
      "cell_type": "markdown",
      "source": [
        "##Tipos de dados"
      ],
      "metadata": {
        "id": "pteipM_Yjy9h"
      }
    },
    {
      "cell_type": "code",
      "source": [
        "print(type(5))\n",
        "\n",
        "print(type(5.9))\n",
        "\n",
        "estudo = 'programação'\n",
        "print(type(estudo))"
      ],
      "metadata": {
        "id": "BNTvVOWTj1XK"
      },
      "execution_count": null,
      "outputs": []
    },
    {
      "cell_type": "markdown",
      "source": [
        "##Condicionais"
      ],
      "metadata": {
        "id": "ewPNr3tVkJiA"
      }
    },
    {
      "cell_type": "code",
      "source": [
        "if 5 > 2:\n",
        "  print('Verdade')\n",
        "\n",
        "else:\n",
        "  print('Falso')"
      ],
      "metadata": {
        "colab": {
          "base_uri": "https://localhost:8080/"
        },
        "id": "2EZqcerCkcM4",
        "outputId": "c61c509e-c6bf-4bdb-8e3d-393affb068be"
      },
      "execution_count": 10,
      "outputs": [
        {
          "output_type": "stream",
          "name": "stdout",
          "text": [
            "Verdade\n"
          ]
        }
      ]
    },
    {
      "cell_type": "code",
      "source": [
        "dia = 'quarta-feira'\n",
        "if dia == 'sexta-feira':\n",
        "  print('hoje fará sol')\n",
        "\n",
        "else:\n",
        "  print('hoje vai chover')"
      ],
      "metadata": {
        "colab": {
          "base_uri": "https://localhost:8080/"
        },
        "id": "55dBOs4UlO-n",
        "outputId": "3c9f5dbc-ba20-4f8a-982a-cb205519497a"
      },
      "execution_count": 12,
      "outputs": [
        {
          "output_type": "stream",
          "name": "stdout",
          "text": [
            "hoje vai chover\n"
          ]
        }
      ]
    },
    {
      "cell_type": "markdown",
      "source": [
        "##Manipulando arquivos"
      ],
      "metadata": {
        "id": "_F4LbboKl3Cv"
      }
    },
    {
      "cell_type": "code",
      "source": [
        "from google.colab import drive\n",
        "drive.mount('/content/drive')"
      ],
      "metadata": {
        "id": "bU3AwbzpmErd"
      },
      "execution_count": null,
      "outputs": []
    },
    {
      "cell_type": "code",
      "source": [
        "a1 = open(\"/content/drive/MyDrive/Madrid.txt.txt\", \"r\")\n",
        "print(a1.read())"
      ],
      "metadata": {
        "colab": {
          "base_uri": "https://localhost:8080/"
        },
        "id": "8B-4LvC9ntrK",
        "outputId": "2bdc9357-f66a-4757-df0a-50205a1fdab3"
      },
      "execution_count": 9,
      "outputs": [
        {
          "output_type": "stream",
          "name": "stdout",
          "text": [
            "Hala madrid\n"
          ]
        }
      ]
    },
    {
      "cell_type": "code",
      "source": [
        "a2 = open(\"/content/drive/MyDrive/Madrid.txt.txt\", \"w\")\n",
        "a2.write('Hala madrid')\n",
        "\n",
        "a2 = open(\"/content/drive/MyDrive/Madrid.txt.txt\", \"r\")\n",
        "print(a2.read())"
      ],
      "metadata": {
        "colab": {
          "base_uri": "https://localhost:8080/"
        },
        "id": "T-RmxRihpF6Y",
        "outputId": "1ebffd94-bc2e-4aa0-96a1-acdad636be95"
      },
      "execution_count": 10,
      "outputs": [
        {
          "output_type": "stream",
          "name": "stdout",
          "text": [
            "Hala madrid\n"
          ]
        }
      ]
    }
  ]
}