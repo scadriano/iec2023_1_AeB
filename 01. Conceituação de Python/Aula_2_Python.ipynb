{
  "nbformat": 4,
  "nbformat_minor": 0,
  "metadata": {
    "colab": {
      "provenance": [],
      "mount_file_id": "1DGR2gu6m1_6c4z8KmNpX8fGdOgVXoiss",
      "authorship_tag": "ABX9TyP2Ks5/UPF/wLF4FvgIcutO",
      "include_colab_link": true
    },
    "kernelspec": {
      "name": "python3",
      "display_name": "Python 3"
    },
    "language_info": {
      "name": "python"
    }
  },
  "cells": [
    {
      "cell_type": "markdown",
      "metadata": {
        "id": "view-in-github",
        "colab_type": "text"
      },
      "source": [
        "<a href=\"https://colab.research.google.com/github/Ryan-Ribeiro/iec2023_1_AeB/blob/main/01.%20Conceitua%C3%A7%C3%A3o%20de%20Python/Aula_2_Python.ipynb\" target=\"_parent\"><img src=\"https://colab.research.google.com/assets/colab-badge.svg\" alt=\"Open In Colab\"/></a>"
      ]
    },
    {
      "cell_type": "code",
      "execution_count": null,
      "metadata": {
        "id": "KfxoRoT0g-S9"
      },
      "outputs": [],
      "source": [
        "##Introdução à Engenharia de Computação\n",
        "Aula 2 de Python\n"
      ]
    },
    {
      "cell_type": "code",
      "source": [
        "from platform import python_version\n",
        "print(F'A versão em uso é {python_version()}.')"
      ],
      "metadata": {
        "id": "EMZIEsyMhId1"
      },
      "execution_count": null,
      "outputs": []
    },
    {
      "cell_type": "code",
      "source": [
        "# Verificar se o Python está funcionando\n",
        "print('Bye bye, World!')"
      ],
      "metadata": {
        "id": "6Tdeyc1OhTGr"
      },
      "execution_count": null,
      "outputs": []
    },
    {
      "cell_type": "code",
      "source": [
        "\n",
        "#Importar a biblioteca - Excel do Python\n",
        "import pandas as pd\n",
        "\n",
        "#df_dataset = pd.read_csv ('/content/hospital.csv', sep=',', index_col =None)\n",
        "\n",
        "df_dataset = pd.read_csv ('https://raw.githubusercontent.com/scadriano/iec2023_1_AeB/main/01.%20Conceitua%C3%A7%C3%A3o%20de%20Python/hospital.csv', sep=',', index_col =None)\n",
        "print('Biblioteca carregada com sucesso!')"
      ],
      "metadata": {
        "colab": {
          "base_uri": "https://localhost:8080/"
        },
        "id": "qCc_Grz3iLzi",
        "outputId": "b064e55f-839f-4919-ce24-c8b9c7298964"
      },
      "execution_count": 14,
      "outputs": [
        {
          "output_type": "stream",
          "name": "stdout",
          "text": [
            "Biblioteca carregada com sucesso!\n"
          ]
        }
      ]
    },
    {
      "cell_type": "code",
      "source": [
        "# exibir uma amostra do dataframe\n",
        "display(df_dataset.head())"
      ],
      "metadata": {
        "id": "A1w5qx8FkFbe"
      },
      "execution_count": null,
      "outputs": []
    },
    {
      "cell_type": "code",
      "source": [
        "# exibir todo o dataframe\n",
        "display(df_dataset)"
      ],
      "metadata": {
        "id": "m8OFt6RwkYwN"
      },
      "execution_count": null,
      "outputs": []
    },
    {
      "cell_type": "code",
      "source": [
        "# remover as colunas id_planta e cidade origem\n",
        "df_dataset = df_dataset.drop(columns=['Estado','Time'])"
      ],
      "metadata": {
        "id": "06fbRLZ6pcO8"
      },
      "execution_count": null,
      "outputs": []
    },
    {
      "cell_type": "code",
      "source": [],
      "metadata": {
        "id": "U0-Toe4ArM7S"
      },
      "execution_count": null,
      "outputs": []
    },
    {
      "cell_type": "code",
      "source": [
        "# imprimir o dataframe\n",
        "display(df_dataset)"
      ],
      "metadata": {
        "id": "dRWczxHSp1RD"
      },
      "execution_count": null,
      "outputs": []
    },
    {
      "cell_type": "code",
      "source": [
        "df_dataset.groupby('Diagnóstico').count().plot.pie(y = 'Internação')"
      ],
      "metadata": {
        "id": "_5eACkaprX4I"
      },
      "execution_count": null,
      "outputs": []
    },
    {
      "cell_type": "code",
      "source": [],
      "metadata": {
        "id": "qeyxLRI9vqsh"
      },
      "execution_count": null,
      "outputs": []
    },
    {
      "cell_type": "code",
      "source": [
        "display (plt)"
      ],
      "metadata": {
        "id": "oaNYXdQgtEou"
      },
      "execution_count": null,
      "outputs": []
    },
    {
      "cell_type": "code",
      "source": [
        "import matplotlib.pyplot as plt\n",
        "\n",
        "doentes = df_dataset['Diagnóstico'].str.count('Doente').sum()\n",
        "saudavel = df_dataset['Diagnóstico'].str.count('Saudável').sum()\n",
        "\n",
        "#plt.pie([doentes, saudavel])\n",
        "labels = 'Doentes', 'Saudáveis'\n",
        "sizes = [doentes, saudavel]\n",
        "fig, ax = plt.subplots()\n",
        "ax.pie(sizes, labels=labels)\n",
        "\n",
        "plt.xlabel(\"Diagnóstico\")\n",
        "plt.ylabel(\"Internação\")\n",
        "\n",
        "\n",
        "#plt.show()\n"
      ],
      "metadata": {
        "id": "FbovWZqRRaXm"
      },
      "execution_count": null,
      "outputs": []
    },
    {
      "cell_type": "code",
      "source": [
        "import matplotlib.pyplot as plt\n",
        "import seaborn as sns\n",
        "\n",
        "doentes = df_dataset['Diagnóstico'].str.count('Doente').sum()\n",
        "saudavel = df_dataset['Diagnóstico'].str.count('Saudável').sum()\n",
        "\n",
        "data = [doentes, saudavel]\n",
        "labels = ['Doentes', 'Saudáveis']\n",
        "colors = sns.color_palette('pastel')[0:7]\n",
        "plt.pie(data, labels = labels, colors = colors, autopct='%.0f%%')\n",
        "plt.show()"
      ],
      "metadata": {
        "colab": {
          "base_uri": "https://localhost:8080/",
          "height": 684
        },
        "id": "RrEx1Lx4TZuL",
        "outputId": "a7092c41-46fe-4880-e22c-ed954407baa9"
      },
      "execution_count": 17,
      "outputs": [
        {
          "output_type": "stream",
          "name": "stderr",
          "text": [
            "WARNING:matplotlib.font_manager:findfont: Font family 'arial' not found.\n",
            "WARNING:matplotlib.font_manager:findfont: Font family 'arial' not found.\n",
            "WARNING:matplotlib.font_manager:findfont: Font family 'arial' not found.\n",
            "WARNING:matplotlib.font_manager:findfont: Font family 'arial' not found.\n",
            "WARNING:matplotlib.font_manager:findfont: Font family 'arial' not found.\n",
            "WARNING:matplotlib.font_manager:findfont: Font family 'arial' not found.\n",
            "WARNING:matplotlib.font_manager:findfont: Font family 'arial' not found.\n",
            "WARNING:matplotlib.font_manager:findfont: Font family 'arial' not found.\n",
            "WARNING:matplotlib.font_manager:findfont: Font family 'arial' not found.\n",
            "WARNING:matplotlib.font_manager:findfont: Font family 'arial' not found.\n",
            "WARNING:matplotlib.font_manager:findfont: Font family 'arial' not found.\n",
            "WARNING:matplotlib.font_manager:findfont: Font family 'arial' not found.\n",
            "WARNING:matplotlib.font_manager:findfont: Font family 'arial' not found.\n",
            "WARNING:matplotlib.font_manager:findfont: Font family 'arial' not found.\n",
            "WARNING:matplotlib.font_manager:findfont: Font family 'arial' not found.\n",
            "WARNING:matplotlib.font_manager:findfont: Font family 'arial' not found.\n"
          ]
        },
        {
          "output_type": "display_data",
          "data": {
            "text/plain": [
              "<Figure size 640x480 with 1 Axes>"
            ],
            "image/png": "[encoded data removed]"
          },
          "metadata": {}
        }
      ]
    }
  ]
}