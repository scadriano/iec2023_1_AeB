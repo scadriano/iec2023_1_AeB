{
  "nbformat": 4,
  "nbformat_minor": 0,
  "metadata": {
    "colab": {
      "provenance": [],
      "authorship_tag": "ABX9TyOdsd0wna60pU83BKu+uw8g",
      "include_colab_link": true
    },
    "kernelspec": {
      "name": "python3",
      "display_name": "Python 3"
    },
    "language_info": {
      "name": "python"
    }
  },
  "cells": [
    {
      "cell_type": "markdown",
      "metadata": {
        "id": "view-in-github",
        "colab_type": "text"
      },
      "source": [
        "<a href=\"https://colab.research.google.com/github/GustavoFernandesdaCunha/iec2023_1_AeB/blob/main/GustavoFernandesdaCunha%20/iec2023_1_AeB%20/Entrega%20Gustavo%2030062023.ipynb\" target=\"_parent\"><img src=\"https://colab.research.google.com/assets/colab-badge.svg\" alt=\"Open In Colab\"/></a>"
      ]
    },
    {
      "cell_type": "markdown",
      "source": [
        "## Introdução à Engenharia de Computação\n",
        "# Aula 2 Python"
      ],
      "metadata": {
        "id": "rLNP8p1Y0Lzd"
      }
    },
    {
      "cell_type": "code",
      "execution_count": 41,
      "metadata": {
        "colab": {
          "base_uri": "https://localhost:8080/"
        },
        "id": "UYrgxAIoz0GK",
        "outputId": "17dd649c-77b5-444c-9189-ecc9611247e6"
      },
      "outputs": [
        {
          "output_type": "stream",
          "name": "stdout",
          "text": [
            "A versão em uso é 3.10.12.\n"
          ]
        }
      ],
      "source": [
        "from platform import python_version\n",
        "print(f'A versão em uso é {python_version()}.')"
      ]
    },
    {
      "cell_type": "code",
      "source": [
        "print('Bye bye, World')"
      ],
      "metadata": {
        "colab": {
          "base_uri": "https://localhost:8080/"
        },
        "id": "YZejJ0Yez-zY",
        "outputId": "4e77e295-5916-470a-c315-a14199d757c9"
      },
      "execution_count": 42,
      "outputs": [
        {
          "output_type": "stream",
          "name": "stdout",
          "text": [
            "Bye bye, World\n"
          ]
        }
      ]
    },
    {
      "cell_type": "code",
      "source": [
        "import pandas as pd\n",
        "print('Biblioteca importada com sucesso')\n"
      ],
      "metadata": {
        "colab": {
          "base_uri": "https://localhost:8080/"
        },
        "id": "lBhg1DsIz-0l",
        "outputId": "86214023-f98a-4937-dd54-3a71bb95713c"
      },
      "execution_count": 43,
      "outputs": [
        {
          "output_type": "stream",
          "name": "stdout",
          "text": [
            "Biblioteca importada com sucesso\n"
          ]
        }
      ]
    },
    {
      "cell_type": "code",
      "source": [
        "df_gustavo = pd.read_csv('https://raw.githubusercontent.com/scadriano/iec2023_1_AeB/main/01.%20Conceitua%C3%A7%C3%A3o%20de%20Python/hospital.csv', sep=',', index_col=None)\n",
        "\n",
        "print('Dados importados com sucesso')"
      ],
      "metadata": {
        "colab": {
          "base_uri": "https://localhost:8080/"
        },
        "id": "hbbLTcsw2lt8",
        "outputId": "de0e2507-7c06-4b0e-c663-103b7c506191"
      },
      "execution_count": 50,
      "outputs": [
        {
          "output_type": "stream",
          "name": "stdout",
          "text": [
            "Dados importados com sucesso\n"
          ]
        }
      ]
    },
    {
      "cell_type": "code",
      "source": [
        "display(df_gustavo.head())"
      ],
      "metadata": {
        "colab": {
          "base_uri": "https://localhost:8080/",
          "height": 206
        },
        "id": "cF7z1vE93sPY",
        "outputId": "8f9fd714-f74f-49b9-b8da-f9d7bcfbaad4"
      },
      "execution_count": 51,
      "outputs": [
        {
          "output_type": "display_data",
          "data": {
            "text/plain": [
              "     Id     Nome  Idade Sexo  Peso       Manchas  Temperatura  Internação  \\\n",
              "0  4201     João     28    M    79  Concentradas         38.0           2   \n",
              "1  3217    Maria     18    F    67  Inexistentes         39.5           4   \n",
              "2  4039     Luiz     49    M    92    Espalhadas         38.0           2   \n",
              "3  1920     José     18    M    43  Inexistentes         38.5           8   \n",
              "4  4340  Cláudia     21    F    52     Uniformes         37.6           1   \n",
              "\n",
              "  Estado       Time Diagnóstico  \n",
              "0     SP  Palmeiras      Doente  \n",
              "1     MG   Cruzeiro      Doente  \n",
              "2     RS     Grêmio    Saudável  \n",
              "3     MG   Atlético      Doente  \n",
              "4     PE      Sport    Saudável  "
            ],
            "text/html": [
              "\n",
              "  <div id=\"df-e068594a-5a93-428d-a4e2-0b3e28aefc67\">\n",
              "    <div class=\"colab-df-container\">\n",
              "      <div>\n",
              "<style scoped>\n",
              "    .dataframe tbody tr th:only-of-type {\n",
              "        vertical-align: middle;\n",
              "    }\n",
              "\n",
              "    .dataframe tbody tr th {\n",
              "        vertical-align: top;\n",
              "    }\n",
              "\n",
              "    .dataframe thead th {\n",
              "        text-align: right;\n",
              "    }\n",
              "</style>\n",
              "<table border=\"1\" class=\"dataframe\">\n",
              "  <thead>\n",
              "    <tr style=\"text-align: right;\">\n",
              "      <th></th>\n",
              "      <th>Id</th>\n",
              "      <th>Nome</th>\n",
              "      <th>Idade</th>\n",
              "      <th>Sexo</th>\n",
              "      <th>Peso</th>\n",
              "      <th>Manchas</th>\n",
              "      <th>Temperatura</th>\n",
              "      <th>Internação</th>\n",
              "      <th>Estado</th>\n",
              "      <th>Time</th>\n",
              "      <th>Diagnóstico</th>\n",
              "    </tr>\n",
              "  </thead>\n",
              "  <tbody>\n",
              "    <tr>\n",
              "      <th>0</th>\n",
              "      <td>4201</td>\n",
              "      <td>João</td>\n",
              "      <td>28</td>\n",
              "      <td>M</td>\n",
              "      <td>79</td>\n",
              "      <td>Concentradas</td>\n",
              "      <td>38.0</td>\n",
              "      <td>2</td>\n",
              "      <td>SP</td>\n",
              "      <td>Palmeiras</td>\n",
              "      <td>Doente</td>\n",
              "    </tr>\n",
              "    <tr>\n",
              "      <th>1</th>\n",
              "      <td>3217</td>\n",
              "      <td>Maria</td>\n",
              "      <td>18</td>\n",
              "      <td>F</td>\n",
              "      <td>67</td>\n",
              "      <td>Inexistentes</td>\n",
              "      <td>39.5</td>\n",
              "      <td>4</td>\n",
              "      <td>MG</td>\n",
              "      <td>Cruzeiro</td>\n",
              "      <td>Doente</td>\n",
              "    </tr>\n",
              "    <tr>\n",
              "      <th>2</th>\n",
              "      <td>4039</td>\n",
              "      <td>Luiz</td>\n",
              "      <td>49</td>\n",
              "      <td>M</td>\n",
              "      <td>92</td>\n",
              "      <td>Espalhadas</td>\n",
              "      <td>38.0</td>\n",
              "      <td>2</td>\n",
              "      <td>RS</td>\n",
              "      <td>Grêmio</td>\n",
              "      <td>Saudável</td>\n",
              "    </tr>\n",
              "    <tr>\n",
              "      <th>3</th>\n",
              "      <td>1920</td>\n",
              "      <td>José</td>\n",
              "      <td>18</td>\n",
              "      <td>M</td>\n",
              "      <td>43</td>\n",
              "      <td>Inexistentes</td>\n",
              "      <td>38.5</td>\n",
              "      <td>8</td>\n",
              "      <td>MG</td>\n",
              "      <td>Atlético</td>\n",
              "      <td>Doente</td>\n",
              "    </tr>\n",
              "    <tr>\n",
              "      <th>4</th>\n",
              "      <td>4340</td>\n",
              "      <td>Cláudia</td>\n",
              "      <td>21</td>\n",
              "      <td>F</td>\n",
              "      <td>52</td>\n",
              "      <td>Uniformes</td>\n",
              "      <td>37.6</td>\n",
              "      <td>1</td>\n",
              "      <td>PE</td>\n",
              "      <td>Sport</td>\n",
              "      <td>Saudável</td>\n",
              "    </tr>\n",
              "  </tbody>\n",
              "</table>\n",
              "</div>\n",
              "      <button class=\"colab-df-convert\" onclick=\"convertToInteractive('df-e068594a-5a93-428d-a4e2-0b3e28aefc67')\"\n",
              "              title=\"Convert this dataframe to an interactive table.\"\n",
              "              style=\"display:none;\">\n",
              "        \n",
              "  <svg xmlns=\"http://www.w3.org/2000/svg\" height=\"24px\"viewBox=\"0 0 24 24\"\n",
              "       width=\"24px\">\n",
              "    <path d=\"M0 0h24v24H0V0z\" fill=\"none\"/>\n",
              "    <path d=\"M18.56 5.44l.94 2.06.94-2.06 2.06-.94-2.06-.94-.94-2.06-.94 2.06-2.06.94zm-11 1L8.5 8.5l.94-2.06 2.06-.94-2.06-.94L8.5 2.5l-.94 2.06-2.06.94zm10 10l.94 2.06.94-2.06 2.06-.94-2.06-.94-.94-2.06-.94 2.06-2.06.94z\"/><path d=\"M17.41 7.96l-1.37-1.37c-.4-.4-.92-.59-1.43-.59-.52 0-1.04.2-1.43.59L10.3 9.45l-7.72 7.72c-.78.78-.78 2.05 0 2.83L4 21.41c.39.39.9.59 1.41.59.51 0 1.02-.2 1.41-.59l7.78-7.78 2.81-2.81c.8-.78.8-2.07 0-2.86zM5.41 20L4 18.59l7.72-7.72 1.47 1.35L5.41 20z\"/>\n",
              "  </svg>\n",
              "      </button>\n",
              "      \n",
              "  <style>\n",
              "    .colab-df-container {\n",
              "      display:flex;\n",
              "      flex-wrap:wrap;\n",
              "      gap: 12px;\n",
              "    }\n",
              "\n",
              "    .colab-df-convert {\n",
              "      background-color: #E8F0FE;\n",
              "      border: none;\n",
              "      border-radius: 50%;\n",
              "      cursor: pointer;\n",
              "      display: none;\n",
              "      fill: #1967D2;\n",
              "      height: 32px;\n",
              "      padding: 0 0 0 0;\n",
              "      width: 32px;\n",
              "    }\n",
              "\n",
              "    .colab-df-convert:hover {\n",
              "      background-color: #E2EBFA;\n",
              "      box-shadow: 0px 1px 2px rgba(60, 64, 67, 0.3), 0px 1px 3px 1px rgba(60, 64, 67, 0.15);\n",
              "      fill: #174EA6;\n",
              "    }\n",
              "\n",
              "    [theme=dark] .colab-df-convert {\n",
              "      background-color: #3B4455;\n",
              "      fill: #D2E3FC;\n",
              "    }\n",
              "\n",
              "    [theme=dark] .colab-df-convert:hover {\n",
              "      background-color: #434B5C;\n",
              "      box-shadow: 0px 1px 3px 1px rgba(0, 0, 0, 0.15);\n",
              "      filter: drop-shadow(0px 1px 2px rgba(0, 0, 0, 0.3));\n",
              "      fill: #FFFFFF;\n",
              "    }\n",
              "  </style>\n",
              "\n",
              "      <script>\n",
              "        const buttonEl =\n",
              "          document.querySelector('#df-e068594a-5a93-428d-a4e2-0b3e28aefc67 button.colab-df-convert');\n",
              "        buttonEl.style.display =\n",
              "          google.colab.kernel.accessAllowed ? 'block' : 'none';\n",
              "\n",
              "        async function convertToInteractive(key) {\n",
              "          const element = document.querySelector('#df-e068594a-5a93-428d-a4e2-0b3e28aefc67');\n",
              "          const dataTable =\n",
              "            await google.colab.kernel.invokeFunction('convertToInteractive',\n",
              "                                                     [key], {});\n",
              "          if (!dataTable) return;\n",
              "\n",
              "          const docLinkHtml = 'Like what you see? Visit the ' +\n",
              "            '<a target=\"_blank\" href=https://colab.research.google.com/notebooks/data_table.ipynb>data table notebook</a>'\n",
              "            + ' to learn more about interactive tables.';\n",
              "          element.innerHTML = '';\n",
              "          dataTable['output_type'] = 'display_data';\n",
              "          await google.colab.output.renderOutput(dataTable, element);\n",
              "          const docLink = document.createElement('div');\n",
              "          docLink.innerHTML = docLinkHtml;\n",
              "          element.appendChild(docLink);\n",
              "        }\n",
              "      </script>\n",
              "    </div>\n",
              "  </div>\n",
              "  "
            ]
          },
          "metadata": {}
        }
      ]
    },
    {
      "cell_type": "code",
      "source": [
        "display(df_gustavo)"
      ],
      "metadata": {
        "colab": {
          "base_uri": "https://localhost:8080/",
          "height": 300
        },
        "id": "yBDUp3nw3sQo",
        "outputId": "0aaf0e0f-8608-4c4f-aa43-85700289f166"
      },
      "execution_count": 52,
      "outputs": [
        {
          "output_type": "display_data",
          "data": {
            "text/plain": [
              "     Id     Nome  Idade Sexo  Peso       Manchas  Temperatura  Internação  \\\n",
              "0  4201     João     28    M    79  Concentradas         38.0           2   \n",
              "1  3217    Maria     18    F    67  Inexistentes         39.5           4   \n",
              "2  4039     Luiz     49    M    92    Espalhadas         38.0           2   \n",
              "3  1920     José     18    M    43  Inexistentes         38.5           8   \n",
              "4  4340  Cláudia     21    F    52     Uniformes         37.6           1   \n",
              "5  2301      Ana     22    F    72  Inexistentes         38.0           3   \n",
              "6  1322    Marta     19    F    87    Espalhadas         39.0           6   \n",
              "7  3027    Paulo     34    M    67     Uniformes         38.4           2   \n",
              "\n",
              "  Estado       Time Diagnóstico  \n",
              "0     SP  Palmeiras      Doente  \n",
              "1     MG   Cruzeiro      Doente  \n",
              "2     RS     Grêmio    Saudável  \n",
              "3     MG   Atlético      Doente  \n",
              "4     PE      Sport    Saudável  \n",
              "5     RJ   Botafogo      Doente  \n",
              "6     AM   Flamengo      Doente  \n",
              "7     GO  Vila Nova    Saudável  "
            ],
            "text/html": [
              "\n",
              "  <div id=\"df-8f5dd6ee-41cd-4ae1-85e4-083767f928b1\">\n",
              "    <div class=\"colab-df-container\">\n",
              "      <div>\n",
              "<style scoped>\n",
              "    .dataframe tbody tr th:only-of-type {\n",
              "        vertical-align: middle;\n",
              "    }\n",
              "\n",
              "    .dataframe tbody tr th {\n",
              "        vertical-align: top;\n",
              "    }\n",
              "\n",
              "    .dataframe thead th {\n",
              "        text-align: right;\n",
              "    }\n",
              "</style>\n",
              "<table border=\"1\" class=\"dataframe\">\n",
              "  <thead>\n",
              "    <tr style=\"text-align: right;\">\n",
              "      <th></th>\n",
              "      <th>Id</th>\n",
              "      <th>Nome</th>\n",
              "      <th>Idade</th>\n",
              "      <th>Sexo</th>\n",
              "      <th>Peso</th>\n",
              "      <th>Manchas</th>\n",
              "      <th>Temperatura</th>\n",
              "      <th>Internação</th>\n",
              "      <th>Estado</th>\n",
              "      <th>Time</th>\n",
              "      <th>Diagnóstico</th>\n",
              "    </tr>\n",
              "  </thead>\n",
              "  <tbody>\n",
              "    <tr>\n",
              "      <th>0</th>\n",
              "      <td>4201</td>\n",
              "      <td>João</td>\n",
              "      <td>28</td>\n",
              "      <td>M</td>\n",
              "      <td>79</td>\n",
              "      <td>Concentradas</td>\n",
              "      <td>38.0</td>\n",
              "      <td>2</td>\n",
              "      <td>SP</td>\n",
              "      <td>Palmeiras</td>\n",
              "      <td>Doente</td>\n",
              "    </tr>\n",
              "    <tr>\n",
              "      <th>1</th>\n",
              "      <td>3217</td>\n",
              "      <td>Maria</td>\n",
              "      <td>18</td>\n",
              "      <td>F</td>\n",
              "      <td>67</td>\n",
              "      <td>Inexistentes</td>\n",
              "      <td>39.5</td>\n",
              "      <td>4</td>\n",
              "      <td>MG</td>\n",
              "      <td>Cruzeiro</td>\n",
              "      <td>Doente</td>\n",
              "    </tr>\n",
              "    <tr>\n",
              "      <th>2</th>\n",
              "      <td>4039</td>\n",
              "      <td>Luiz</td>\n",
              "      <td>49</td>\n",
              "      <td>M</td>\n",
              "      <td>92</td>\n",
              "      <td>Espalhadas</td>\n",
              "      <td>38.0</td>\n",
              "      <td>2</td>\n",
              "      <td>RS</td>\n",
              "      <td>Grêmio</td>\n",
              "      <td>Saudável</td>\n",
              "    </tr>\n",
              "    <tr>\n",
              "      <th>3</th>\n",
              "      <td>1920</td>\n",
              "      <td>José</td>\n",
              "      <td>18</td>\n",
              "      <td>M</td>\n",
              "      <td>43</td>\n",
              "      <td>Inexistentes</td>\n",
              "      <td>38.5</td>\n",
              "      <td>8</td>\n",
              "      <td>MG</td>\n",
              "      <td>Atlético</td>\n",
              "      <td>Doente</td>\n",
              "    </tr>\n",
              "    <tr>\n",
              "      <th>4</th>\n",
              "      <td>4340</td>\n",
              "      <td>Cláudia</td>\n",
              "      <td>21</td>\n",
              "      <td>F</td>\n",
              "      <td>52</td>\n",
              "      <td>Uniformes</td>\n",
              "      <td>37.6</td>\n",
              "      <td>1</td>\n",
              "      <td>PE</td>\n",
              "      <td>Sport</td>\n",
              "      <td>Saudável</td>\n",
              "    </tr>\n",
              "    <tr>\n",
              "      <th>5</th>\n",
              "      <td>2301</td>\n",
              "      <td>Ana</td>\n",
              "      <td>22</td>\n",
              "      <td>F</td>\n",
              "      <td>72</td>\n",
              "      <td>Inexistentes</td>\n",
              "      <td>38.0</td>\n",
              "      <td>3</td>\n",
              "      <td>RJ</td>\n",
              "      <td>Botafogo</td>\n",
              "      <td>Doente</td>\n",
              "    </tr>\n",
              "    <tr>\n",
              "      <th>6</th>\n",
              "      <td>1322</td>\n",
              "      <td>Marta</td>\n",
              "      <td>19</td>\n",
              "      <td>F</td>\n",
              "      <td>87</td>\n",
              "      <td>Espalhadas</td>\n",
              "      <td>39.0</td>\n",
              "      <td>6</td>\n",
              "      <td>AM</td>\n",
              "      <td>Flamengo</td>\n",
              "      <td>Doente</td>\n",
              "    </tr>\n",
              "    <tr>\n",
              "      <th>7</th>\n",
              "      <td>3027</td>\n",
              "      <td>Paulo</td>\n",
              "      <td>34</td>\n",
              "      <td>M</td>\n",
              "      <td>67</td>\n",
              "      <td>Uniformes</td>\n",
              "      <td>38.4</td>\n",
              "      <td>2</td>\n",
              "      <td>GO</td>\n",
              "      <td>Vila Nova</td>\n",
              "      <td>Saudável</td>\n",
              "    </tr>\n",
              "  </tbody>\n",
              "</table>\n",
              "</div>\n",
              "      <button class=\"colab-df-convert\" onclick=\"convertToInteractive('df-8f5dd6ee-41cd-4ae1-85e4-083767f928b1')\"\n",
              "              title=\"Convert this dataframe to an interactive table.\"\n",
              "              style=\"display:none;\">\n",
              "        \n",
              "  <svg xmlns=\"http://www.w3.org/2000/svg\" height=\"24px\"viewBox=\"0 0 24 24\"\n",
              "       width=\"24px\">\n",
              "    <path d=\"M0 0h24v24H0V0z\" fill=\"none\"/>\n",
              "    <path d=\"M18.56 5.44l.94 2.06.94-2.06 2.06-.94-2.06-.94-.94-2.06-.94 2.06-2.06.94zm-11 1L8.5 8.5l.94-2.06 2.06-.94-2.06-.94L8.5 2.5l-.94 2.06-2.06.94zm10 10l.94 2.06.94-2.06 2.06-.94-2.06-.94-.94-2.06-.94 2.06-2.06.94z\"/><path d=\"M17.41 7.96l-1.37-1.37c-.4-.4-.92-.59-1.43-.59-.52 0-1.04.2-1.43.59L10.3 9.45l-7.72 7.72c-.78.78-.78 2.05 0 2.83L4 21.41c.39.39.9.59 1.41.59.51 0 1.02-.2 1.41-.59l7.78-7.78 2.81-2.81c.8-.78.8-2.07 0-2.86zM5.41 20L4 18.59l7.72-7.72 1.47 1.35L5.41 20z\"/>\n",
              "  </svg>\n",
              "      </button>\n",
              "      \n",
              "  <style>\n",
              "    .colab-df-container {\n",
              "      display:flex;\n",
              "      flex-wrap:wrap;\n",
              "      gap: 12px;\n",
              "    }\n",
              "\n",
              "    .colab-df-convert {\n",
              "      background-color: #E8F0FE;\n",
              "      border: none;\n",
              "      border-radius: 50%;\n",
              "      cursor: pointer;\n",
              "      display: none;\n",
              "      fill: #1967D2;\n",
              "      height: 32px;\n",
              "      padding: 0 0 0 0;\n",
              "      width: 32px;\n",
              "    }\n",
              "\n",
              "    .colab-df-convert:hover {\n",
              "      background-color: #E2EBFA;\n",
              "      box-shadow: 0px 1px 2px rgba(60, 64, 67, 0.3), 0px 1px 3px 1px rgba(60, 64, 67, 0.15);\n",
              "      fill: #174EA6;\n",
              "    }\n",
              "\n",
              "    [theme=dark] .colab-df-convert {\n",
              "      background-color: #3B4455;\n",
              "      fill: #D2E3FC;\n",
              "    }\n",
              "\n",
              "    [theme=dark] .colab-df-convert:hover {\n",
              "      background-color: #434B5C;\n",
              "      box-shadow: 0px 1px 3px 1px rgba(0, 0, 0, 0.15);\n",
              "      filter: drop-shadow(0px 1px 2px rgba(0, 0, 0, 0.3));\n",
              "      fill: #FFFFFF;\n",
              "    }\n",
              "  </style>\n",
              "\n",
              "      <script>\n",
              "        const buttonEl =\n",
              "          document.querySelector('#df-8f5dd6ee-41cd-4ae1-85e4-083767f928b1 button.colab-df-convert');\n",
              "        buttonEl.style.display =\n",
              "          google.colab.kernel.accessAllowed ? 'block' : 'none';\n",
              "\n",
              "        async function convertToInteractive(key) {\n",
              "          const element = document.querySelector('#df-8f5dd6ee-41cd-4ae1-85e4-083767f928b1');\n",
              "          const dataTable =\n",
              "            await google.colab.kernel.invokeFunction('convertToInteractive',\n",
              "                                                     [key], {});\n",
              "          if (!dataTable) return;\n",
              "\n",
              "          const docLinkHtml = 'Like what you see? Visit the ' +\n",
              "            '<a target=\"_blank\" href=https://colab.research.google.com/notebooks/data_table.ipynb>data table notebook</a>'\n",
              "            + ' to learn more about interactive tables.';\n",
              "          element.innerHTML = '';\n",
              "          dataTable['output_type'] = 'display_data';\n",
              "          await google.colab.output.renderOutput(dataTable, element);\n",
              "          const docLink = document.createElement('div');\n",
              "          docLink.innerHTML = docLinkHtml;\n",
              "          element.appendChild(docLink);\n",
              "        }\n",
              "      </script>\n",
              "    </div>\n",
              "  </div>\n",
              "  "
            ]
          },
          "metadata": {}
        }
      ]
    },
    {
      "cell_type": "code",
      "source": [
        "df_gustavo = df_gustavo.drop(columns={'Estado','Time'})"
      ],
      "metadata": {
        "id": "7pgG_lRW4xis"
      },
      "execution_count": 53,
      "outputs": []
    },
    {
      "cell_type": "code",
      "source": [
        "df_gustavo.groupby('Diagnóstico').count().plot.pie(y='Internação')"
      ],
      "metadata": {
        "colab": {
          "base_uri": "https://localhost:8080/",
          "height": 423
        },
        "id": "-UrBXRPg6oYv",
        "outputId": "bfcdc62f-d845-4d74-9931-d46f4866e1cc"
      },
      "execution_count": 54,
      "outputs": [
        {
          "output_type": "execute_result",
          "data": {
            "text/plain": [
              "<Axes: ylabel='Internação'>"
            ]
          },
          "metadata": {},
          "execution_count": 54
        },
        {
          "output_type": "display_data",
          "data": {
            "text/plain": [
              "<Figure size 640x480 with 1 Axes>"
            ],
            "image/png": "[encoded data removed]"
          },
          "metadata": {}
        }
      ]
    },
    {
      "cell_type": "code",
      "source": [
        "import matplotlib.pyplot as plt\n",
        "\n",
        "# Dados para o gráfico\n",
        "x = [1, 2, 3, 4, 5]\n",
        "y = [2, 4, 6, 8, 10]\n",
        "\n",
        "# Criar o gráfico de linhas\n",
        "plt.plot(x, y)\n",
        "\n",
        "# Personalizar o gráfico\n",
        "plt.title(\"Vida\")\n",
        "plt.xlabel(\"Eixo X\")\n",
        "plt.ylabel(\"Eixo Y\")\n",
        "\n",
        "# Exibir o gráfico\n",
        "plt.show()\n"
      ],
      "metadata": {
        "colab": {
          "base_uri": "https://localhost:8080/",
          "height": 472
        },
        "id": "hJzrgaPA9ssB",
        "outputId": "5136c6f4-0011-44f8-a82f-17550cc15590"
      },
      "execution_count": 58,
      "outputs": [
        {
          "output_type": "display_data",
          "data": {
            "text/plain": [
              "<Figure size 640x480 with 1 Axes>"
            ],
            "image/png": "[encoded data removed]"
          },
          "metadata": {}
        }
      ]
    },
    {
      "cell_type": "code",
      "source": [
        "import seaborn as sns\n",
        "\n",
        "# Dados para o gráfico\n",
        "x = [1, 2, 3, 4, 5]\n",
        "y = [2, 4, 6, 8, 10]\n",
        "\n",
        "# Criar o gráfico usando Seaborn\n",
        "sns.lineplot(x=x, y=y)\n",
        "\n",
        "# Personalizar o gráfico\n",
        "plt.title(\"Exemplo de Gráfico\")\n",
        "plt.xlabel(\"Eixo X\")\n",
        "plt.ylabel(\"Eixo Y\")\n",
        "\n",
        "# Exibir o gráfico\n",
        "plt.show()\n"
      ],
      "metadata": {
        "colab": {
          "base_uri": "https://localhost:8080/",
          "height": 472
        },
        "id": "FRzFMBQO-W2u",
        "outputId": "88e85437-0d8a-4ed0-fd97-1aee6edc8ffa"
      },
      "execution_count": 57,
      "outputs": [
        {
          "output_type": "display_data",
          "data": {
            "text/plain": [
              "<Figure size 640x480 with 1 Axes>"
            ],
            "image/png": "[encoded data removed]"
          },
          "metadata": {}
        }
      ]
    }
  ]
}