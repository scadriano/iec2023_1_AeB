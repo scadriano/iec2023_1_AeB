{
  "nbformat": 4,
  "nbformat_minor": 0,
  "metadata": {
    "colab": {
      "provenance": [],
      "authorship_tag": "ABX9TyOMrRChaZ3FPBr6rgr99dG1",
      "include_colab_link": true
    },
    "kernelspec": {
      "name": "python3",
      "display_name": "Python 3"
    },
    "language_info": {
      "name": "python"
    }
  },
  "cells": [
    {
      "cell_type": "markdown",
      "metadata": {
        "id": "view-in-github",
        "colab_type": "text"
      },
      "source": [
        "<a href=\"https://colab.research.google.com/github/samoelLira/iec2023_1_AeB/blob/main/Entrega%20-%20Samoel%20L/Untitled0.ipynb\" target=\"_parent\"><img src=\"https://colab.research.google.com/assets/colab-badge.svg\" alt=\"Open In Colab\"/></a>"
      ]
    },
    {
      "cell_type": "markdown",
      "source": [
        "introdução a engenharia de computação"
      ],
      "metadata": {
        "id": "yM6A1inTgrIS"
      }
    },
    {
      "cell_type": "code",
      "source": [
        "print('bye bye, world!')"
      ],
      "metadata": {
        "colab": {
          "base_uri": "https://localhost:8080/"
        },
        "id": "HuGqxkA0iPHI",
        "outputId": "9f8b37cb-276e-48f8-d995-1b8f71072e1c"
      },
      "execution_count": 3,
      "outputs": [
        {
          "output_type": "stream",
          "name": "stdout",
          "text": [
            "bye bye, world!\n"
          ]
        }
      ]
    },
    {
      "cell_type": "code",
      "source": [
        "from platform import python_version\n",
        "print(f'a versão é {python_version()}')"
      ],
      "metadata": {
        "colab": {
          "base_uri": "https://localhost:8080/"
        },
        "id": "Y6ZuUx3Eg5Aj",
        "outputId": "1b2def93-896c-403c-ef13-c31a32f01e68"
      },
      "execution_count": 2,
      "outputs": [
        {
          "output_type": "stream",
          "name": "stdout",
          "text": [
            "a versão é 3.10.12\n"
          ]
        }
      ]
    },
    {
      "cell_type": "markdown",
      "source": [
        "operadores aritiméticos"
      ],
      "metadata": {
        "id": "Q1CqHLSVip34"
      }
    },
    {
      "cell_type": "code",
      "source": [
        "#adição\n",
        "1+1"
      ],
      "metadata": {
        "id": "L1L2N0iyiujn"
      },
      "execution_count": null,
      "outputs": []
    },
    {
      "cell_type": "code",
      "source": [
        "#subtração\n",
        "2-1"
      ],
      "metadata": {
        "id": "lBTZJVBwiz3W"
      },
      "execution_count": null,
      "outputs": []
    },
    {
      "cell_type": "code",
      "source": [
        "#multiplicação\n",
        "2*2"
      ],
      "metadata": {
        "id": "z8qDmsOci5OW"
      },
      "execution_count": null,
      "outputs": []
    },
    {
      "cell_type": "code",
      "source": [
        "#divisão\n",
        "3/2"
      ],
      "metadata": {
        "id": "90eGU3-Bi8vO"
      },
      "execution_count": null,
      "outputs": []
    },
    {
      "cell_type": "code",
      "source": [
        "#potencia\n",
        "4 ** 2"
      ],
      "metadata": {
        "id": "q-yjE2r7jMTG"
      },
      "execution_count": null,
      "outputs": []
    },
    {
      "cell_type": "code",
      "source": [
        "#resto divisão\n",
        "10 % 3"
      ],
      "metadata": {
        "id": "zQlogMfLjUhd"
      },
      "execution_count": null,
      "outputs": []
    },
    {
      "cell_type": "markdown",
      "source": [
        "tipos de dados"
      ],
      "metadata": {
        "id": "kvnHq4uMjxd1"
      }
    },
    {
      "cell_type": "code",
      "source": [
        "# qual o tipo do (?)\n",
        "type(5)"
      ],
      "metadata": {
        "id": "5irJKbBYjzqE"
      },
      "execution_count": null,
      "outputs": []
    },
    {
      "cell_type": "code",
      "source": [
        "#qual tipo (?)\n",
        "type(5.0)"
      ],
      "metadata": {
        "id": "Zsoq0ed6kBq0"
      },
      "execution_count": null,
      "outputs": []
    },
    {
      "cell_type": "code",
      "source": [
        "#qual tipo (?) -> string\n",
        "s = \"iae\"\n",
        "type(s)"
      ],
      "metadata": {
        "id": "3J-Ew-MJkIyU"
      },
      "execution_count": null,
      "outputs": []
    },
    {
      "cell_type": "markdown",
      "source": [
        "condicional"
      ],
      "metadata": {
        "id": "7RkuM2cqkY3T"
      }
    },
    {
      "cell_type": "code",
      "source": [
        "#condicional if\n",
        "if(5 > 2):\n",
        "  print(\"verdadeiro\")"
      ],
      "metadata": {
        "id": "fSkR5SVzkalC"
      },
      "execution_count": null,
      "outputs": []
    },
    {
      "cell_type": "code",
      "source": [
        "#condicional if else\n",
        "if(5<2):\n",
        "  print(\"verdadeiro\")\n",
        "else:\n",
        "  print(\"falso\")"
      ],
      "metadata": {
        "id": "Ycc4_pJKkjSz"
      },
      "execution_count": null,
      "outputs": []
    },
    {
      "cell_type": "code",
      "source": [
        "#condicional com variavel\n",
        "dia = \"quarta feira\"\n",
        "if(dia == \"sexta feira\"):\n",
        "  print(\"hoje fara sol\")\n",
        "else:\n",
        "  print(\"hoje vai chover\")"
      ],
      "metadata": {
        "id": "gNdoOAS2kzcy"
      },
      "execution_count": null,
      "outputs": []
    },
    {
      "cell_type": "markdown",
      "source": [
        "manipulando arquivos"
      ],
      "metadata": {
        "id": "jiZeqNJuloqw"
      }
    },
    {
      "cell_type": "code",
      "source": [
        "# abrindo arquivo\n",
        "a1 = open(\"/content/drive/MyDrive/iec.txt\", \"r\")\n",
        "print(a1.read())"
      ],
      "metadata": {
        "id": "kvFgqFFXl6YY"
      },
      "execution_count": null,
      "outputs": []
    },
    {
      "cell_type": "code",
      "source": [
        "from google.colab import drive\n",
        "drive.mount('/content/drive')"
      ],
      "metadata": {
        "colab": {
          "base_uri": "https://localhost:8080/"
        },
        "id": "07TlDmF6mKao",
        "outputId": "69a10693-a18d-40c5-d8bb-36652e5cc0cf"
      },
      "execution_count": 16,
      "outputs": [
        {
          "output_type": "stream",
          "name": "stdout",
          "text": [
            "Mounted at /content/drive\n"
          ]
        }
      ]
    },
    {
      "cell_type": "code",
      "source": [
        "a2 = open(\"/content/drive/MyDrive/arquivo2.txt\", \"w\")\n",
        "a2.write(\"aprendendo python! iae\")"
      ],
      "metadata": {
        "colab": {
          "base_uri": "https://localhost:8080/"
        },
        "id": "QRIpfOito36L",
        "outputId": "b5682ef0-77b2-4494-c63e-4944d55b652f"
      },
      "execution_count": 29,
      "outputs": [
        {
          "output_type": "execute_result",
          "data": {
            "text/plain": [
              "22"
            ]
          },
          "metadata": {},
          "execution_count": 29
        }
      ]
    },
    {
      "cell_type": "code",
      "source": [
        "a2 = open(\"/content/drive/MyDrive/arquivo2.txt\", \"r\")\n",
        "print(a2.read())"
      ],
      "metadata": {
        "colab": {
          "base_uri": "https://localhost:8080/"
        },
        "id": "djcjitxJpbCI",
        "outputId": "d90c85b4-9c20-4b69-d74f-5a3e7b809607"
      },
      "execution_count": 31,
      "outputs": [
        {
          "output_type": "stream",
          "name": "stdout",
          "text": [
            "aprendendo python! iae\n"
          ]
        }
      ]
    }
  ]
}