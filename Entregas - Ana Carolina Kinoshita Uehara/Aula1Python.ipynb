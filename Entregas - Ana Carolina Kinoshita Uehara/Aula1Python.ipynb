{
  "nbformat": 4,
  "nbformat_minor": 0,
  "metadata": {
    "colab": {
      "provenance": [],
      "mount_file_id": "1Bu_mLmllubzO6nD3LPMQGZJRb3UPVhSV",
      "authorship_tag": "ABX9TyPrvN3ykX8umyGjIBB4F9uf",
      "include_colab_link": true
    },
    "kernelspec": {
      "name": "python3",
      "display_name": "Python 3"
    },
    "language_info": {
      "name": "python"
    }
  },
  "cells": [
    {
      "cell_type": "markdown",
      "metadata": {
        "id": "view-in-github",
        "colab_type": "text"
      },
      "source": [
        "<a href=\"https://colab.research.google.com/github/anakinoshita/iec2023_1_AeB/blob/main/Entregas%20-%20Ana%20Carolina%20Kinoshita%20Uehara/Aula1Python.ipynb\" target=\"_parent\"><img src=\"https://colab.research.google.com/assets/colab-badge.svg\" alt=\"Open In Colab\"/></a>"
      ]
    },
    {
      "cell_type": "markdown",
      "source": [
        "## Intrudução à Engenharia de Computação"
      ],
      "metadata": {
        "id": "PYXq_nCwyZjs"
      }
    },
    {
      "cell_type": "code",
      "execution_count": null,
      "metadata": {
        "colab": {
          "base_uri": "https://localhost:8080/"
        },
        "id": "iDD0LyRpyA6-",
        "outputId": "742f4139-7777-487f-9bea-e62b6f1357e1"
      },
      "outputs": [
        {
          "output_type": "stream",
          "name": "stdout",
          "text": [
            "A versão em uso é 3.10.12.\n"
          ]
        }
      ],
      "source": [
        "from platform import python_version\n",
        "print(f'A versão em uso é {python_version()}.')"
      ]
    },
    {
      "cell_type": "code",
      "source": [
        "#verificar se o phyton está funcionando\n",
        "print('Bye bye, World!')"
      ],
      "metadata": {
        "colab": {
          "base_uri": "https://localhost:8080/"
        },
        "id": "7RYAv3EPzKD1",
        "outputId": "922c93c7-efe0-4944-bef4-06e9ca766504"
      },
      "execution_count": null,
      "outputs": [
        {
          "output_type": "stream",
          "name": "stdout",
          "text": [
            "Bye bye, World!\n"
          ]
        }
      ]
    },
    {
      "cell_type": "markdown",
      "source": [
        "## Operadores Aritméticos"
      ],
      "metadata": {
        "id": "gIb1RLX90Ptj"
      }
    },
    {
      "cell_type": "code",
      "source": [
        "#Adição\n",
        "1+1"
      ],
      "metadata": {
        "id": "lVkHPZW20V6x"
      },
      "execution_count": null,
      "outputs": []
    },
    {
      "cell_type": "code",
      "source": [
        "#Subtração\n",
        "2-1"
      ],
      "metadata": {
        "id": "vAd0lVSq0aR5"
      },
      "execution_count": null,
      "outputs": []
    },
    {
      "cell_type": "code",
      "source": [
        "#Multiplicação\n",
        "2*2"
      ],
      "metadata": {
        "id": "UiXn_TLm0eH4"
      },
      "execution_count": null,
      "outputs": []
    },
    {
      "cell_type": "code",
      "source": [
        "#Divisão\n",
        "3/2"
      ],
      "metadata": {
        "id": "aXh6fWQi0is3"
      },
      "execution_count": null,
      "outputs": []
    },
    {
      "cell_type": "code",
      "source": [
        "#Potência\n",
        "4**2"
      ],
      "metadata": {
        "id": "wEs9qeWh0i2g"
      },
      "execution_count": null,
      "outputs": []
    },
    {
      "cell_type": "code",
      "source": [
        "#Módulo (resto da divisão)\n",
        "10%3"
      ],
      "metadata": {
        "id": "YBUjSebU0tvh"
      },
      "execution_count": null,
      "outputs": []
    },
    {
      "cell_type": "markdown",
      "source": [
        "## Tipos de dados (Type)"
      ],
      "metadata": {
        "id": "gK-m-9hj1NO5"
      }
    },
    {
      "cell_type": "code",
      "source": [
        "#Qual o tipo do (?) -> inteiro\n",
        "type(5)"
      ],
      "metadata": {
        "id": "0thKyyTj1SNh"
      },
      "execution_count": null,
      "outputs": []
    },
    {
      "cell_type": "code",
      "source": [
        "#Qual o tipo do (?) -> Float - Decimal\n",
        "type(5.0)"
      ],
      "metadata": {
        "id": "q1u3aDgY1bDm"
      },
      "execution_count": null,
      "outputs": []
    },
    {
      "cell_type": "code",
      "source": [
        "#Qual o tipo do (?) -> String\n",
        "a = 'Estudando Python!'\n",
        "type(a)"
      ],
      "metadata": {
        "id": "KhKIinHx1jzv"
      },
      "execution_count": null,
      "outputs": []
    },
    {
      "cell_type": "markdown",
      "source": [
        "##Condicional if"
      ],
      "metadata": {
        "id": "U83nbLlZ17sn"
      }
    },
    {
      "cell_type": "code",
      "source": [
        "#Condicional if\n",
        "if 5>2:\n",
        "    print(\"A sentença é verdaeira\")"
      ],
      "metadata": {
        "colab": {
          "base_uri": "https://localhost:8080/"
        },
        "id": "Pmp3V5Fx2BMu",
        "outputId": "a8e75140-02f4-47d8-8044-b54a4c1a7140"
      },
      "execution_count": null,
      "outputs": [
        {
          "output_type": "stream",
          "name": "stdout",
          "text": [
            "A sentença é verdaeira\n"
          ]
        }
      ]
    },
    {
      "cell_type": "code",
      "source": [
        "#Condicional if...else\n",
        "if 5<2:\n",
        "    print (\"A sentemça é verdadeira!\")\n",
        "else:\n",
        "    print (\"A sentaça é falsa\")"
      ],
      "metadata": {
        "colab": {
          "base_uri": "https://localhost:8080/"
        },
        "id": "qgSLzP002J7e",
        "outputId": "0e8b964e-6dc7-4775-9973-ac5b9de1ec55"
      },
      "execution_count": null,
      "outputs": [
        {
          "output_type": "stream",
          "name": "stdout",
          "text": [
            "A sentaça é falsa\n"
          ]
        }
      ]
    },
    {
      "cell_type": "code",
      "source": [
        "#Condicional if...else com variável\n",
        "dia = \"Quarta-feira\"\n",
        "if dia == \"Sexta-feira\":\n",
        "  print(\"Hoje fará sol!\")\n",
        "else:\n",
        "  print(\"Hoje vai chover!\")\n",
        "\n",
        "type (dia)"
      ],
      "metadata": {
        "colab": {
          "base_uri": "https://localhost:8080/"
        },
        "id": "l9QUwSs72dhd",
        "outputId": "672f8d60-f931-4572-f5f3-a2640e18118a"
      },
      "execution_count": null,
      "outputs": [
        {
          "output_type": "stream",
          "name": "stdout",
          "text": [
            "Hoje vai chover!\n"
          ]
        },
        {
          "output_type": "execute_result",
          "data": {
            "text/plain": [
              "str"
            ]
          },
          "metadata": {},
          "execution_count": 19
        }
      ]
    },
    {
      "cell_type": "markdown",
      "source": [
        "## Manipulando Arquivos"
      ],
      "metadata": {
        "id": "2VkX4cat3Q6r"
      }
    },
    {
      "cell_type": "code",
      "source": [
        "from google.colab import drive\n",
        "drive.mount ('/content/drive')"
      ],
      "metadata": {
        "colab": {
          "base_uri": "https://localhost:8080/"
        },
        "id": "pxOcjCHh3Tr8",
        "outputId": "af5bb1b3-e4e6-4d66-a904-f13ee655559b"
      },
      "execution_count": null,
      "outputs": [
        {
          "output_type": "stream",
          "name": "stdout",
          "text": [
            "Drive already mounted at /content/drive; to attempt to forcibly remount, call drive.mount(\"/content/drive\", force_remount=True).\n"
          ]
        }
      ]
    },
    {
      "cell_type": "markdown",
      "source": [
        "## Lendo arquivos"
      ],
      "metadata": {
        "id": "TdoHlI0135si"
      }
    },
    {
      "cell_type": "code",
      "source": [
        "## Abrindo o arquivo para leitura\n",
        "a1 = open(\"/content/drive/MyDrive/Colab Notebooks/aula de python.txt\", \"r\")"
      ],
      "metadata": {
        "id": "3WbsYOdY38Mb"
      },
      "execution_count": null,
      "outputs": []
    },
    {
      "cell_type": "code",
      "source": [
        "#Lendo o arquivo\n",
        "print (a1.read())"
      ],
      "metadata": {
        "colab": {
          "base_uri": "https://localhost:8080/"
        },
        "id": "9gE7_hM55UEx",
        "outputId": "54aa1fa0-291e-4878-d11f-ae4fccc398bd"
      },
      "execution_count": null,
      "outputs": [
        {
          "output_type": "stream",
          "name": "stdout",
          "text": [
            "bom dia \n",
            "\n"
          ]
        }
      ]
    },
    {
      "cell_type": "markdown",
      "source": [
        "#Gravando arquivos(.txt)"
      ],
      "metadata": {
        "id": "fb0ozHZu72-z"
      }
    },
    {
      "cell_type": "code",
      "source": [
        "#Abrindo o arquivo para gravação\n",
        "a2 = open(\"/content/drive/MyDrive/Colab Notebooks/texto python.txt\", \"w\")"
      ],
      "metadata": {
        "id": "o8o2jL5e761r"
      },
      "execution_count": 40,
      "outputs": []
    },
    {
      "cell_type": "code",
      "source": [
        "#Gravando no arquivo\n",
        "a2.write(\"Arraial do Engenho\")"
      ],
      "metadata": {
        "id": "9wHxHCFu8FT6",
        "colab": {
          "base_uri": "https://localhost:8080/"
        },
        "outputId": "18f972b8-fcfd-4484-d1b5-d1086b53ed03"
      },
      "execution_count": 41,
      "outputs": [
        {
          "output_type": "execute_result",
          "data": {
            "text/plain": [
              "18"
            ]
          },
          "metadata": {},
          "execution_count": 41
        }
      ]
    },
    {
      "cell_type": "code",
      "source": [
        "#Abrindo o arquivo para leitura\n",
        "a2 = open (\"/content/drive/MyDrive/Colab Notebooks/texto python.txt\")"
      ],
      "metadata": {
        "id": "GDMojxGH8ud4"
      },
      "execution_count": 42,
      "outputs": []
    },
    {
      "cell_type": "code",
      "source": [
        "#Imprimindo o arquivo\n",
        "print (a2.read())"
      ],
      "metadata": {
        "colab": {
          "base_uri": "https://localhost:8080/"
        },
        "id": "5Ww7DqzM88sA",
        "outputId": "a742bf19-9560-4b78-9f60-3bb3249346d0"
      },
      "execution_count": 43,
      "outputs": [
        {
          "output_type": "stream",
          "name": "stdout",
          "text": [
            "Arraial do Engenho\n"
          ]
        }
      ]
    }
  ]
}