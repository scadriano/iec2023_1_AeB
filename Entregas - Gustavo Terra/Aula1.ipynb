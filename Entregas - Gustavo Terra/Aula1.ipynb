{
  "nbformat": 4,
  "nbformat_minor": 0,
  "metadata": {
    "colab": {
      "provenance": [],
      "authorship_tag": "ABX9TyOA9vuYi6OM/QwgMa8qaebR",
      "include_colab_link": true
    },
    "kernelspec": {
      "name": "python3",
      "display_name": "Python 3"
    },
    "language_info": {
      "name": "python"
    }
  },
  "cells": [
    {
      "cell_type": "markdown",
      "metadata": {
        "id": "view-in-github",
        "colab_type": "text"
      },
      "source": [
        "<a href=\"https://colab.research.google.com/github/TerraCampos/iec2023_1_AeB/blob/main/Entregas%20-%20Gustavo%20Terra/Untitled0.ipynb\" target=\"_parent\"><img src=\"https://colab.research.google.com/assets/colab-badge.svg\" alt=\"Open In Colab\"/></a>"
      ]
    },
    {
      "cell_type": "markdown",
      "source": [
        "## Introdução à Engenharia de Computação"
      ],
      "metadata": {
        "id": "Hs7JCiElyZ65"
      }
    },
    {
      "cell_type": "code",
      "execution_count": null,
      "metadata": {
        "colab": {
          "base_uri": "https://localhost:8080/"
        },
        "id": "rxhIBgTvvA73",
        "outputId": "1a46ce7f-c39f-4f76-a9cf-5ebd72662699"
      },
      "outputs": [
        {
          "output_type": "stream",
          "name": "stdout",
          "text": [
            "A versão em uso é 3.10.12.\n"
          ]
        }
      ],
      "source": [
        "from platform import python_version\n",
        "print(f\"A versão em uso é {python_version()}.\")"
      ]
    },
    {
      "cell_type": "code",
      "source": [
        "print(\"Bye bye, World!\")"
      ],
      "metadata": {
        "colab": {
          "base_uri": "https://localhost:8080/"
        },
        "id": "iV0v7zsa0L8r",
        "outputId": "bb02087f-82e5-42f7-b8f2-530c04b9fadf"
      },
      "execution_count": null,
      "outputs": [
        {
          "output_type": "stream",
          "name": "stdout",
          "text": [
            "Bye bye, World!\n"
          ]
        }
      ]
    },
    {
      "cell_type": "markdown",
      "source": [
        "## Operadores artiméticos"
      ],
      "metadata": {
        "id": "rQ1OC4q70ZUz"
      }
    },
    {
      "cell_type": "code",
      "source": [
        "# Adição\n",
        "1 + 1"
      ],
      "metadata": {
        "colab": {
          "base_uri": "https://localhost:8080/"
        },
        "id": "VNzPVHt40ccF",
        "outputId": "e07c39c9-2846-4f4c-d19b-dc7cfdeaf5c8"
      },
      "execution_count": null,
      "outputs": [
        {
          "output_type": "execute_result",
          "data": {
            "text/plain": [
              "2"
            ]
          },
          "metadata": {},
          "execution_count": 4
        }
      ]
    },
    {
      "cell_type": "code",
      "source": [
        "# Subtração\n",
        "2 - 1"
      ],
      "metadata": {
        "id": "4O0ak_AQ0g_C"
      },
      "execution_count": null,
      "outputs": []
    },
    {
      "cell_type": "code",
      "source": [
        "# Produto\n",
        "3 * 2"
      ],
      "metadata": {
        "id": "4W4gN0dj0i0S"
      },
      "execution_count": null,
      "outputs": []
    },
    {
      "cell_type": "code",
      "source": [
        "# Divisão\n",
        "10 / 2"
      ],
      "metadata": {
        "colab": {
          "base_uri": "https://localhost:8080/"
        },
        "id": "WaYjn95x0mEa",
        "outputId": "4c9ba1a8-fb6a-446c-dfae-dfd6794178aa"
      },
      "execution_count": null,
      "outputs": [
        {
          "output_type": "execute_result",
          "data": {
            "text/plain": [
              "5.0"
            ]
          },
          "metadata": {},
          "execution_count": 8
        }
      ]
    },
    {
      "cell_type": "code",
      "source": [
        "# Potência\n",
        "2 ** 3"
      ],
      "metadata": {
        "colab": {
          "base_uri": "https://localhost:8080/"
        },
        "id": "Klr_G_cZ0oF0",
        "outputId": "1f51c63f-7e0a-49aa-a212-5ce16a609ecb"
      },
      "execution_count": null,
      "outputs": [
        {
          "output_type": "execute_result",
          "data": {
            "text/plain": [
              "8"
            ]
          },
          "metadata": {},
          "execution_count": 7
        }
      ]
    },
    {
      "cell_type": "code",
      "source": [
        "# Módulo (resto da divisão)\n",
        "10 % 3"
      ],
      "metadata": {
        "colab": {
          "base_uri": "https://localhost:8080/"
        },
        "id": "VcZ8T1ji0pva",
        "outputId": "49dc0e78-aa98-426b-c6ca-a6b127034207"
      },
      "execution_count": null,
      "outputs": [
        {
          "output_type": "execute_result",
          "data": {
            "text/plain": [
              "1"
            ]
          },
          "metadata": {},
          "execution_count": 6
        }
      ]
    },
    {
      "cell_type": "markdown",
      "source": [
        "## Tipos de dados"
      ],
      "metadata": {
        "id": "ubcH8-321Md5"
      }
    },
    {
      "cell_type": "code",
      "source": [
        "# Tipo inteiro\n",
        "type(5)"
      ],
      "metadata": {
        "colab": {
          "base_uri": "https://localhost:8080/"
        },
        "id": "ldYnbYIE1OHT",
        "outputId": "ca5a5d21-2122-444f-a6ba-3380948fc2c6"
      },
      "execution_count": null,
      "outputs": [
        {
          "output_type": "execute_result",
          "data": {
            "text/plain": [
              "int"
            ]
          },
          "metadata": {},
          "execution_count": 38
        }
      ]
    },
    {
      "cell_type": "code",
      "source": [
        "# Tipo float (decimal)\n",
        "type(1.1)"
      ],
      "metadata": {
        "colab": {
          "base_uri": "https://localhost:8080/"
        },
        "id": "A6ZWBdTO1Uxa",
        "outputId": "da2bee50-63ed-4100-8ded-1e86c4e29c8e"
      },
      "execution_count": null,
      "outputs": [
        {
          "output_type": "execute_result",
          "data": {
            "text/plain": [
              "float"
            ]
          },
          "metadata": {},
          "execution_count": 39
        }
      ]
    },
    {
      "cell_type": "code",
      "source": [
        "# Tipo String\n",
        "a = \"Estudando Python!\"\n",
        "type(a)"
      ],
      "metadata": {
        "colab": {
          "base_uri": "https://localhost:8080/"
        },
        "id": "D0OFLwLf1WeK",
        "outputId": "25eecd0c-d273-4d93-b9d6-81402e8959e7"
      },
      "execution_count": null,
      "outputs": [
        {
          "output_type": "execute_result",
          "data": {
            "text/plain": [
              "str"
            ]
          },
          "metadata": {},
          "execution_count": 40
        }
      ]
    },
    {
      "cell_type": "markdown",
      "source": [
        "## Condicional if"
      ],
      "metadata": {
        "id": "Hm6VxH4x1-K4"
      }
    },
    {
      "cell_type": "code",
      "source": [
        "# Condicional if (Se)\n",
        "if 5 < 2:\n",
        "  print(\"A sentença é verdadeira!\")"
      ],
      "metadata": {
        "colab": {
          "base_uri": "https://localhost:8080/"
        },
        "id": "TAVx3Chr2AH3",
        "outputId": "013c5363-612f-4ebf-83c3-35eefe7dbbf2"
      },
      "execution_count": null,
      "outputs": [
        {
          "output_type": "stream",
          "name": "stdout",
          "text": [
            "A sentença é falsa!\n"
          ]
        }
      ]
    },
    {
      "cell_type": "code",
      "source": [
        "# Condicional if else (se, então)\n",
        "if 5 < 2:\n",
        "  print(\"A sentença é verdadeira!\")\n",
        "else:\n",
        "  print(\"A sentença é falsa!\")"
      ],
      "metadata": {
        "id": "wPT1TdKp2O0f"
      },
      "execution_count": null,
      "outputs": []
    },
    {
      "cell_type": "code",
      "source": [
        "# Condicional if else (se, então) com variáveis\n",
        "dia = \"Quarta-feira\"\n",
        "if dia == \"Sexta-feira\":\n",
        "  print(\"Hoje fará sol!\")\n",
        "else:\n",
        "  print(\"Hoje vai chover!\")\n",
        "\n",
        "type(dia)"
      ],
      "metadata": {
        "colab": {
          "base_uri": "https://localhost:8080/"
        },
        "id": "SQsnpQGj2a34",
        "outputId": "c30f7126-9af6-45b7-ae06-1a822327da4b"
      },
      "execution_count": null,
      "outputs": [
        {
          "output_type": "stream",
          "name": "stdout",
          "text": [
            "Hoje vai chover!\n"
          ]
        },
        {
          "output_type": "execute_result",
          "data": {
            "text/plain": [
              "str"
            ]
          },
          "metadata": {},
          "execution_count": 17
        }
      ]
    },
    {
      "cell_type": "markdown",
      "source": [
        "## Manipulação de arquivos"
      ],
      "metadata": {
        "id": "2x2d-QIGWvTT"
      }
    },
    {
      "cell_type": "markdown",
      "source": [
        "### Lendo arquivos de texto (.txt)"
      ],
      "metadata": {
        "id": "FWOV5m2141O6"
      }
    },
    {
      "cell_type": "code",
      "source": [
        "from google.colab import drive\n",
        "drive.mount(\"/content/drive\")"
      ],
      "metadata": {
        "colab": {
          "base_uri": "https://localhost:8080/"
        },
        "id": "GI2zpIff3S_t",
        "outputId": "2df492fc-a348-4b62-e32d-9c9231a61d43"
      },
      "execution_count": 1,
      "outputs": [
        {
          "output_type": "stream",
          "name": "stdout",
          "text": [
            "Mounted at /content/drive\n"
          ]
        }
      ]
    },
    {
      "cell_type": "code",
      "source": [
        "# Abrindo arquivo para leitura\n",
        "arquivo = open(\"/content/drive/MyDrive/arquivo.txt\", \"r\")"
      ],
      "metadata": {
        "id": "Sjgg8xAk3_ZR"
      },
      "execution_count": 3,
      "outputs": []
    },
    {
      "cell_type": "code",
      "source": [
        "# Lendo o arquvio\n",
        "print(arquivo.read())"
      ],
      "metadata": {
        "colab": {
          "base_uri": "https://localhost:8080/"
        },
        "id": "PdmE1hiK4euM",
        "outputId": "2593fc3c-5fa6-44e8-c596-fa8abce4f880"
      },
      "execution_count": 4,
      "outputs": [
        {
          "output_type": "stream",
          "name": "stdout",
          "text": [
            "Olá! Esse é o meu primeiro projeto em Python!\n",
            "\n"
          ]
        }
      ]
    },
    {
      "cell_type": "code",
      "source": [
        "# Fechando o arquivo\n",
        "arquivo.close()"
      ],
      "metadata": {
        "id": "GEJGrhnY93xg"
      },
      "execution_count": 5,
      "outputs": []
    },
    {
      "cell_type": "markdown",
      "source": [
        "## Gravando arquivos de texto (.txt)"
      ],
      "metadata": {
        "id": "CvxCPJlF46nq"
      }
    },
    {
      "cell_type": "code",
      "source": [
        "# Abrindo arquivo para gravação\n",
        "outroarquivo = open(\"/content/drive/MyDrive/outroarquivo.txt\", \"w\")"
      ],
      "metadata": {
        "id": "bNrYVHBO49ty"
      },
      "execution_count": 6,
      "outputs": []
    },
    {
      "cell_type": "code",
      "source": [
        "# Gravando no arquivo\n",
        "outroarquivo.write(\"Escrevendo qualquer coisa nesse novo arquivo\")"
      ],
      "metadata": {
        "colab": {
          "base_uri": "https://localhost:8080/"
        },
        "id": "b5zy5OCo5PIm",
        "outputId": "eae69cad-1cd9-498a-9f36-763214b59a31"
      },
      "execution_count": 7,
      "outputs": [
        {
          "output_type": "execute_result",
          "data": {
            "text/plain": [
              "44"
            ]
          },
          "metadata": {},
          "execution_count": 7
        }
      ]
    },
    {
      "cell_type": "code",
      "source": [
        "# Fechando o arquivo (evitando problemas para salvar alterações)\n",
        "outroarquivo.close()"
      ],
      "metadata": {
        "id": "3pyweske7rqV"
      },
      "execution_count": 8,
      "outputs": []
    },
    {
      "cell_type": "code",
      "source": [
        "# Abrindo o mesmo arquivo para leitura\n",
        "arquivo = open(\"/content/drive/MyDrive/outroarquivo.txt\", \"r\")"
      ],
      "metadata": {
        "id": "9eeTlUK_9lfB"
      },
      "execution_count": 9,
      "outputs": []
    },
    {
      "cell_type": "code",
      "source": [
        "# Lendo o arquivo\n",
        "print(arquivo.read())"
      ],
      "metadata": {
        "colab": {
          "base_uri": "https://localhost:8080/"
        },
        "id": "EeYtANdV9r6x",
        "outputId": "a1d7e623-6485-4604-bbfe-01bb5fbe73f4"
      },
      "execution_count": 10,
      "outputs": [
        {
          "output_type": "stream",
          "name": "stdout",
          "text": [
            "Escrevendo qualquer coisa nesse novo arquivo\n"
          ]
        }
      ]
    },
    {
      "cell_type": "code",
      "source": [
        "# Fechando o arquivo\n",
        "arquivo.close()"
      ],
      "metadata": {
        "id": "jZmumQxU96UI"
      },
      "execution_count": 11,
      "outputs": []
    }
  ]
}
