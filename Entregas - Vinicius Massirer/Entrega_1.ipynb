{
  "nbformat": 4,
  "nbformat_minor": 0,
  "metadata": {
    "colab": {
      "provenance": [],
      "mount_file_id": "1oIlt53OEJEuXERte54Wlu0_3M7J80YHs",
      "authorship_tag": "ABX9TyPTYhNBZFGjpFJhKo6QSA9u",
      "include_colab_link": true
    },
    "kernelspec": {
      "name": "python3",
      "display_name": "Python 3"
    },
    "language_info": {
      "name": "python"
    }
  },
  "cells": [
    {
      "cell_type": "markdown",
      "metadata": {
        "id": "view-in-github",
        "colab_type": "text"
      },
      "source": [
        "<a href=\"https://colab.research.google.com/github/ViniciusMass/iec2023_1_AeB/blob/main/Entregas%20-%20Vinicius%20Massirer/Entrega_1.ipynb\" target=\"_parent\"><img src=\"https://colab.research.google.com/assets/colab-badge.svg\" alt=\"Open In Colab\"/></a>"
      ]
    },
    {
      "cell_type": "markdown",
      "source": [
        "Introdução à Engenharia de Computação"
      ],
      "metadata": {
        "id": "rDzL8fP0yag0"
      }
    },
    {
      "cell_type": "code",
      "execution_count": null,
      "metadata": {
        "colab": {
          "base_uri": "https://localhost:8080/"
        },
        "id": "o7tZp2zlxnOI",
        "outputId": "6e5874e0-0bc4-40d0-d602-876c6808d378"
      },
      "outputs": [
        {
          "output_type": "stream",
          "name": "stdout",
          "text": [
            "A versão em uso é 3.10.12.\n"
          ]
        }
      ],
      "source": [
        "from platform import python_version\n",
        "print(f'A versão em uso é {python_version()}.')"
      ]
    },
    {
      "cell_type": "code",
      "source": [
        "print('Bye, bye, World!')"
      ],
      "metadata": {
        "colab": {
          "base_uri": "https://localhost:8080/"
        },
        "id": "nMcCI97lzEVq",
        "outputId": "5d7034ae-dbd0-4635-c8c9-e50076a60d19"
      },
      "execution_count": null,
      "outputs": [
        {
          "output_type": "stream",
          "name": "stdout",
          "text": [
            "Bye, bye, World!\n"
          ]
        }
      ]
    },
    {
      "cell_type": "markdown",
      "source": [
        "Operações Aritméticas"
      ],
      "metadata": {
        "id": "Hil0zJ8N0Ycw"
      }
    },
    {
      "cell_type": "code",
      "source": [
        "#Adição\n",
        "2+1"
      ],
      "metadata": {
        "colab": {
          "base_uri": "https://localhost:8080/"
        },
        "id": "Y-HloX9n0Z6v",
        "outputId": "d37ea45f-39b9-407f-a3f7-1d80e3e5ef63"
      },
      "execution_count": null,
      "outputs": [
        {
          "output_type": "execute_result",
          "data": {
            "text/plain": [
              "3"
            ]
          },
          "metadata": {},
          "execution_count": 5
        }
      ]
    },
    {
      "cell_type": "code",
      "source": [
        "#Subtração\n",
        "2-1"
      ],
      "metadata": {
        "colab": {
          "base_uri": "https://localhost:8080/"
        },
        "id": "ZfaZy4TA0fhX",
        "outputId": "4f5aa6fe-4a03-4184-b1d1-9257bcc1806d"
      },
      "execution_count": null,
      "outputs": [
        {
          "output_type": "execute_result",
          "data": {
            "text/plain": [
              "1"
            ]
          },
          "metadata": {},
          "execution_count": 6
        }
      ]
    },
    {
      "cell_type": "code",
      "source": [
        "#Multiplicação\n",
        "3*4"
      ],
      "metadata": {
        "colab": {
          "base_uri": "https://localhost:8080/"
        },
        "id": "ggDOAK-F0iGe",
        "outputId": "7a6d5c44-5978-4540-fd74-5919051f4692"
      },
      "execution_count": null,
      "outputs": [
        {
          "output_type": "execute_result",
          "data": {
            "text/plain": [
              "12"
            ]
          },
          "metadata": {},
          "execution_count": 7
        }
      ]
    },
    {
      "cell_type": "code",
      "source": [
        "#Divisão\n",
        "12/3"
      ],
      "metadata": {
        "colab": {
          "base_uri": "https://localhost:8080/"
        },
        "id": "_KUtDOBm0lD3",
        "outputId": "5ecf4e98-3405-459d-c44f-097a05466d27"
      },
      "execution_count": null,
      "outputs": [
        {
          "output_type": "execute_result",
          "data": {
            "text/plain": [
              "4.0"
            ]
          },
          "metadata": {},
          "execution_count": 8
        }
      ]
    },
    {
      "cell_type": "code",
      "source": [
        "#Potência\n",
        "4**2"
      ],
      "metadata": {
        "colab": {
          "base_uri": "https://localhost:8080/"
        },
        "id": "dRmQfBPD0oKH",
        "outputId": "f3edce0a-7e84-418f-cf03-ac8bc9af773e"
      },
      "execution_count": null,
      "outputs": [
        {
          "output_type": "execute_result",
          "data": {
            "text/plain": [
              "16"
            ]
          },
          "metadata": {},
          "execution_count": 9
        }
      ]
    },
    {
      "cell_type": "code",
      "source": [
        "#Módulo (Resto)\n",
        "20%3"
      ],
      "metadata": {
        "colab": {
          "base_uri": "https://localhost:8080/"
        },
        "id": "lyR-tgRA0q9m",
        "outputId": "0eaca5d7-3fee-40e2-fe42-d5376a999603"
      },
      "execution_count": null,
      "outputs": [
        {
          "output_type": "execute_result",
          "data": {
            "text/plain": [
              "2"
            ]
          },
          "metadata": {},
          "execution_count": 10
        }
      ]
    },
    {
      "cell_type": "markdown",
      "source": [
        "Tipos de Dados (Type)"
      ],
      "metadata": {
        "id": "_TT5dB-91RTm"
      }
    },
    {
      "cell_type": "code",
      "source": [
        "#int\n",
        "type(5)"
      ],
      "metadata": {
        "colab": {
          "base_uri": "https://localhost:8080/"
        },
        "id": "sJ1Ehpdg1VNV",
        "outputId": "97c47677-7281-419e-df3c-b6f1367a5847"
      },
      "execution_count": null,
      "outputs": [
        {
          "output_type": "execute_result",
          "data": {
            "text/plain": [
              "int"
            ]
          },
          "metadata": {},
          "execution_count": 11
        }
      ]
    },
    {
      "cell_type": "code",
      "source": [
        "#float\n",
        "type(5.0)"
      ],
      "metadata": {
        "colab": {
          "base_uri": "https://localhost:8080/"
        },
        "id": "w_inxmuE1Yvx",
        "outputId": "0abcbfa0-a059-4d5b-bfbd-33ed98afbce0"
      },
      "execution_count": null,
      "outputs": [
        {
          "output_type": "execute_result",
          "data": {
            "text/plain": [
              "float"
            ]
          },
          "metadata": {},
          "execution_count": 12
        }
      ]
    },
    {
      "cell_type": "code",
      "source": [
        "#string\n",
        "a = \"O que sou?\"\n",
        "type(a)"
      ],
      "metadata": {
        "colab": {
          "base_uri": "https://localhost:8080/"
        },
        "id": "3jM36i1U1aKs",
        "outputId": "d70848e7-a0f7-4279-ee12-044e9f424bba"
      },
      "execution_count": null,
      "outputs": [
        {
          "output_type": "execute_result",
          "data": {
            "text/plain": [
              "str"
            ]
          },
          "metadata": {},
          "execution_count": 13
        }
      ]
    },
    {
      "cell_type": "markdown",
      "source": [
        "Condicional 'if'"
      ],
      "metadata": {
        "id": "IxrloTKW1wW8"
      }
    },
    {
      "cell_type": "code",
      "source": [
        "if 5 > 2:\n",
        "  print(\"A sentença é verdadeira!\")"
      ],
      "metadata": {
        "colab": {
          "base_uri": "https://localhost:8080/"
        },
        "id": "0N4KifU22V27",
        "outputId": "959d3e91-767f-4c58-9b7e-0b76d30384ef"
      },
      "execution_count": null,
      "outputs": [
        {
          "output_type": "stream",
          "name": "stdout",
          "text": [
            "A sentença é verdadeira!\n"
          ]
        }
      ]
    },
    {
      "cell_type": "code",
      "source": [
        "if 5 < 2:\n",
        "  print(\"A sentença é verdadeira!\")\n",
        "else:\n",
        "  print(\"A sentença é falsa!\")"
      ],
      "metadata": {
        "colab": {
          "base_uri": "https://localhost:8080/"
        },
        "id": "fh78Jh922EkO",
        "outputId": "ea17bfae-d793-4c47-e258-d564842a1128"
      },
      "execution_count": null,
      "outputs": [
        {
          "output_type": "stream",
          "name": "stdout",
          "text": [
            "A sentença é falsa!\n"
          ]
        }
      ]
    },
    {
      "cell_type": "code",
      "source": [
        "dia = \"Quarta-feira\"\n",
        "if dia == \"Sexta-feira\":\n",
        "  print(\"Hoje fará sol!\")\n",
        "else:\n",
        "  print(\"Hoje vai chover!\")\n",
        "\n",
        "type(dia)"
      ],
      "metadata": {
        "colab": {
          "base_uri": "https://localhost:8080/"
        },
        "id": "nQXGB3tT2acq",
        "outputId": "f53e122b-76d2-48b6-b991-ac72fdbd1588"
      },
      "execution_count": null,
      "outputs": [
        {
          "output_type": "stream",
          "name": "stdout",
          "text": [
            "Hoje vai chover!\n"
          ]
        },
        {
          "output_type": "execute_result",
          "data": {
            "text/plain": [
              "str"
            ]
          },
          "metadata": {},
          "execution_count": 14
        }
      ]
    },
    {
      "cell_type": "markdown",
      "source": [
        "Manipulando Arquivos"
      ],
      "metadata": {
        "id": "iEQw4gG33Vv7"
      }
    },
    {
      "cell_type": "code",
      "source": [
        "a1 = open(\"/content/drive/MyDrive/Aula IntEng.txt\", \"r\")"
      ],
      "metadata": {
        "id": "yUGh7HME43aB"
      },
      "execution_count": null,
      "outputs": []
    },
    {
      "cell_type": "code",
      "source": [
        "print(a1.read())"
      ],
      "metadata": {
        "colab": {
          "base_uri": "https://localhost:8080/"
        },
        "id": "chjrLdo45Ise",
        "outputId": "c55d4bb6-8ad8-49f0-df1c-18204a3b2e13"
      },
      "execution_count": null,
      "outputs": [
        {
          "output_type": "stream",
          "name": "stdout",
          "text": [
            "oioi\n",
            "\n"
          ]
        }
      ]
    },
    {
      "cell_type": "code",
      "source": [
        "a2 = open(\"/content/drive/MyDrive/Aula IntEng.txt\", \"w\")"
      ],
      "metadata": {
        "id": "OxM2XmT_8Cbq"
      },
      "execution_count": null,
      "outputs": []
    },
    {
      "cell_type": "code",
      "source": [
        "a2.write(\"Aprendendo Python!\")"
      ],
      "metadata": {
        "colab": {
          "base_uri": "https://localhost:8080/"
        },
        "id": "z7RDAn7D8sTP",
        "outputId": "db918dd7-0f00-4fe6-9f72-2b417efd3283"
      },
      "execution_count": null,
      "outputs": [
        {
          "output_type": "execute_result",
          "data": {
            "text/plain": [
              "18"
            ]
          },
          "metadata": {},
          "execution_count": 32
        }
      ]
    },
    {
      "cell_type": "code",
      "source": [
        "a2 = open(\"/content/drive/MyDrive/Aula IntEng.txt\", \"r\")"
      ],
      "metadata": {
        "id": "v_sqiEVy8OFI"
      },
      "execution_count": null,
      "outputs": []
    },
    {
      "cell_type": "code",
      "source": [
        "print(a2.read())"
      ],
      "metadata": {
        "colab": {
          "base_uri": "https://localhost:8080/"
        },
        "id": "Bs1KiMgx8oVB",
        "outputId": "043b1e6c-2288-45e8-eb97-52d5369aebac"
      },
      "execution_count": null,
      "outputs": [
        {
          "output_type": "stream",
          "name": "stdout",
          "text": [
            "Aprendendo Python!\n"
          ]
        }
      ]
    }
  ]
}