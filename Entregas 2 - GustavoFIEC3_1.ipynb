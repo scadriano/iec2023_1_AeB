{
  "nbformat": 4,
  "nbformat_minor": 0,
  "metadata": {
    "colab": {
      "provenance": [],
      "authorship_tag": "ABX9TyO4XGiK0yDJfS3wT78VEjWp",
      "include_colab_link": true
    },
    "kernelspec": {
      "name": "python3",
      "display_name": "Python 3"
    },
    "language_info": {
      "name": "python"
    }
  },
  "cells": [
    {
      "cell_type": "markdown",
      "metadata": {
        "id": "view-in-github",
        "colab_type": "text"
      },
      "source": [
        "<a href=\"https://colab.research.google.com/github/GustavoFernandesdaCunha/iec2023_1_AeB/blob/main/Entregas%202%20-%20GustavoFIEC3_1.ipynb\" target=\"_parent\"><img src=\"https://colab.research.google.com/assets/colab-badge.svg\" alt=\"Open In Colab\"/></a>"
      ]
    },
    {
      "cell_type": "markdown",
      "source": [
        "##Manipulando arquivo\n"
      ],
      "metadata": {
        "id": "wXy4tBxI5BYn"
      }
    },
    {
      "cell_type": "code",
      "execution_count": 1,
      "metadata": {
        "colab": {
          "base_uri": "https://localhost:8080/"
        },
        "id": "2lfXIDpF4p_c",
        "outputId": "dbd8091b-f301-4ac2-cf72-b8c074071c93"
      },
      "outputs": [
        {
          "output_type": "stream",
          "name": "stdout",
          "text": [
            "Mounted at /content/drive\n"
          ]
        }
      ],
      "source": [
        "from google.colab import drive\n",
        "drive.mount('/content/drive')"
      ]
    },
    {
      "cell_type": "markdown",
      "source": [
        "##Lendo arquivos(.txt)"
      ],
      "metadata": {
        "id": "HV22c6WT5XIt"
      }
    },
    {
      "cell_type": "code",
      "source": [
        "#Abrindo o arquivo para leitura\n",
        "al = open('/content/drive/MyDrive/Colab Notebooks/Qualquer nome que ce quiser.txt', 'r')"
      ],
      "metadata": {
        "id": "awB12ejg5fl2"
      },
      "execution_count": 9,
      "outputs": []
    },
    {
      "cell_type": "code",
      "source": [
        "#Lendo arquivo\n",
        "print(al.read())"
      ],
      "metadata": {
        "colab": {
          "base_uri": "https://localhost:8080/"
        },
        "id": "34gdpEcS6csU",
        "outputId": "801d0c7f-2fe9-472a-fb07-1e5924376366"
      },
      "execution_count": 10,
      "outputs": [
        {
          "output_type": "stream",
          "name": "stdout",
          "text": [
            "O rato roeu a roupa do rei de roma\n"
          ]
        }
      ]
    },
    {
      "cell_type": "markdown",
      "source": [
        "##Gravando arquivos(.txt)"
      ],
      "metadata": {
        "id": "NXinsItU8BtZ"
      }
    },
    {
      "cell_type": "code",
      "source": [
        "#Abrindo o arquivo para gravação\n",
        "a2 = open(\"/content/drive/MyDrive/Colab Notebooks/Qualquer nome que ce quiser.txt\", \"w\")"
      ],
      "metadata": {
        "id": "GfTXUOgi8EzI"
      },
      "execution_count": 16,
      "outputs": []
    },
    {
      "cell_type": "code",
      "source": [
        "#Gravando no arquivo\n",
        "a2.write(\"o sapo não lava o pé\")"
      ],
      "metadata": {
        "colab": {
          "base_uri": "https://localhost:8080/"
        },
        "id": "P3wRMzSV8nO3",
        "outputId": "02802847-ce9f-4a86-d77a-dd550e160241"
      },
      "execution_count": 17,
      "outputs": [
        {
          "output_type": "execute_result",
          "data": {
            "text/plain": [
              "20"
            ]
          },
          "metadata": {},
          "execution_count": 17
        }
      ]
    },
    {
      "cell_type": "code",
      "source": [
        "#Abrindo o arquivo para a leitura\n",
        "a2 = open(\"/content/drive/MyDrive/Colab Notebooks/Qualquer nome que ce quiser.txt\", \"r\")"
      ],
      "metadata": {
        "id": "OFLw173Z8xU_"
      },
      "execution_count": 18,
      "outputs": []
    },
    {
      "cell_type": "code",
      "source": [
        "#imprimindo arquivo\n",
        "print(a2.read())"
      ],
      "metadata": {
        "colab": {
          "base_uri": "https://localhost:8080/"
        },
        "id": "k8qnaUMg9L2P",
        "outputId": "833671be-c13f-4172-866e-e83ceaa67b20"
      },
      "execution_count": 19,
      "outputs": [
        {
          "output_type": "stream",
          "name": "stdout",
          "text": [
            "o sapo não lava o pé\n"
          ]
        }
      ]
    }
  ]
}