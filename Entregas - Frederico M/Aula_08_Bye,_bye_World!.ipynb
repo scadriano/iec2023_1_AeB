{
  "nbformat": 4,
  "nbformat_minor": 0,
  "metadata": {
    "colab": {
      "provenance": [],
      "mount_file_id": "16BAniluBuHU0ccTEguqpe3ZXi0rFgw0N",
      "authorship_tag": "ABX9TyOtTGAJdfNoNDZq9YWDiPYE",
      "include_colab_link": true
    },
    "kernelspec": {
      "name": "python3",
      "display_name": "Python 3"
    },
    "language_info": {
      "name": "python"
    }
  },
  "cells": [
    {
      "cell_type": "markdown",
      "metadata": {
        "id": "view-in-github",
        "colab_type": "text"
      },
      "source": [
        "<a href=\"https://colab.research.google.com/github/FredericoMiguel/iec2023_1_AeB/blob/main/Entregas%20-%20Frederico%20M/Aula_08_Bye%2C_bye_World!.ipynb\" target=\"_parent\"><img src=\"https://colab.research.google.com/assets/colab-badge.svg\" alt=\"Open In Colab\"/></a>"
      ]
    },
    {
      "cell_type": "markdown",
      "source": [
        "Introdução à Engenharia de Computação"
      ],
      "metadata": {
        "id": "zQOmZP_tgweq"
      }
    },
    {
      "cell_type": "code",
      "source": [
        "from platform import python_version\n",
        "print(f'A versão em uso é {python_version()}.')"
      ],
      "metadata": {
        "colab": {
          "base_uri": "https://localhost:8080/"
        },
        "id": "b9xSLtjwg6Ig",
        "outputId": "586f00b8-90da-4c94-9cff-174827262e26"
      },
      "execution_count": null,
      "outputs": [
        {
          "output_type": "stream",
          "name": "stdout",
          "text": [
            "A versão em uso é 3.10.12.\n"
          ]
        }
      ]
    },
    {
      "cell_type": "code",
      "source": [
        "# Verificar se o Python está funcionando\n",
        "print('Bye bye, World!')"
      ],
      "metadata": {
        "colab": {
          "base_uri": "https://localhost:8080/"
        },
        "id": "8_d7HQ3GiLrQ",
        "outputId": "d8e81268-ea90-441d-df13-63ddc9a3acc9"
      },
      "execution_count": null,
      "outputs": [
        {
          "output_type": "stream",
          "name": "stdout",
          "text": [
            "Bye bye, World!\n"
          ]
        }
      ]
    },
    {
      "cell_type": "markdown",
      "source": [
        "Operadores Aritméticos"
      ],
      "metadata": {
        "id": "s_9tBYLxiyAN"
      }
    },
    {
      "cell_type": "code",
      "source": [
        "# Adição\n",
        "1 + 1"
      ],
      "metadata": {
        "colab": {
          "base_uri": "https://localhost:8080/"
        },
        "id": "PEYTM7gditw3",
        "outputId": "a7fcecbc-0076-49a6-82bd-811c215dae77"
      },
      "execution_count": null,
      "outputs": [
        {
          "output_type": "execute_result",
          "data": {
            "text/plain": [
              "2"
            ]
          },
          "metadata": {},
          "execution_count": 5
        }
      ]
    },
    {
      "cell_type": "code",
      "source": [
        "# Subtração\n",
        "2 - 1"
      ],
      "metadata": {
        "id": "MPn2Qs1HjD0G"
      },
      "execution_count": null,
      "outputs": []
    },
    {
      "cell_type": "code",
      "source": [
        "# Multiplicação\n",
        "2 * 2"
      ],
      "metadata": {
        "id": "R8HXbJKDjHit"
      },
      "execution_count": null,
      "outputs": []
    },
    {
      "cell_type": "code",
      "source": [
        "# Divisão\n",
        "3 / 2"
      ],
      "metadata": {
        "colab": {
          "base_uri": "https://localhost:8080/"
        },
        "id": "KSQY-H_6jLTl",
        "outputId": "b8eac21d-129f-4f3a-bbbb-aa7c5552aad4"
      },
      "execution_count": null,
      "outputs": [
        {
          "output_type": "execute_result",
          "data": {
            "text/plain": [
              "1.5"
            ]
          },
          "metadata": {},
          "execution_count": 7
        }
      ]
    },
    {
      "cell_type": "code",
      "source": [
        "# Potência\n",
        "4 ** 2"
      ],
      "metadata": {
        "colab": {
          "base_uri": "https://localhost:8080/"
        },
        "id": "W0Nu7kavjYjN",
        "outputId": "03a96dad-0fb5-463c-b111-89bcc2ef4142"
      },
      "execution_count": null,
      "outputs": [
        {
          "output_type": "execute_result",
          "data": {
            "text/plain": [
              "16"
            ]
          },
          "metadata": {},
          "execution_count": 8
        }
      ]
    },
    {
      "cell_type": "code",
      "source": [
        "# Módulo (resto da divisão)\n",
        "10 % 3"
      ],
      "metadata": {
        "colab": {
          "base_uri": "https://localhost:8080/"
        },
        "id": "-VA1_blejdZ9",
        "outputId": "710bfc7e-35d3-4e82-c986-176f69a67480"
      },
      "execution_count": null,
      "outputs": [
        {
          "output_type": "execute_result",
          "data": {
            "text/plain": [
              "1"
            ]
          },
          "metadata": {},
          "execution_count": 9
        }
      ]
    },
    {
      "cell_type": "markdown",
      "source": [
        "Tipos de dados (Type)"
      ],
      "metadata": {
        "id": "5LFdKfhUjzRF"
      }
    },
    {
      "cell_type": "code",
      "source": [
        "# Qual o tipo do (?) -> Inteiro\n",
        "type(5)"
      ],
      "metadata": {
        "colab": {
          "base_uri": "https://localhost:8080/"
        },
        "id": "iyf7-ExZj3P0",
        "outputId": "73c2c8ff-ceb3-4337-d9ee-cc033d61b8a9"
      },
      "execution_count": null,
      "outputs": [
        {
          "output_type": "execute_result",
          "data": {
            "text/plain": [
              "int"
            ]
          },
          "metadata": {},
          "execution_count": 10
        }
      ]
    },
    {
      "cell_type": "code",
      "source": [
        "# Qual o tipo do (?) -> Float - decimal\n",
        "type(5.0)"
      ],
      "metadata": {
        "colab": {
          "base_uri": "https://localhost:8080/"
        },
        "id": "O8DtGwSqkHFU",
        "outputId": "79f19bb4-b984-48c1-8501-b42612e190ac"
      },
      "execution_count": null,
      "outputs": [
        {
          "output_type": "execute_result",
          "data": {
            "text/plain": [
              "float"
            ]
          },
          "metadata": {},
          "execution_count": 11
        }
      ]
    },
    {
      "cell_type": "code",
      "source": [
        "# Qual o tipo do (?) -> String\n",
        "a = 'Estudando Python!'\n",
        "type(a)"
      ],
      "metadata": {
        "colab": {
          "base_uri": "https://localhost:8080/"
        },
        "id": "BbTj_baQkQ6Z",
        "outputId": "80af08ce-a0f6-4cf7-e595-68b2956a775e"
      },
      "execution_count": null,
      "outputs": [
        {
          "output_type": "execute_result",
          "data": {
            "text/plain": [
              "str"
            ]
          },
          "metadata": {},
          "execution_count": 12
        }
      ]
    },
    {
      "cell_type": "markdown",
      "source": [
        "Condicional if"
      ],
      "metadata": {
        "id": "OGfCt7lEkiuj"
      }
    },
    {
      "cell_type": "code",
      "source": [
        "# Condicional if (Se)\n",
        "if 5 > 2\n",
        "print(\"A sentença é verdadeira!\")"
      ],
      "metadata": {
        "id": "lSHySuMbklea"
      },
      "execution_count": null,
      "outputs": []
    },
    {
      "cell_type": "code",
      "source": [
        "# Condicional if...else\n",
        "if 5 < 2:\n",
        "  print(\"A sentença é verdadeira!\")\n",
        "else:\n",
        "  print(\"A sentença é falsa!\")"
      ],
      "metadata": {
        "colab": {
          "base_uri": "https://localhost:8080/"
        },
        "id": "ifp5p-H1kzNq",
        "outputId": "f129ef72-45a8-4650-ca60-90a36094759a"
      },
      "execution_count": null,
      "outputs": [
        {
          "output_type": "stream",
          "name": "stdout",
          "text": [
            "A sentença é falsa!\n"
          ]
        }
      ]
    },
    {
      "cell_type": "code",
      "source": [
        "# Condicional if...else com variável\n",
        "dia = \"Quarta-feira\"\n",
        "if dia == \"Sexta-feira\":\n",
        "  print(\"Hoje fará Sol!\")\n",
        "else:\n",
        "    print(\"Hoje vai chover!\")"
      ],
      "metadata": {
        "colab": {
          "base_uri": "https://localhost:8080/"
        },
        "id": "S55pB3czlGrC",
        "outputId": "1138eea5-1db0-46ce-bf98-989400583e89"
      },
      "execution_count": null,
      "outputs": [
        {
          "output_type": "stream",
          "name": "stdout",
          "text": [
            "Hoje vai chover\n"
          ]
        }
      ]
    },
    {
      "cell_type": "markdown",
      "source": [
        "Manipulando Arquivos"
      ],
      "metadata": {
        "id": "3lIQNekTl1uh"
      }
    },
    {
      "cell_type": "code",
      "source": [
        "from google.colab import drive\n",
        "drive.mount('/content/drive/MyDrive/Colab Notebooks')"
      ],
      "metadata": {
        "id": "7-ckQH7gDfpj"
      },
      "execution_count": null,
      "outputs": []
    },
    {
      "cell_type": "markdown",
      "source": [
        "Lendo arquivos (.txt)"
      ],
      "metadata": {
        "id": "KtArLf45D_sf"
      }
    },
    {
      "cell_type": "code",
      "source": [
        "# Abrindo o arquivo para leitura\n",
        "a1 = open(\"/content/drive/MyDrive/Colab Notebooks/Teste.txt\", \"r\")"
      ],
      "metadata": {
        "id": "4bN78hdyl5vx"
      },
      "execution_count": null,
      "outputs": []
    },
    {
      "cell_type": "code",
      "source": [
        "# Lendo o arquivo\n",
        "print(a1.read())"
      ],
      "metadata": {
        "colab": {
          "base_uri": "https://localhost:8080/"
        },
        "id": "EKgUI8CgoExG",
        "outputId": "11eecddc-9b9c-43c7-ea33-9f724eba25f3"
      },
      "execution_count": null,
      "outputs": [
        {
          "output_type": "stream",
          "name": "stdout",
          "text": [
            "oi kk\n"
          ]
        }
      ]
    },
    {
      "cell_type": "markdown",
      "source": [
        "Gravando arquivos (.txt)"
      ],
      "metadata": {
        "id": "7Y2GOxCtEMcn"
      }
    },
    {
      "cell_type": "code",
      "source": [
        "# Abrindo o arquivo para gravação\n",
        "a2 = open(\"/content/drive/MyDrive/Colab Notebooks/Teste2.txt\", \"w\")"
      ],
      "metadata": {
        "id": "RlgHi6x2o4ot"
      },
      "execution_count": null,
      "outputs": []
    },
    {
      "cell_type": "code",
      "source": [
        "# Gravando no aqruivo\n",
        "a2.write(\"Aprendendo Python!\")"
      ],
      "metadata": {
        "colab": {
          "base_uri": "https://localhost:8080/"
        },
        "id": "gXNv790tpM0E",
        "outputId": "3aff8bde-33a1-40e5-871e-fd8585bcb13e"
      },
      "execution_count": null,
      "outputs": [
        {
          "output_type": "execute_result",
          "data": {
            "text/plain": [
              "18"
            ]
          },
          "metadata": {},
          "execution_count": 3
        }
      ]
    },
    {
      "cell_type": "code",
      "source": [
        "# Abrindo o arquivo para leitura\n",
        "a2 = open(\"/content/drive/MyDrive/Colab Notebooks/Teste2.txt\", \"r\")"
      ],
      "metadata": {
        "id": "OqFGevQjFNpB"
      },
      "execution_count": null,
      "outputs": []
    },
    {
      "cell_type": "code",
      "source": [
        "# Imprimindo o arquivo\n",
        "print(a2.read())"
      ],
      "metadata": {
        "colab": {
          "base_uri": "https://localhost:8080/"
        },
        "id": "tgxxRPGcFa72",
        "outputId": "94401864-082f-44dc-aee0-4c0d8a8a12e1"
      },
      "execution_count": null,
      "outputs": [
        {
          "output_type": "stream",
          "name": "stdout",
          "text": [
            "Aprendendo Python!\n"
          ]
        }
      ]
    }
  ]
}