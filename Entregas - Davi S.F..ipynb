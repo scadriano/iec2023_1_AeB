{
  "nbformat": 4,
  "nbformat_minor": 0,
  "metadata": {
    "colab": {
      "provenance": [],
      "mount_file_id": "1q_lUsQwLzh5x3PiSicATLSLRv3mrAinj",
      "authorship_tag": "ABX9TyN0u9cJO1CoOdmQ0MqzfaY4",
      "include_colab_link": true
    },
    "kernelspec": {
      "name": "python3",
      "display_name": "Python 3"
    },
    "language_info": {
      "name": "python"
    }
  },
  "cells": [
    {
      "cell_type": "markdown",
      "metadata": {
        "id": "view-in-github",
        "colab_type": "text"
      },
      "source": [
        "<a href=\"https://colab.research.google.com/github/sfDavi/iec2023_1_AeB/blob/main/Entregas%20-%20Davi%20S.F..ipynb\" target=\"_parent\"><img src=\"https://colab.research.google.com/assets/colab-badge.svg\" alt=\"Open In Colab\"/></a>"
      ]
    },
    {
      "cell_type": "markdown",
      "source": [
        "## Introdução a Engenharia de Computação"
      ],
      "metadata": {
        "id": "egqUBNJ8gufZ"
      }
    },
    {
      "cell_type": "code",
      "source": [
        "from platform import python_version\n",
        "print(f'A versão em uso é {python_version()}.')"
      ],
      "metadata": {
        "colab": {
          "base_uri": "https://localhost:8080/"
        },
        "id": "RfNMEEGAg6wR",
        "outputId": "9e11dae7-837d-4dbc-ec92-5b4333e68ded"
      },
      "execution_count": 11,
      "outputs": [
        {
          "output_type": "stream",
          "name": "stdout",
          "text": [
            "A versão em uso é 3.10.12.\n"
          ]
        }
      ]
    },
    {
      "cell_type": "code",
      "source": [
        "print ('Good bye.')"
      ],
      "metadata": {
        "colab": {
          "base_uri": "https://localhost:8080/"
        },
        "id": "Fvw_IyvViNdv",
        "outputId": "9a2c7c34-2df7-475f-eac7-d8d495ad28b5"
      },
      "execution_count": 26,
      "outputs": [
        {
          "output_type": "stream",
          "name": "stdout",
          "text": [
            "Good bye.\n"
          ]
        }
      ]
    },
    {
      "cell_type": "markdown",
      "source": [
        "## Operadores aritméticos"
      ],
      "metadata": {
        "id": "EfTs_j8YisQZ"
      }
    },
    {
      "cell_type": "code",
      "source": [
        "#Adição\n",
        "1 + 1"
      ],
      "metadata": {
        "colab": {
          "base_uri": "https://localhost:8080/"
        },
        "id": "Leynzjcqiv3l",
        "outputId": "d23cd61d-5012-45cb-ce3c-c45d164f7ba8"
      },
      "execution_count": 15,
      "outputs": [
        {
          "output_type": "execute_result",
          "data": {
            "text/plain": [
              "1"
            ]
          },
          "metadata": {},
          "execution_count": 15
        }
      ]
    },
    {
      "cell_type": "code",
      "source": [
        "#Multiplicação\n",
        "2 * 2"
      ],
      "metadata": {
        "colab": {
          "base_uri": "https://localhost:8080/"
        },
        "id": "jCG03Z4Jp4S3",
        "outputId": "5bebf7f5-7af2-41cf-93cb-2fa7a3db6fce"
      },
      "execution_count": 23,
      "outputs": [
        {
          "output_type": "execute_result",
          "data": {
            "text/plain": [
              "4"
            ]
          },
          "metadata": {},
          "execution_count": 23
        }
      ]
    },
    {
      "cell_type": "code",
      "source": [
        "#Divisão\n",
        "3 / 2"
      ],
      "metadata": {
        "id": "d_T2gdj4p5TO"
      },
      "execution_count": null,
      "outputs": []
    },
    {
      "cell_type": "code",
      "source": [
        "#Potência\n",
        "4 ** 2"
      ],
      "metadata": {
        "id": "bgdPTb9Up6Ye"
      },
      "execution_count": null,
      "outputs": []
    },
    {
      "cell_type": "code",
      "source": [
        "#Mod (Resto da div.)\n",
        "10 % 3"
      ],
      "metadata": {
        "colab": {
          "base_uri": "https://localhost:8080/"
        },
        "id": "m3kDKjlmp7tm",
        "outputId": "6be7d44a-6156-40e2-d57e-8f1da5ac97d2"
      },
      "execution_count": 25,
      "outputs": [
        {
          "output_type": "execute_result",
          "data": {
            "text/plain": [
              "1"
            ]
          },
          "metadata": {},
          "execution_count": 25
        }
      ]
    },
    {
      "cell_type": "markdown",
      "source": [
        "## Tipos de dados"
      ],
      "metadata": {
        "id": "F0iM38vUjzK7"
      }
    },
    {
      "cell_type": "code",
      "source": [
        "#type inteiro\n",
        "type(5)"
      ],
      "metadata": {
        "colab": {
          "base_uri": "https://localhost:8080/"
        },
        "id": "BAdreuOcj0be",
        "outputId": "e0092ad6-7ef2-4fd5-e530-00c60fb67c8a"
      },
      "execution_count": 27,
      "outputs": [
        {
          "output_type": "execute_result",
          "data": {
            "text/plain": [
              "int"
            ]
          },
          "metadata": {},
          "execution_count": 27
        }
      ]
    },
    {
      "cell_type": "code",
      "source": [
        "#type float\n",
        "type(0.5)"
      ],
      "metadata": {
        "colab": {
          "base_uri": "https://localhost:8080/"
        },
        "id": "ijMQePL6j5oT",
        "outputId": "8f18156c-f5fe-4a35-d43d-73a11726d628"
      },
      "execution_count": 29,
      "outputs": [
        {
          "output_type": "execute_result",
          "data": {
            "text/plain": [
              "float"
            ]
          },
          "metadata": {},
          "execution_count": 29
        }
      ]
    },
    {
      "cell_type": "code",
      "source": [
        "#type string\n",
        "a = \"texto\"\n",
        "type(a)"
      ],
      "metadata": {
        "colab": {
          "base_uri": "https://localhost:8080/"
        },
        "id": "tuT1uJlOj75L",
        "outputId": "d4642268-53b0-4a9a-aca1-318ce738d394"
      },
      "execution_count": 28,
      "outputs": [
        {
          "output_type": "execute_result",
          "data": {
            "text/plain": [
              "str"
            ]
          },
          "metadata": {},
          "execution_count": 28
        }
      ]
    },
    {
      "cell_type": "markdown",
      "source": [
        "## Condicionais"
      ],
      "metadata": {
        "id": "rMVaw1NskZ1y"
      }
    },
    {
      "cell_type": "code",
      "source": [
        "if 5 > 2:\n",
        "  print('Verdadeiro')\n",
        "else:\n",
        "  print('Falso')"
      ],
      "metadata": {
        "colab": {
          "base_uri": "https://localhost:8080/"
        },
        "id": "J_JwkGXekdZK",
        "outputId": "04c7fef8-9c6c-4aa7-c1f2-0c2c1c1deb4c"
      },
      "execution_count": 26,
      "outputs": [
        {
          "output_type": "stream",
          "name": "stdout",
          "text": [
            "Verdadeiro\n"
          ]
        }
      ]
    },
    {
      "cell_type": "code",
      "source": [
        "dia = \"Sexta-feira\"\n",
        "if dia == \"Sexta-feira\":\n",
        "  print(\"hoje é Sexta-feira.\")\n",
        "else:\n",
        "  print(\"hoje não é Sexta-feira.\")"
      ],
      "metadata": {
        "colab": {
          "base_uri": "https://localhost:8080/"
        },
        "id": "eYsZXl5_lLgo",
        "outputId": "038dcb6d-2078-4118-939c-1308104e85c5"
      },
      "execution_count": 29,
      "outputs": [
        {
          "output_type": "stream",
          "name": "stdout",
          "text": [
            "hoje é Sexta-feira.\n"
          ]
        }
      ]
    },
    {
      "cell_type": "markdown",
      "source": [
        "## Manipulando Arquivos"
      ],
      "metadata": {
        "id": "xLqpyjBQl6Pf"
      }
    },
    {
      "cell_type": "code",
      "source": [
        "#Lendo de arquivo\n",
        "a1 = open(\"/content/drive/MyDrive/frasealeatoria.txt\", \"r\")\n",
        "\n",
        "print(a1.read())"
      ],
      "metadata": {
        "colab": {
          "base_uri": "https://localhost:8080/"
        },
        "id": "BXGHBUqZl8Mf",
        "outputId": "31a0e7a7-5e53-49d3-9ad1-33b07464602f"
      },
      "execution_count": 22,
      "outputs": [
        {
          "output_type": "stream",
          "name": "stdout",
          "text": [
            "Aprendendo Python!\n"
          ]
        }
      ]
    },
    {
      "cell_type": "code",
      "source": [
        "#Escrevendo em arquivo\n",
        "a2 = open(\"/content/drive/MyDrive/frasealeatoria.txt\", \"w\")\n",
        "a2.write(\"Aprendendo Python!\")"
      ],
      "metadata": {
        "colab": {
          "base_uri": "https://localhost:8080/"
        },
        "id": "ef9BdDI9obsS",
        "outputId": "2b75fb46-c85a-49f3-e47f-5ad3563ae88c"
      },
      "execution_count": 21,
      "outputs": [
        {
          "output_type": "execute_result",
          "data": {
            "text/plain": [
              "18"
            ]
          },
          "metadata": {},
          "execution_count": 21
        }
      ]
    }
  ]
}