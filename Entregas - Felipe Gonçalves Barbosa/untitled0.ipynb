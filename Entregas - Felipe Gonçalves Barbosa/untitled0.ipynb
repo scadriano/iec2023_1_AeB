{
  "nbformat": 4,
  "nbformat_minor": 0,
  "metadata": {
    "colab": {
      "provenance": [],
      "mount_file_id": "1dIwxp8qz8SAtvbDMlBxGOI4DtHd3q75l",
      "authorship_tag": "ABX9TyMGGzdiVFKOLBowXdgb+fzh",
      "include_colab_link": true
    },
    "kernelspec": {
      "name": "python3",
      "display_name": "Python 3"
    },
    "language_info": {
      "name": "python"
    }
  },
  "cells": [
    {
      "cell_type": "markdown",
      "metadata": {
        "id": "view-in-github",
        "colab_type": "text"
      },
      "source": [
        "<a href=\"https://colab.research.google.com/github/Felpegon/iec2023_1_AeB/blob/main/Entregas%20-%20Felipe%20Gon%C3%A7alves%20Barbosa/untitled0.ipynb\" target=\"_parent\"><img src=\"https://colab.research.google.com/assets/colab-badge.svg\" alt=\"Open In Colab\"/></a>"
      ]
    },
    {
      "cell_type": "code",
      "execution_count": null,
      "metadata": {
        "id": "NHaK-TOVvAdT"
      },
      "outputs": [],
      "source": []
    },
    {
      "cell_type": "markdown",
      "source": [
        "#Introdução à Engenharia de Computação\n"
      ],
      "metadata": {
        "id": "DF1Rk1TvyaK8"
      }
    },
    {
      "cell_type": "code",
      "source": [
        "from platform import python_version\n",
        "print(f'A versão em uso é {python_version()}.')"
      ],
      "metadata": {
        "colab": {
          "base_uri": "https://localhost:8080/"
        },
        "id": "xGqrhb1jylfk",
        "outputId": "4fb8643f-a8ff-4693-ded6-86eb350ec88e"
      },
      "execution_count": 3,
      "outputs": [
        {
          "output_type": "stream",
          "name": "stdout",
          "text": [
            "A versão em uso é 3.10.12.\n"
          ]
        }
      ]
    },
    {
      "cell_type": "markdown",
      "source": [
        "#Operações aritméticas\n"
      ],
      "metadata": {
        "id": "QfrQ6ceG0bMw"
      }
    },
    {
      "cell_type": "code",
      "source": [
        "#adição\n",
        "1 + 1"
      ],
      "metadata": {
        "colab": {
          "base_uri": "https://localhost:8080/"
        },
        "id": "XNheO_Mw0ev2",
        "outputId": "33749900-b49e-4925-809b-d3411d0e1210"
      },
      "execution_count": 4,
      "outputs": [
        {
          "output_type": "execute_result",
          "data": {
            "text/plain": [
              "2"
            ]
          },
          "metadata": {},
          "execution_count": 4
        }
      ]
    },
    {
      "cell_type": "code",
      "source": [
        "#subtração\n",
        "2 - 1"
      ],
      "metadata": {
        "colab": {
          "base_uri": "https://localhost:8080/"
        },
        "id": "ZXzndj9W0X7g",
        "outputId": "d34eb7bc-76ec-489a-b9f4-86617f2bd240"
      },
      "execution_count": 5,
      "outputs": [
        {
          "output_type": "execute_result",
          "data": {
            "text/plain": [
              "1"
            ]
          },
          "metadata": {},
          "execution_count": 5
        }
      ]
    },
    {
      "cell_type": "code",
      "source": [
        "#multiplicação\n",
        "2 * 2"
      ],
      "metadata": {
        "colab": {
          "base_uri": "https://localhost:8080/"
        },
        "id": "g3L2b6Z00nrG",
        "outputId": "be2b756f-b2ae-45f7-f28d-a3985f7b9501"
      },
      "execution_count": 6,
      "outputs": [
        {
          "output_type": "execute_result",
          "data": {
            "text/plain": [
              "4"
            ]
          },
          "metadata": {},
          "execution_count": 6
        }
      ]
    },
    {
      "cell_type": "code",
      "source": [
        "#divisão\n",
        "3 / 2"
      ],
      "metadata": {
        "colab": {
          "base_uri": "https://localhost:8080/"
        },
        "id": "dRQiQO1z0rnP",
        "outputId": "0a1dfd4c-d376-413a-d843-cbc1ae1a6515"
      },
      "execution_count": 10,
      "outputs": [
        {
          "output_type": "execute_result",
          "data": {
            "text/plain": [
              "1.5"
            ]
          },
          "metadata": {},
          "execution_count": 10
        }
      ]
    },
    {
      "cell_type": "code",
      "source": [
        "#potência\n",
        "4 ** 2"
      ],
      "metadata": {
        "colab": {
          "base_uri": "https://localhost:8080/"
        },
        "id": "5Te9ntBn0vLn",
        "outputId": "50074c4b-1969-4887-8abc-5d2ea5ce3db5"
      },
      "execution_count": 9,
      "outputs": [
        {
          "output_type": "execute_result",
          "data": {
            "text/plain": [
              "16"
            ]
          },
          "metadata": {},
          "execution_count": 9
        }
      ]
    },
    {
      "cell_type": "code",
      "source": [
        "#módulo (resto da divisão)\n",
        "10 % 3"
      ],
      "metadata": {
        "colab": {
          "base_uri": "https://localhost:8080/"
        },
        "id": "6B4mTnk301DV",
        "outputId": "8a71ab9a-6bad-4e6b-8c5c-fb7f48a1d0ed"
      },
      "execution_count": 8,
      "outputs": [
        {
          "output_type": "execute_result",
          "data": {
            "text/plain": [
              "1"
            ]
          },
          "metadata": {},
          "execution_count": 8
        }
      ]
    },
    {
      "cell_type": "markdown",
      "source": [
        "#Tipo de Dados"
      ],
      "metadata": {
        "id": "RcSHkFVD1QQc"
      }
    },
    {
      "cell_type": "code",
      "source": [
        "# qual o tipo do (?) -> Inteiro\n",
        "type(5)"
      ],
      "metadata": {
        "colab": {
          "base_uri": "https://localhost:8080/"
        },
        "id": "xg8B0Kx81UNF",
        "outputId": "128385a2-befa-4e53-f721-5ed58cc0db3f"
      },
      "execution_count": 11,
      "outputs": [
        {
          "output_type": "execute_result",
          "data": {
            "text/plain": [
              "int"
            ]
          },
          "metadata": {},
          "execution_count": 11
        }
      ]
    },
    {
      "cell_type": "code",
      "source": [
        "# qual o tipo do (?) -> Float - Decimal\n",
        "type(5.0)\n"
      ],
      "metadata": {
        "colab": {
          "base_uri": "https://localhost:8080/"
        },
        "id": "w2UVHSXP1UPf",
        "outputId": "9ece09ab-e8ea-463c-a2c1-b0835f5519b6"
      },
      "execution_count": 12,
      "outputs": [
        {
          "output_type": "execute_result",
          "data": {
            "text/plain": [
              "float"
            ]
          },
          "metadata": {},
          "execution_count": 12
        }
      ]
    },
    {
      "cell_type": "code",
      "source": [
        "# qual o tipo do (?) -> String\n",
        "a = 'Estudando python!'\n",
        "type(a)"
      ],
      "metadata": {
        "colab": {
          "base_uri": "https://localhost:8080/"
        },
        "id": "ga5lPwEf1lHD",
        "outputId": "25612012-617b-41b4-98a5-77390aa9eb19"
      },
      "execution_count": 17,
      "outputs": [
        {
          "output_type": "execute_result",
          "data": {
            "text/plain": [
              "str"
            ]
          },
          "metadata": {},
          "execution_count": 17
        }
      ]
    },
    {
      "cell_type": "markdown",
      "source": [
        "#Condicional"
      ],
      "metadata": {
        "id": "kfUwI2lC1_Il"
      }
    },
    {
      "cell_type": "code",
      "source": [
        "# condicional if (se)\n",
        "if 5 > 2:\n",
        "  print(\"A sentença é verdadeira\")"
      ],
      "metadata": {
        "colab": {
          "base_uri": "https://localhost:8080/"
        },
        "id": "3LCIn9032BBL",
        "outputId": "ca29f92d-a2af-457c-a445-af4aeb749d85"
      },
      "execution_count": 18,
      "outputs": [
        {
          "output_type": "stream",
          "name": "stdout",
          "text": [
            "A sentença é verdadeira\n"
          ]
        }
      ]
    },
    {
      "cell_type": "code",
      "source": [
        "# condicional if...else\n",
        "if 5 < 2:\n",
        "  print(\"A sentença é verdadeira!\")\n",
        "else:\n",
        "    print(\"a sentença é falsa\")"
      ],
      "metadata": {
        "colab": {
          "base_uri": "https://localhost:8080/"
        },
        "id": "_xdwtFgK2MW6",
        "outputId": "1658bc6d-b20b-4aee-b679-fa279f88b149"
      },
      "execution_count": 25,
      "outputs": [
        {
          "output_type": "stream",
          "name": "stdout",
          "text": [
            "a sentença é falsa\n"
          ]
        }
      ]
    },
    {
      "cell_type": "code",
      "source": [
        "# condicional if..else com variavel\n",
        "dia = \"quarta feira\"\n",
        "if dia == \"sexta feira\":\n",
        "  print(\"Hoje fará sol\")\n",
        "\n",
        "\n",
        "else:\n",
        "    print(\"Hoje vai chover!\")\n",
        "\n",
        "    type(dia)"
      ],
      "metadata": {
        "colab": {
          "base_uri": "https://localhost:8080/"
        },
        "id": "jcIYZ7um2mJK",
        "outputId": "e8a58e39-4191-49ea-811d-9fea8c9b6853"
      },
      "execution_count": 23,
      "outputs": [
        {
          "output_type": "stream",
          "name": "stdout",
          "text": [
            "Hoje vai chover!\n",
            "Hoje vai chover!\n"
          ]
        }
      ]
    },
    {
      "cell_type": "markdown",
      "source": [
        "#Manipulando arquivos"
      ],
      "metadata": {
        "id": "ukhWp2vN3TNL"
      }
    },
    {
      "cell_type": "code",
      "source": [
        "from google.colab import drive\n",
        "drive.mount('content/drive')"
      ],
      "metadata": {
        "id": "5lhdv1Po3WkX"
      },
      "execution_count": null,
      "outputs": []
    },
    {
      "cell_type": "code",
      "source": [
        "a1 = open(\"/content/drive/MyDrive/a1python.txt\", \"r\")\n"
      ],
      "metadata": {
        "id": "yyVgKlt844BG"
      },
      "execution_count": 38,
      "outputs": []
    },
    {
      "cell_type": "code",
      "source": [
        "print(a1.read())\n"
      ],
      "metadata": {
        "colab": {
          "base_uri": "https://localhost:8080/"
        },
        "id": "XTzhb9HB5IZF",
        "outputId": "5d345aa9-83a4-443a-9087-29b494420933"
      },
      "execution_count": 39,
      "outputs": [
        {
          "output_type": "stream",
          "name": "stdout",
          "text": [
            "aula 1 python\n",
            "faz o L \n",
            "faz o L\n"
          ]
        }
      ]
    },
    {
      "cell_type": "markdown",
      "source": [
        "#Gravando arquivos"
      ],
      "metadata": {
        "id": "W8rEL1md8OS4"
      }
    },
    {
      "cell_type": "code",
      "source": [
        "a2 = open(\"/content/drive/MyDrive/a1python.txt\", \"w\")"
      ],
      "metadata": {
        "id": "r26tgFlV8S04"
      },
      "execution_count": 54,
      "outputs": []
    },
    {
      "cell_type": "code",
      "source": [
        "a2.write(\"WHY ANA DON'T MISS A SHOT????\")"
      ],
      "metadata": {
        "colab": {
          "base_uri": "https://localhost:8080/"
        },
        "id": "P4w8hwKI8hOM",
        "outputId": "a7a81c42-3b57-410e-b263-46caaac55b43"
      },
      "execution_count": 55,
      "outputs": [
        {
          "output_type": "execute_result",
          "data": {
            "text/plain": [
              "29"
            ]
          },
          "metadata": {},
          "execution_count": 55
        }
      ]
    },
    {
      "cell_type": "code",
      "source": [
        "a2 = open(\"/content/drive/MyDrive/a1python.txt\", \"r\")\n"
      ],
      "metadata": {
        "id": "BJwMcT7A8zLn"
      },
      "execution_count": 56,
      "outputs": []
    },
    {
      "cell_type": "code",
      "source": [
        "print(a2.read())"
      ],
      "metadata": {
        "colab": {
          "base_uri": "https://localhost:8080/"
        },
        "id": "eFagDVlm8_Oz",
        "outputId": "8b602ba6-1fca-4a77-bd0e-c93e1c20b41a"
      },
      "execution_count": 57,
      "outputs": [
        {
          "output_type": "stream",
          "name": "stdout",
          "text": [
            "WHY ANA DON'T MISS A SHOT????\n"
          ]
        }
      ]
    },
    {
      "cell_type": "markdown",
      "source": [],
      "metadata": {
        "id": "FOwjHuye50WT"
      }
    }
  ]
}