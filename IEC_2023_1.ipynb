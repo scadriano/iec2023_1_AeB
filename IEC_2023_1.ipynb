{
  "nbformat": 4,
  "nbformat_minor": 0,
  "metadata": {
    "colab": {
      "provenance": [],
      "authorship_tag": "ABX9TyNk8Yq42wN0IsNSY6Y4+nrA",
      "include_colab_link": true
    },
    "kernelspec": {
      "name": "python3",
      "display_name": "Python 3"
    },
    "language_info": {
      "name": "python"
    }
  },
  "cells": [
    {
      "cell_type": "markdown",
      "metadata": {
        "id": "view-in-github",
        "colab_type": "text"
      },
      "source": [
        "<a href=\"https://colab.research.google.com/github/hpolizelclara/iec2023_1_AeB/blob/main/IEC_2023_1.ipynb\" target=\"_parent\"><img src=\"https://colab.research.google.com/assets/colab-badge.svg\" alt=\"Open In Colab\"/></a>"
      ]
    },
    {
      "cell_type": "markdown",
      "source": [
        "# **Introdução ao Python 2**"
      ],
      "metadata": {
        "id": "LRRwhwAv1gvs"
      }
    },
    {
      "cell_type": "code",
      "execution_count": null,
      "metadata": {
        "id": "UDi712ZLz4R_"
      },
      "outputs": [],
      "source": [
        "from platform  import python_version\n",
        "print(f\"A versão em uso é {python_version()}.\")"
      ]
    },
    {
      "cell_type": "code",
      "source": [
        "# Verificar se o Pythonestá funcionando\n",
        "print(\"Bye, bye, World!\")"
      ],
      "metadata": {
        "id": "Zxsl3Z-P0hPS"
      },
      "execution_count": null,
      "outputs": []
    },
    {
      "cell_type": "code",
      "source": [
        "# Importar a biblioteca - todos os projetos passarão pelo Numpy\n",
        "# import numpy as np\n",
        "\n",
        "# importar as bibliotecas - Visualizar dados\n",
        "#\n",
        "import pandas as pd\n",
        "\n",
        "print('Biblioteca carregada com sucesso!')"
      ],
      "metadata": {
        "id": "T5fsQlv01CcJ"
      },
      "execution_count": null,
      "outputs": []
    },
    {
      "cell_type": "code",
      "source": [
        "# importar o arquivo e criar um dataframe do Pandas\n",
        "\n",
        "#df_clara = pd.read_csv('/content/drive/MyDrive/hospital.csv', sep = \",\", index_col =None )\n",
        "\n",
        "# ou copiar do github a url do arquivo\n",
        "df_clara = pd.read_csv('https://raw.githubusercontent.com/scadriano/iec2023_1_AeB/main/01.%20Conceitua%C3%A7%C3%A3o%20de%20Python/hospital.csv', sep = \",\", index_col =None)\n",
        "print('Dados importados com sucesso!')"
      ],
      "metadata": {
        "id": "zDVheJEa1pgS",
        "colab": {
          "base_uri": "https://localhost:8080/"
        },
        "outputId": "e56abcbc-59ec-4b5b-d973-51812380b85c"
      },
      "execution_count": null,
      "outputs": [
        {
          "output_type": "stream",
          "name": "stdout",
          "text": [
            "Dados importados com sucesso!\n"
          ]
        }
      ]
    },
    {
      "cell_type": "code",
      "source": [
        "# exibir uma amostra do dataframe\n",
        "display(df_clara.head())"
      ],
      "metadata": {
        "colab": {
          "base_uri": "https://localhost:8080/",
          "height": 206
        },
        "id": "0mQKxrmS4EKU",
        "outputId": "c0399e79-d26b-410f-9455-82528640ed4a"
      },
      "execution_count": null,
      "outputs": [
        {
          "output_type": "display_data",
          "data": {
            "text/plain": [
              "     Id     Nome  Idade Sexo  Peso       Manchas  Temperatura  Internação  \\\n",
              "0  4201     João     28    M    79  Concentradas         38.0           2   \n",
              "1  3217    Maria     18    F    67  Inexistentes         39.5           4   \n",
              "2  4039     Luiz     49    M    92    Espalhadas         38.0           2   \n",
              "3  1920     José     18    M    43  Inexistentes         38.5           8   \n",
              "4  4340  Cláudia     21    F    52     Uniformes         37.6           1   \n",
              "\n",
              "  Estado       Time Diagnóstico  \n",
              "0     SP  Palmeiras      Doente  \n",
              "1     MG   Cruzeiro      Doente  \n",
              "2     RS     Grêmio    Saudável  \n",
              "3     MG   Atlético      Doente  \n",
              "4     PE      Sport    Saudável  "
            ],
            "text/html": [
              "\n",
              "  <div id=\"df-3b366c5c-a26a-437f-b34d-32e0b1ac87a5\">\n",
              "    <div class=\"colab-df-container\">\n",
              "      <div>\n",
              "<style scoped>\n",
              "    .dataframe tbody tr th:only-of-type {\n",
              "        vertical-align: middle;\n",
              "    }\n",
              "\n",
              "    .dataframe tbody tr th {\n",
              "        vertical-align: top;\n",
              "    }\n",
              "\n",
              "    .dataframe thead th {\n",
              "        text-align: right;\n",
              "    }\n",
              "</style>\n",
              "<table border=\"1\" class=\"dataframe\">\n",
              "  <thead>\n",
              "    <tr style=\"text-align: right;\">\n",
              "      <th></th>\n",
              "      <th>Id</th>\n",
              "      <th>Nome</th>\n",
              "      <th>Idade</th>\n",
              "      <th>Sexo</th>\n",
              "      <th>Peso</th>\n",
              "      <th>Manchas</th>\n",
              "      <th>Temperatura</th>\n",
              "      <th>Internação</th>\n",
              "      <th>Estado</th>\n",
              "      <th>Time</th>\n",
              "      <th>Diagnóstico</th>\n",
              "    </tr>\n",
              "  </thead>\n",
              "  <tbody>\n",
              "    <tr>\n",
              "      <th>0</th>\n",
              "      <td>4201</td>\n",
              "      <td>João</td>\n",
              "      <td>28</td>\n",
              "      <td>M</td>\n",
              "      <td>79</td>\n",
              "      <td>Concentradas</td>\n",
              "      <td>38.0</td>\n",
              "      <td>2</td>\n",
              "      <td>SP</td>\n",
              "      <td>Palmeiras</td>\n",
              "      <td>Doente</td>\n",
              "    </tr>\n",
              "    <tr>\n",
              "      <th>1</th>\n",
              "      <td>3217</td>\n",
              "      <td>Maria</td>\n",
              "      <td>18</td>\n",
              "      <td>F</td>\n",
              "      <td>67</td>\n",
              "      <td>Inexistentes</td>\n",
              "      <td>39.5</td>\n",
              "      <td>4</td>\n",
              "      <td>MG</td>\n",
              "      <td>Cruzeiro</td>\n",
              "      <td>Doente</td>\n",
              "    </tr>\n",
              "    <tr>\n",
              "      <th>2</th>\n",
              "      <td>4039</td>\n",
              "      <td>Luiz</td>\n",
              "      <td>49</td>\n",
              "      <td>M</td>\n",
              "      <td>92</td>\n",
              "      <td>Espalhadas</td>\n",
              "      <td>38.0</td>\n",
              "      <td>2</td>\n",
              "      <td>RS</td>\n",
              "      <td>Grêmio</td>\n",
              "      <td>Saudável</td>\n",
              "    </tr>\n",
              "    <tr>\n",
              "      <th>3</th>\n",
              "      <td>1920</td>\n",
              "      <td>José</td>\n",
              "      <td>18</td>\n",
              "      <td>M</td>\n",
              "      <td>43</td>\n",
              "      <td>Inexistentes</td>\n",
              "      <td>38.5</td>\n",
              "      <td>8</td>\n",
              "      <td>MG</td>\n",
              "      <td>Atlético</td>\n",
              "      <td>Doente</td>\n",
              "    </tr>\n",
              "    <tr>\n",
              "      <th>4</th>\n",
              "      <td>4340</td>\n",
              "      <td>Cláudia</td>\n",
              "      <td>21</td>\n",
              "      <td>F</td>\n",
              "      <td>52</td>\n",
              "      <td>Uniformes</td>\n",
              "      <td>37.6</td>\n",
              "      <td>1</td>\n",
              "      <td>PE</td>\n",
              "      <td>Sport</td>\n",
              "      <td>Saudável</td>\n",
              "    </tr>\n",
              "  </tbody>\n",
              "</table>\n",
              "</div>\n",
              "      <button class=\"colab-df-convert\" onclick=\"convertToInteractive('df-3b366c5c-a26a-437f-b34d-32e0b1ac87a5')\"\n",
              "              title=\"Convert this dataframe to an interactive table.\"\n",
              "              style=\"display:none;\">\n",
              "        \n",
              "  <svg xmlns=\"http://www.w3.org/2000/svg\" height=\"24px\"viewBox=\"0 0 24 24\"\n",
              "       width=\"24px\">\n",
              "    <path d=\"M0 0h24v24H0V0z\" fill=\"none\"/>\n",
              "    <path d=\"M18.56 5.44l.94 2.06.94-2.06 2.06-.94-2.06-.94-.94-2.06-.94 2.06-2.06.94zm-11 1L8.5 8.5l.94-2.06 2.06-.94-2.06-.94L8.5 2.5l-.94 2.06-2.06.94zm10 10l.94 2.06.94-2.06 2.06-.94-2.06-.94-.94-2.06-.94 2.06-2.06.94z\"/><path d=\"M17.41 7.96l-1.37-1.37c-.4-.4-.92-.59-1.43-.59-.52 0-1.04.2-1.43.59L10.3 9.45l-7.72 7.72c-.78.78-.78 2.05 0 2.83L4 21.41c.39.39.9.59 1.41.59.51 0 1.02-.2 1.41-.59l7.78-7.78 2.81-2.81c.8-.78.8-2.07 0-2.86zM5.41 20L4 18.59l7.72-7.72 1.47 1.35L5.41 20z\"/>\n",
              "  </svg>\n",
              "      </button>\n",
              "      \n",
              "  <style>\n",
              "    .colab-df-container {\n",
              "      display:flex;\n",
              "      flex-wrap:wrap;\n",
              "      gap: 12px;\n",
              "    }\n",
              "\n",
              "    .colab-df-convert {\n",
              "      background-color: #E8F0FE;\n",
              "      border: none;\n",
              "      border-radius: 50%;\n",
              "      cursor: pointer;\n",
              "      display: none;\n",
              "      fill: #1967D2;\n",
              "      height: 32px;\n",
              "      padding: 0 0 0 0;\n",
              "      width: 32px;\n",
              "    }\n",
              "\n",
              "    .colab-df-convert:hover {\n",
              "      background-color: #E2EBFA;\n",
              "      box-shadow: 0px 1px 2px rgba(60, 64, 67, 0.3), 0px 1px 3px 1px rgba(60, 64, 67, 0.15);\n",
              "      fill: #174EA6;\n",
              "    }\n",
              "\n",
              "    [theme=dark] .colab-df-convert {\n",
              "      background-color: #3B4455;\n",
              "      fill: #D2E3FC;\n",
              "    }\n",
              "\n",
              "    [theme=dark] .colab-df-convert:hover {\n",
              "      background-color: #434B5C;\n",
              "      box-shadow: 0px 1px 3px 1px rgba(0, 0, 0, 0.15);\n",
              "      filter: drop-shadow(0px 1px 2px rgba(0, 0, 0, 0.3));\n",
              "      fill: #FFFFFF;\n",
              "    }\n",
              "  </style>\n",
              "\n",
              "      <script>\n",
              "        const buttonEl =\n",
              "          document.querySelector('#df-3b366c5c-a26a-437f-b34d-32e0b1ac87a5 button.colab-df-convert');\n",
              "        buttonEl.style.display =\n",
              "          google.colab.kernel.accessAllowed ? 'block' : 'none';\n",
              "\n",
              "        async function convertToInteractive(key) {\n",
              "          const element = document.querySelector('#df-3b366c5c-a26a-437f-b34d-32e0b1ac87a5');\n",
              "          const dataTable =\n",
              "            await google.colab.kernel.invokeFunction('convertToInteractive',\n",
              "                                                     [key], {});\n",
              "          if (!dataTable) return;\n",
              "\n",
              "          const docLinkHtml = 'Like what you see? Visit the ' +\n",
              "            '<a target=\"_blank\" href=https://colab.research.google.com/notebooks/data_table.ipynb>data table notebook</a>'\n",
              "            + ' to learn more about interactive tables.';\n",
              "          element.innerHTML = '';\n",
              "          dataTable['output_type'] = 'display_data';\n",
              "          await google.colab.output.renderOutput(dataTable, element);\n",
              "          const docLink = document.createElement('div');\n",
              "          docLink.innerHTML = docLinkHtml;\n",
              "          element.appendChild(docLink);\n",
              "        }\n",
              "      </script>\n",
              "    </div>\n",
              "  </div>\n",
              "  "
            ]
          },
          "metadata": {}
        }
      ]
    },
    {
      "cell_type": "code",
      "source": [
        "# exibir todo o dataframe\n",
        "display(df_clara)"
      ],
      "metadata": {
        "id": "eLXF5Da84boU"
      },
      "execution_count": null,
      "outputs": []
    },
    {
      "cell_type": "code",
      "source": [
        "# remover as colunas id_planta e cidade_origem\n",
        "df_clara = df_clara.drop(columns={\"Estado\", \"Time\"})"
      ],
      "metadata": {
        "id": "8NmiIP4G4qBT"
      },
      "execution_count": null,
      "outputs": []
    },
    {
      "cell_type": "code",
      "source": [
        "# exibir o dataframe\n",
        "display(df_clara)"
      ],
      "metadata": {
        "colab": {
          "base_uri": "https://localhost:8080/",
          "height": 300
        },
        "id": "edYZWyCn6Ejw",
        "outputId": "48a28499-8a5d-4885-a46c-3d60b2d610fb"
      },
      "execution_count": null,
      "outputs": [
        {
          "output_type": "display_data",
          "data": {
            "text/plain": [
              "     Id     Nome  Idade Sexo  Peso       Manchas  Temperatura  Internação  \\\n",
              "0  4201     João     28    M    79  Concentradas         38.0           2   \n",
              "1  3217    Maria     18    F    67  Inexistentes         39.5           4   \n",
              "2  4039     Luiz     49    M    92    Espalhadas         38.0           2   \n",
              "3  1920     José     18    M    43  Inexistentes         38.5           8   \n",
              "4  4340  Cláudia     21    F    52     Uniformes         37.6           1   \n",
              "5  2301      Ana     22    F    72  Inexistentes         38.0           3   \n",
              "6  1322    Marta     19    F    87    Espalhadas         39.0           6   \n",
              "7  3027    Paulo     34    M    67     Uniformes         38.4           2   \n",
              "\n",
              "  Diagnóstico  \n",
              "0      Doente  \n",
              "1      Doente  \n",
              "2    Saudável  \n",
              "3      Doente  \n",
              "4    Saudável  \n",
              "5      Doente  \n",
              "6      Doente  \n",
              "7    Saudável  "
            ],
            "text/html": [
              "\n",
              "  <div id=\"df-1ee15475-8733-4815-9a6d-f60bd3b877d0\">\n",
              "    <div class=\"colab-df-container\">\n",
              "      <div>\n",
              "<style scoped>\n",
              "    .dataframe tbody tr th:only-of-type {\n",
              "        vertical-align: middle;\n",
              "    }\n",
              "\n",
              "    .dataframe tbody tr th {\n",
              "        vertical-align: top;\n",
              "    }\n",
              "\n",
              "    .dataframe thead th {\n",
              "        text-align: right;\n",
              "    }\n",
              "</style>\n",
              "<table border=\"1\" class=\"dataframe\">\n",
              "  <thead>\n",
              "    <tr style=\"text-align: right;\">\n",
              "      <th></th>\n",
              "      <th>Id</th>\n",
              "      <th>Nome</th>\n",
              "      <th>Idade</th>\n",
              "      <th>Sexo</th>\n",
              "      <th>Peso</th>\n",
              "      <th>Manchas</th>\n",
              "      <th>Temperatura</th>\n",
              "      <th>Internação</th>\n",
              "      <th>Diagnóstico</th>\n",
              "    </tr>\n",
              "  </thead>\n",
              "  <tbody>\n",
              "    <tr>\n",
              "      <th>0</th>\n",
              "      <td>4201</td>\n",
              "      <td>João</td>\n",
              "      <td>28</td>\n",
              "      <td>M</td>\n",
              "      <td>79</td>\n",
              "      <td>Concentradas</td>\n",
              "      <td>38.0</td>\n",
              "      <td>2</td>\n",
              "      <td>Doente</td>\n",
              "    </tr>\n",
              "    <tr>\n",
              "      <th>1</th>\n",
              "      <td>3217</td>\n",
              "      <td>Maria</td>\n",
              "      <td>18</td>\n",
              "      <td>F</td>\n",
              "      <td>67</td>\n",
              "      <td>Inexistentes</td>\n",
              "      <td>39.5</td>\n",
              "      <td>4</td>\n",
              "      <td>Doente</td>\n",
              "    </tr>\n",
              "    <tr>\n",
              "      <th>2</th>\n",
              "      <td>4039</td>\n",
              "      <td>Luiz</td>\n",
              "      <td>49</td>\n",
              "      <td>M</td>\n",
              "      <td>92</td>\n",
              "      <td>Espalhadas</td>\n",
              "      <td>38.0</td>\n",
              "      <td>2</td>\n",
              "      <td>Saudável</td>\n",
              "    </tr>\n",
              "    <tr>\n",
              "      <th>3</th>\n",
              "      <td>1920</td>\n",
              "      <td>José</td>\n",
              "      <td>18</td>\n",
              "      <td>M</td>\n",
              "      <td>43</td>\n",
              "      <td>Inexistentes</td>\n",
              "      <td>38.5</td>\n",
              "      <td>8</td>\n",
              "      <td>Doente</td>\n",
              "    </tr>\n",
              "    <tr>\n",
              "      <th>4</th>\n",
              "      <td>4340</td>\n",
              "      <td>Cláudia</td>\n",
              "      <td>21</td>\n",
              "      <td>F</td>\n",
              "      <td>52</td>\n",
              "      <td>Uniformes</td>\n",
              "      <td>37.6</td>\n",
              "      <td>1</td>\n",
              "      <td>Saudável</td>\n",
              "    </tr>\n",
              "    <tr>\n",
              "      <th>5</th>\n",
              "      <td>2301</td>\n",
              "      <td>Ana</td>\n",
              "      <td>22</td>\n",
              "      <td>F</td>\n",
              "      <td>72</td>\n",
              "      <td>Inexistentes</td>\n",
              "      <td>38.0</td>\n",
              "      <td>3</td>\n",
              "      <td>Doente</td>\n",
              "    </tr>\n",
              "    <tr>\n",
              "      <th>6</th>\n",
              "      <td>1322</td>\n",
              "      <td>Marta</td>\n",
              "      <td>19</td>\n",
              "      <td>F</td>\n",
              "      <td>87</td>\n",
              "      <td>Espalhadas</td>\n",
              "      <td>39.0</td>\n",
              "      <td>6</td>\n",
              "      <td>Doente</td>\n",
              "    </tr>\n",
              "    <tr>\n",
              "      <th>7</th>\n",
              "      <td>3027</td>\n",
              "      <td>Paulo</td>\n",
              "      <td>34</td>\n",
              "      <td>M</td>\n",
              "      <td>67</td>\n",
              "      <td>Uniformes</td>\n",
              "      <td>38.4</td>\n",
              "      <td>2</td>\n",
              "      <td>Saudável</td>\n",
              "    </tr>\n",
              "  </tbody>\n",
              "</table>\n",
              "</div>\n",
              "      <button class=\"colab-df-convert\" onclick=\"convertToInteractive('df-1ee15475-8733-4815-9a6d-f60bd3b877d0')\"\n",
              "              title=\"Convert this dataframe to an interactive table.\"\n",
              "              style=\"display:none;\">\n",
              "        \n",
              "  <svg xmlns=\"http://www.w3.org/2000/svg\" height=\"24px\"viewBox=\"0 0 24 24\"\n",
              "       width=\"24px\">\n",
              "    <path d=\"M0 0h24v24H0V0z\" fill=\"none\"/>\n",
              "    <path d=\"M18.56 5.44l.94 2.06.94-2.06 2.06-.94-2.06-.94-.94-2.06-.94 2.06-2.06.94zm-11 1L8.5 8.5l.94-2.06 2.06-.94-2.06-.94L8.5 2.5l-.94 2.06-2.06.94zm10 10l.94 2.06.94-2.06 2.06-.94-2.06-.94-.94-2.06-.94 2.06-2.06.94z\"/><path d=\"M17.41 7.96l-1.37-1.37c-.4-.4-.92-.59-1.43-.59-.52 0-1.04.2-1.43.59L10.3 9.45l-7.72 7.72c-.78.78-.78 2.05 0 2.83L4 21.41c.39.39.9.59 1.41.59.51 0 1.02-.2 1.41-.59l7.78-7.78 2.81-2.81c.8-.78.8-2.07 0-2.86zM5.41 20L4 18.59l7.72-7.72 1.47 1.35L5.41 20z\"/>\n",
              "  </svg>\n",
              "      </button>\n",
              "      \n",
              "  <style>\n",
              "    .colab-df-container {\n",
              "      display:flex;\n",
              "      flex-wrap:wrap;\n",
              "      gap: 12px;\n",
              "    }\n",
              "\n",
              "    .colab-df-convert {\n",
              "      background-color: #E8F0FE;\n",
              "      border: none;\n",
              "      border-radius: 50%;\n",
              "      cursor: pointer;\n",
              "      display: none;\n",
              "      fill: #1967D2;\n",
              "      height: 32px;\n",
              "      padding: 0 0 0 0;\n",
              "      width: 32px;\n",
              "    }\n",
              "\n",
              "    .colab-df-convert:hover {\n",
              "      background-color: #E2EBFA;\n",
              "      box-shadow: 0px 1px 2px rgba(60, 64, 67, 0.3), 0px 1px 3px 1px rgba(60, 64, 67, 0.15);\n",
              "      fill: #174EA6;\n",
              "    }\n",
              "\n",
              "    [theme=dark] .colab-df-convert {\n",
              "      background-color: #3B4455;\n",
              "      fill: #D2E3FC;\n",
              "    }\n",
              "\n",
              "    [theme=dark] .colab-df-convert:hover {\n",
              "      background-color: #434B5C;\n",
              "      box-shadow: 0px 1px 3px 1px rgba(0, 0, 0, 0.15);\n",
              "      filter: drop-shadow(0px 1px 2px rgba(0, 0, 0, 0.3));\n",
              "      fill: #FFFFFF;\n",
              "    }\n",
              "  </style>\n",
              "\n",
              "      <script>\n",
              "        const buttonEl =\n",
              "          document.querySelector('#df-1ee15475-8733-4815-9a6d-f60bd3b877d0 button.colab-df-convert');\n",
              "        buttonEl.style.display =\n",
              "          google.colab.kernel.accessAllowed ? 'block' : 'none';\n",
              "\n",
              "        async function convertToInteractive(key) {\n",
              "          const element = document.querySelector('#df-1ee15475-8733-4815-9a6d-f60bd3b877d0');\n",
              "          const dataTable =\n",
              "            await google.colab.kernel.invokeFunction('convertToInteractive',\n",
              "                                                     [key], {});\n",
              "          if (!dataTable) return;\n",
              "\n",
              "          const docLinkHtml = 'Like what you see? Visit the ' +\n",
              "            '<a target=\"_blank\" href=https://colab.research.google.com/notebooks/data_table.ipynb>data table notebook</a>'\n",
              "            + ' to learn more about interactive tables.';\n",
              "          element.innerHTML = '';\n",
              "          dataTable['output_type'] = 'display_data';\n",
              "          await google.colab.output.renderOutput(dataTable, element);\n",
              "          const docLink = document.createElement('div');\n",
              "          docLink.innerHTML = docLinkHtml;\n",
              "          element.appendChild(docLink);\n",
              "        }\n",
              "      </script>\n",
              "    </div>\n",
              "  </div>\n",
              "  "
            ]
          },
          "metadata": {}
        }
      ]
    },
    {
      "cell_type": "code",
      "source": [
        "df_clara.groupby('Diagnóstico').count().plot.pie(y = 'Internação')"
      ],
      "metadata": {
        "colab": {
          "base_uri": "https://localhost:8080/",
          "height": 423
        },
        "id": "BivowzT36nlh",
        "outputId": "e1557a3a-3382-4418-a08b-03a2d6747381"
      },
      "execution_count": null,
      "outputs": [
        {
          "output_type": "execute_result",
          "data": {
            "text/plain": [
              "<Axes: ylabel='Internação'>"
            ]
          },
          "metadata": {},
          "execution_count": 41
        },
        {
          "output_type": "display_data",
          "data": {
            "text/plain": [
              "<Figure size 640x480 with 1 Axes>"
            ],
            "image/png": "[encoded data removed]"
          },
          "metadata": {}
        }
      ]
    },
    {
      "cell_type": "code",
      "source": [
        "import matplotlib.pyplot as plt\n",
        "import seaborn as sns\n",
        "df_clara = pd.read_csv('/content/drive/MyDrive/hospital.csv', sep = \",\", index_col =None)\n",
        "df_clara = df_clara.tail(20)\n",
        "\n",
        "plt.figure(figsize=(8,6))\n",
        "plt.xticks(rotation=45)\n",
        "sns.set_theme(style=\"darkgrid\")\n",
        "sns.lineplot(data=df_clara, x='Nome', y='Idade', color='purple')"
      ],
      "metadata": {
        "colab": {
          "base_uri": "https://localhost:8080/",
          "height": 592
        },
        "id": "xHPuOxTz9ygr",
        "outputId": "60e7ab2e-84df-40f3-f2c7-808b47ae63fa"
      },
      "execution_count": null,
      "outputs": [
        {
          "output_type": "execute_result",
          "data": {
            "text/plain": [
              "<Axes: xlabel='Nome', ylabel='Idade'>"
            ]
          },
          "metadata": {},
          "execution_count": 47
        },
        {
          "output_type": "display_data",
          "data": {
            "text/plain": [
              "<Figure size 800x600 with 1 Axes>"
            ],
            "image/png": "[encoded data removed]"
          },
          "metadata": {}
        }
      ]
    }
  ]
}