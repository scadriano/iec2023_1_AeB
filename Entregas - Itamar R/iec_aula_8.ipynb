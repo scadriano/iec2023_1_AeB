{
  "nbformat": 4,
  "nbformat_minor": 0,
  "metadata": {
    "colab": {
      "provenance": []
    },
    "kernelspec": {
      "name": "python3",
      "display_name": "Python 3"
    },
    "language_info": {
      "name": "python"
    }
  },
  "cells": [
    {
      "cell_type": "markdown",
      "source": [
        "## Introdução à Engenharia de Computação"
      ],
      "metadata": {
        "id": "1oxsUg7Fgr3Q"
      }
    },
    {
      "cell_type": "code",
      "source": [
        "from platform import python_version\n",
        "print(f\"A versão em uso é {python_version()}.\")"
      ],
      "metadata": {
        "colab": {
          "base_uri": "https://localhost:8080/"
        },
        "id": "-d1PcFl_hBE3",
        "outputId": "3cb94e0c-ca2f-426d-faa1-08abaa54d79b"
      },
      "execution_count": 1,
      "outputs": [
        {
          "output_type": "stream",
          "name": "stdout",
          "text": [
            "A versão em uso é 3.10.12.\n"
          ]
        }
      ]
    },
    {
      "cell_type": "code",
      "source": [
        "print(\"Bye, bye, World!\")"
      ],
      "metadata": {
        "colab": {
          "base_uri": "https://localhost:8080/"
        },
        "id": "kIXKJwbziMqN",
        "outputId": "fffef987-47cb-4ef3-b4d1-7815703bd5b3"
      },
      "execution_count": 2,
      "outputs": [
        {
          "output_type": "stream",
          "name": "stdout",
          "text": [
            "Bye, bye, World!\n"
          ]
        }
      ]
    },
    {
      "cell_type": "markdown",
      "source": [
        "## Operadores Aritméticos"
      ],
      "metadata": {
        "id": "DeLzoGvaiqkL"
      }
    },
    {
      "cell_type": "code",
      "source": [
        "# Adição\n",
        "1+1"
      ],
      "metadata": {
        "colab": {
          "base_uri": "https://localhost:8080/"
        },
        "id": "9rn0Re-OiuM6",
        "outputId": "57398204-912b-4691-92bf-781aa91444f3"
      },
      "execution_count": 3,
      "outputs": [
        {
          "output_type": "execute_result",
          "data": {
            "text/plain": [
              "2"
            ]
          },
          "metadata": {},
          "execution_count": 3
        }
      ]
    },
    {
      "cell_type": "code",
      "source": [
        "# Subtração\n",
        "2-1"
      ],
      "metadata": {
        "colab": {
          "base_uri": "https://localhost:8080/"
        },
        "id": "DPG5OETwiwsC",
        "outputId": "7ff82064-2afd-4ed6-a9d9-b9a3f7b2e93a"
      },
      "execution_count": 4,
      "outputs": [
        {
          "output_type": "execute_result",
          "data": {
            "text/plain": [
              "1"
            ]
          },
          "metadata": {},
          "execution_count": 4
        }
      ]
    },
    {
      "cell_type": "code",
      "source": [
        "# Multiplicação\n",
        "2*2"
      ],
      "metadata": {
        "colab": {
          "base_uri": "https://localhost:8080/"
        },
        "id": "wK3bNtKMiygN",
        "outputId": "b76e6d41-ccf8-441b-aec6-bcbca647e386"
      },
      "execution_count": 5,
      "outputs": [
        {
          "output_type": "execute_result",
          "data": {
            "text/plain": [
              "4"
            ]
          },
          "metadata": {},
          "execution_count": 5
        }
      ]
    },
    {
      "cell_type": "code",
      "source": [
        "# Divisão\n",
        "3/2"
      ],
      "metadata": {
        "colab": {
          "base_uri": "https://localhost:8080/"
        },
        "id": "p1oH9dBbi1aN",
        "outputId": "33ea424e-3afd-4b63-a8af-f953337876ee"
      },
      "execution_count": 6,
      "outputs": [
        {
          "output_type": "execute_result",
          "data": {
            "text/plain": [
              "1.5"
            ]
          },
          "metadata": {},
          "execution_count": 6
        }
      ]
    },
    {
      "cell_type": "code",
      "source": [
        "# Potência\n",
        "4 ** 2"
      ],
      "metadata": {
        "colab": {
          "base_uri": "https://localhost:8080/"
        },
        "id": "VDtHcgWYjRu2",
        "outputId": "78da4edc-7ebc-446b-8be5-f675dda9649f"
      },
      "execution_count": 7,
      "outputs": [
        {
          "output_type": "execute_result",
          "data": {
            "text/plain": [
              "16"
            ]
          },
          "metadata": {},
          "execution_count": 7
        }
      ]
    },
    {
      "cell_type": "code",
      "source": [
        "# Módulo (resto da divisão)\n",
        "10 % 3"
      ],
      "metadata": {
        "colab": {
          "base_uri": "https://localhost:8080/"
        },
        "id": "Gus946-sjU4T",
        "outputId": "7c2c9eb9-7a41-4737-db3a-56147b897e34"
      },
      "execution_count": 8,
      "outputs": [
        {
          "output_type": "execute_result",
          "data": {
            "text/plain": [
              "1"
            ]
          },
          "metadata": {},
          "execution_count": 8
        }
      ]
    },
    {
      "cell_type": "markdown",
      "source": [
        "## Tipos de dados (Type)"
      ],
      "metadata": {
        "id": "7-Y9js13jyst"
      }
    },
    {
      "cell_type": "code",
      "source": [
        "# Qual o tipo do (?) -> Inteiro\n",
        "type(5)"
      ],
      "metadata": {
        "colab": {
          "base_uri": "https://localhost:8080/"
        },
        "id": "NCddOT-Uj3sm",
        "outputId": "4a2982c4-f906-4299-bce5-28ac4fa02955"
      },
      "execution_count": 9,
      "outputs": [
        {
          "output_type": "execute_result",
          "data": {
            "text/plain": [
              "int"
            ]
          },
          "metadata": {},
          "execution_count": 9
        }
      ]
    },
    {
      "cell_type": "code",
      "source": [
        "# Qual o tipo do (?) -> Float = Decimal\n",
        "type(5.0)"
      ],
      "metadata": {
        "colab": {
          "base_uri": "https://localhost:8080/"
        },
        "id": "JWlz-Cn0j_b2",
        "outputId": "e6a190f8-8f4b-4d83-e5db-56c9e7c01d81"
      },
      "execution_count": 10,
      "outputs": [
        {
          "output_type": "execute_result",
          "data": {
            "text/plain": [
              "float"
            ]
          },
          "metadata": {},
          "execution_count": 10
        }
      ]
    },
    {
      "cell_type": "code",
      "source": [
        "# Qual o tipo do (?) -> String\n",
        "a = \"Estudando Python!\"\n",
        "type(a)"
      ],
      "metadata": {
        "colab": {
          "base_uri": "https://localhost:8080/"
        },
        "id": "ckbNJEbfkFMn",
        "outputId": "aa6011a9-e75d-4038-d255-f19af6767870"
      },
      "execution_count": 11,
      "outputs": [
        {
          "output_type": "execute_result",
          "data": {
            "text/plain": [
              "str"
            ]
          },
          "metadata": {},
          "execution_count": 11
        }
      ]
    },
    {
      "cell_type": "markdown",
      "source": [
        "## Condicional if"
      ],
      "metadata": {
        "id": "m0Ve-4Erkbnq"
      }
    },
    {
      "cell_type": "code",
      "source": [
        "# Condicional if\n",
        "if 5 > 2:\n",
        "  print(\"A sentença é verdadeira!\")"
      ],
      "metadata": {
        "colab": {
          "base_uri": "https://localhost:8080/"
        },
        "id": "ZmKolqt1kdFd",
        "outputId": "5fcaf7d2-3a67-4822-8909-98e72630d3c3"
      },
      "execution_count": 12,
      "outputs": [
        {
          "output_type": "stream",
          "name": "stdout",
          "text": [
            "A sentença é verdadeira!\n"
          ]
        }
      ]
    },
    {
      "cell_type": "code",
      "source": [
        "# Condicional if ... else\n",
        "if 5 < 2:\n",
        "  print(\"A sentença é verdadeira!\")\n",
        "else:\n",
        "  print(\"A sentença é falsa!\")"
      ],
      "metadata": {
        "colab": {
          "base_uri": "https://localhost:8080/"
        },
        "id": "AUAQYtfnko7f",
        "outputId": "4136ba84-9dfc-458e-d605-e485c5a1685f"
      },
      "execution_count": 13,
      "outputs": [
        {
          "output_type": "stream",
          "name": "stdout",
          "text": [
            "A sentença é falsa!\n"
          ]
        }
      ]
    },
    {
      "cell_type": "code",
      "source": [
        "# Condicional if ... else com variável\n",
        "dia = \"Quarta-feira\"\n",
        "if dia == \"Sexta-feira\":\n",
        "  print(\"Hoje fará sol!\")\n",
        "else:\n",
        "  print(\"Hoje vai chover!\")"
      ],
      "metadata": {
        "colab": {
          "base_uri": "https://localhost:8080/"
        },
        "id": "D6nMY3lzk0fQ",
        "outputId": "14e7f5f1-9313-4508-94c1-6aa4cbb69342"
      },
      "execution_count": 14,
      "outputs": [
        {
          "output_type": "stream",
          "name": "stdout",
          "text": [
            "Hoje vai chover!\n"
          ]
        }
      ]
    },
    {
      "cell_type": "markdown",
      "source": [
        "## Manipulando arquivos"
      ],
      "metadata": {
        "id": "34xd5DBClaPx"
      }
    },
    {
      "cell_type": "code",
      "source": [
        "from google.colab import drive\n",
        "drive.mount(\"/content/drive/\")"
      ],
      "metadata": {
        "colab": {
          "base_uri": "https://localhost:8080/"
        },
        "id": "tu_sa0Su28O7",
        "outputId": "00998679-97b5-40b9-aa8c-8ddf580b093e"
      },
      "execution_count": 15,
      "outputs": [
        {
          "output_type": "stream",
          "name": "stdout",
          "text": [
            "Mounted at /content/drive/\n"
          ]
        }
      ]
    },
    {
      "cell_type": "markdown",
      "source": [
        "Lendo arquivos (.txt)"
      ],
      "metadata": {
        "id": "Q7O2gAu9lrNJ"
      }
    },
    {
      "cell_type": "code",
      "source": [
        "# Abrindo o arquivo para leitura, veja a explicação abaixo.\n",
        "with open(\"/content/drive/MyDrive/Colab Notebooks/Colab Files/file1.txt\", 'r') as file:\n",
        "  # Lendo o arquivo\n",
        "  print(file.read())"
      ],
      "metadata": {
        "id": "PpyefL_Ple9k",
        "colab": {
          "base_uri": "https://localhost:8080/"
        },
        "outputId": "29d98195-701e-47e8-80cc-2cbf43f19c33"
      },
      "execution_count": 16,
      "outputs": [
        {
          "output_type": "stream",
          "name": "stdout",
          "text": [
            "Nada de interessante por aqui.\n"
          ]
        }
      ]
    },
    {
      "cell_type": "markdown",
      "source": [
        "Essa é a forma mais adequada de se lidar com arquivos no python. Utilizando gerenciadores de contexto([*With Statement Context Managers*](https://docs.python.org/3/reference/datamodel.html#context-managers)) o método **close()** sempre vai ser chamado, evitando perda de dados e alguns outros problemas. Em última instância(*mas não a nível de implementação*) o código acima é equivalente à:\n",
        "\n",
        "```\n",
        "file = open(\"file_path\", 'r')\n",
        "try:\n",
        "    print(file.read())\n",
        "finally:\n",
        "    file.close()\n",
        "```\n",
        "\n",
        "Omitindo os detalhes técnicos, o [*with*](https://docs.python.org/3/reference/compound_stmts.html#with) garante que o arquivo sempre será fechado."
      ],
      "metadata": {
        "id": "azeFHtqjv4E3"
      }
    },
    {
      "cell_type": "markdown",
      "source": [
        "## Gravando arquivos (.txt)"
      ],
      "metadata": {
        "id": "9pcAVvzkoKBB"
      }
    },
    {
      "cell_type": "code",
      "source": [
        "# Abrindo o arquivo para gravação\n",
        "with open(\"/content/drive/MyDrive/Colab Notebooks/Colab Files/file2.txt\", 'w') as file:\n",
        "  # Gravando no arquivo\n",
        "  file.write(\"Aprendendo Python!\")"
      ],
      "metadata": {
        "id": "sueFhywAoNtJ"
      },
      "execution_count": 17,
      "outputs": []
    },
    {
      "cell_type": "code",
      "source": [
        "# Imprimindo o arquivo\n",
        "with open(\"/content/drive/MyDrive/Colab Notebooks/Colab Files/file2.txt\", 'r') as file:\n",
        "  print(file.read())"
      ],
      "metadata": {
        "colab": {
          "base_uri": "https://localhost:8080/"
        },
        "id": "yh16qgpnpyQm",
        "outputId": "8442789b-d6a4-4382-bb17-e12ddb97739b"
      },
      "execution_count": 18,
      "outputs": [
        {
          "output_type": "stream",
          "name": "stdout",
          "text": [
            "Aprendendo Python!\n"
          ]
        }
      ]
    }
  ]
}