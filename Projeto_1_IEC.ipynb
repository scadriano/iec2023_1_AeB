{
  "nbformat": 4,
  "nbformat_minor": 0,
  "metadata": {
    "colab": {
      "provenance": [],
      "mount_file_id": "1aCmK4VS1xbOvU0XGP9N3k96gol_2qNo8",
      "authorship_tag": "ABX9TyPIGdCaFRq+5S+fa5vCIooN",
      "include_colab_link": true
    },
    "kernelspec": {
      "name": "python3",
      "display_name": "Python 3"
    },
    "language_info": {
      "name": "python"
    }
  },
  "cells": [
    {
      "cell_type": "markdown",
      "metadata": {
        "id": "view-in-github",
        "colab_type": "text"
      },
      "source": [
        "<a href=\"https://colab.research.google.com/github/Victordavioc/iec2023_1_AeB/blob/main/Projeto_1_IEC.ipynb\" target=\"_parent\"><img src=\"https://colab.research.google.com/assets/colab-badge.svg\" alt=\"Open In Colab\"/></a>"
      ]
    },
    {
      "cell_type": "code",
      "execution_count": null,
      "metadata": {
        "colab": {
          "base_uri": "https://localhost:8080/"
        },
        "id": "rOhm9r7wyGFa",
        "outputId": "aaa3eef8-b4e8-4507-cc33-0aa1a1ad4db4"
      },
      "outputs": [
        {
          "output_type": "stream",
          "name": "stdout",
          "text": [
            "A versão em uso é 3.10.12.\n"
          ]
        }
      ],
      "source": [
        "from platform import python_version\n",
        "print(f'A versão em uso é {python_version()}.')\n"
      ]
    },
    {
      "cell_type": "code",
      "source": [
        "# Verificar se o Python está funcionando\n",
        "print('Bye bye, World')"
      ],
      "metadata": {
        "colab": {
          "base_uri": "https://localhost:8080/"
        },
        "id": "AWWH-dOVzHHU",
        "outputId": "75e94506-4a1a-402d-fd6d-4ffcc9cba94a"
      },
      "execution_count": null,
      "outputs": [
        {
          "output_type": "stream",
          "name": "stdout",
          "text": [
            "Bye bye, World\n"
          ]
        }
      ]
    },
    {
      "cell_type": "code",
      "source": [
        "from google.colab import drive\n",
        "drive.mount('/content/drive')"
      ],
      "metadata": {
        "colab": {
          "base_uri": "https://localhost:8080/"
        },
        "id": "sR67aw3Q0uqb",
        "outputId": "304d7c6e-dd45-444c-b442-77a8dfd99ab6"
      },
      "execution_count": null,
      "outputs": [
        {
          "output_type": "stream",
          "name": "stdout",
          "text": [
            "Drive already mounted at /content/drive; to attempt to forcibly remount, call drive.mount(\"/content/drive\", force_remount=True).\n"
          ]
        }
      ]
    },
    {
      "cell_type": "code",
      "source": [
        "#abrindo arquivo para leitura\n",
        "a1= open(\"/content/drive/MyDrive/Colab Notebooks/teste2.txt\", \"r\")"
      ],
      "metadata": {
        "id": "8xex9Xft5gsG"
      },
      "execution_count": 31,
      "outputs": []
    },
    {
      "cell_type": "code",
      "source": [
        "#imprimindo arquivo\n",
        "print(a1.read())"
      ],
      "metadata": {
        "colab": {
          "base_uri": "https://localhost:8080/"
        },
        "id": "xuuip91h5Q14",
        "outputId": "376b04bb-2d4e-44f0-9c06-aed72c412f43"
      },
      "execution_count": 32,
      "outputs": [
        {
          "output_type": "stream",
          "name": "stdout",
          "text": [
            "Mensagem teste\n",
            "\n"
          ]
        }
      ]
    },
    {
      "cell_type": "code",
      "source": [
        "#abrindo o arquivo para gravação\n",
        "a2 = open(\"/content/drive/MyDrive/Colab Notebooks/teste2.txt\", \"w\")"
      ],
      "metadata": {
        "id": "1nVuuC_K74Db"
      },
      "execution_count": 45,
      "outputs": []
    },
    {
      "cell_type": "code",
      "source": [
        "#Gravando no arquivo\n",
        "a2.write(\"Arraial do Engenho\")"
      ],
      "metadata": {
        "colab": {
          "base_uri": "https://localhost:8080/"
        },
        "id": "HHGlZd_q8BXW",
        "outputId": "2f992755-21a2-4f6d-ef4e-faad2981cc83"
      },
      "execution_count": 46,
      "outputs": [
        {
          "output_type": "execute_result",
          "data": {
            "text/plain": [
              "18"
            ]
          },
          "metadata": {},
          "execution_count": 46
        }
      ]
    },
    {
      "cell_type": "code",
      "source": [
        "#Abrindo o arquivo para leitura\n",
        "a2 = open(\"/content/drive/MyDrive/Colab Notebooks/teste2.txt\", \"r\")"
      ],
      "metadata": {
        "id": "mx2Fy8jQ9F4l"
      },
      "execution_count": 47,
      "outputs": []
    },
    {
      "cell_type": "code",
      "source": [
        "#imprimindo arquivo\n",
        "print(a2.read())"
      ],
      "metadata": {
        "colab": {
          "base_uri": "https://localhost:8080/"
        },
        "id": "OtoJy5F59P5a",
        "outputId": "f7882e0b-c2f0-49a9-d3ac-524cfd2ededb"
      },
      "execution_count": 48,
      "outputs": [
        {
          "output_type": "stream",
          "name": "stdout",
          "text": [
            "Arraial do Engenho\n"
          ]
        }
      ]
    }
  ]
}