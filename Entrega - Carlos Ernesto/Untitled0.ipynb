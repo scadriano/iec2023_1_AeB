{
  "nbformat": 4,
  "nbformat_minor": 0,
  "metadata": {
    "colab": {
      "provenance": [],
      "mount_file_id": "1UDa6GSTUdIqYVNAQwk7beidSxzeTA-sy",
      "authorship_tag": "ABX9TyMqDIiOMz96owP5veqv2XL2",
      "include_colab_link": true
    },
    "kernelspec": {
      "name": "python3",
      "display_name": "Python 3"
    },
    "language_info": {
      "name": "python"
    }
  },
  "cells": [
    {
      "cell_type": "markdown",
      "metadata": {
        "id": "view-in-github",
        "colab_type": "text"
      },
      "source": [
        "<a href=\"https://colab.research.google.com/github/CarlossErnesto/iec2023_1_AeB/blob/main/Entrega%20-%20Carlos%20Ernesto/Untitled0.ipynb\" target=\"_parent\"><img src=\"https://colab.research.google.com/assets/colab-badge.svg\" alt=\"Open In Colab\"/></a>"
      ]
    },
    {
      "cell_type": "markdown",
      "source": [
        "# Nova seção"
      ],
      "metadata": {
        "id": "ELCvNeld5jDP"
      }
    },
    {
      "cell_type": "code",
      "execution_count": 8,
      "metadata": {
        "colab": {
          "base_uri": "https://localhost:8080/"
        },
        "id": "BT8eBAfW5IAH",
        "outputId": "5dbf3a37-20c7-443e-ea0c-062b022d3196"
      },
      "outputs": [
        {
          "output_type": "stream",
          "name": "stdout",
          "text": [
            "Drive already mounted at /content/drive; to attempt to forcibly remount, call drive.mount(\"/content/drive\", force_remount=True).\n"
          ]
        }
      ],
      "source": [
        "from google.colab import drive\n",
        "drive.mount(\"/content/drive\")"
      ]
    },
    {
      "cell_type": "code",
      "source": [
        "batata = open(\"/content/drive/MyDrive/arquivo.txt\", \"r\")\n"
      ],
      "metadata": {
        "id": "R0nwx6xy6RPZ"
      },
      "execution_count": 10,
      "outputs": []
    },
    {
      "cell_type": "code",
      "source": [
        "print(batata.read())"
      ],
      "metadata": {
        "colab": {
          "base_uri": "https://localhost:8080/"
        },
        "id": "hbBjJ_2N6ymd",
        "outputId": "c5d0ae02-4025-4b12-9690-b844d335654a"
      },
      "execution_count": 11,
      "outputs": [
        {
          "output_type": "stream",
          "name": "stdout",
          "text": [
            "RECEBAAAAAAAAA FALLEN\n",
            "\n"
          ]
        }
      ]
    },
    {
      "cell_type": "code",
      "source": [
        "jurandir = open (\"/content/drive/MyDrive/outroarquivomono.txt\" , \"w\" )"
      ],
      "metadata": {
        "id": "xzUCF99G66jE"
      },
      "execution_count": 12,
      "outputs": []
    },
    {
      "cell_type": "code",
      "source": [
        "jurandir.write(\"ELE NAO RECEBEU ANAAAAAAOOOOOOOO\")\n",
        "jurandir.write(\"AMEN PAI\")"
      ],
      "metadata": {
        "colab": {
          "base_uri": "https://localhost:8080/"
        },
        "id": "CsWLbgrP7OeU",
        "outputId": "7f159cad-94be-491d-ef9b-bd67df737a44"
      },
      "execution_count": 13,
      "outputs": [
        {
          "output_type": "execute_result",
          "data": {
            "text/plain": [
              "8"
            ]
          },
          "metadata": {},
          "execution_count": 13
        }
      ]
    },
    {
      "cell_type": "code",
      "source": [
        "# SALVANDO O ARQUIVO\n",
        "jurandir.close()"
      ],
      "metadata": {
        "id": "os3rVnn67tlL"
      },
      "execution_count": 14,
      "outputs": []
    },
    {
      "cell_type": "code",
      "source": [
        "a2 = open(\"arquivos/arquivo2.txt\", \"r\")"
      ],
      "metadata": {
        "id": "hU8RsVk78RRC"
      },
      "execution_count": null,
      "outputs": []
    },
    {
      "cell_type": "markdown",
      "source": [
        "Gravando arquivo(.txt)"
      ],
      "metadata": {
        "id": "VQ1oEjf78peR"
      }
    },
    {
      "cell_type": "markdown",
      "source": [],
      "metadata": {
        "id": "uvl90nwN8vzK"
      }
    },
    {
      "cell_type": "markdown",
      "source": [
        "### Gravando arquivo(.txt)\n",
        "\n",
        "\n"
      ],
      "metadata": {
        "id": "6dCJayHo86dS"
      }
    },
    {
      "cell_type": "code",
      "source": [
        "a2 = open(\"/content/drive/MyDrive/arquivo2.txt\", \"w\")"
      ],
      "metadata": {
        "id": "V0WNjVtW9DSa"
      },
      "execution_count": 20,
      "outputs": []
    },
    {
      "cell_type": "code",
      "source": [
        "a2.write(\"Arraial de troia\")"
      ],
      "metadata": {
        "colab": {
          "base_uri": "https://localhost:8080/"
        },
        "id": "id1t9G4j9TTp",
        "outputId": "8242b160-825d-43ba-fcce-fd07c2226c9d"
      },
      "execution_count": 21,
      "outputs": [
        {
          "output_type": "execute_result",
          "data": {
            "text/plain": [
              "16"
            ]
          },
          "metadata": {},
          "execution_count": 21
        }
      ]
    },
    {
      "cell_type": "code",
      "source": [
        "a2 = open(\"/content/drive/MyDrive/arquivo2.txt\", \"r\")"
      ],
      "metadata": {
        "id": "QLa36TaM-AIH"
      },
      "execution_count": 25,
      "outputs": []
    },
    {
      "cell_type": "code",
      "source": [
        "print(a2.read())"
      ],
      "metadata": {
        "colab": {
          "base_uri": "https://localhost:8080/"
        },
        "id": "Fpu9BcdG-vYe",
        "outputId": "ea8776d6-7fe6-403e-a156-1372edf4a3ff"
      },
      "execution_count": 27,
      "outputs": [
        {
          "output_type": "stream",
          "name": "stdout",
          "text": [
            "Arraial de troia\n"
          ]
        }
      ]
    }
  ]
}