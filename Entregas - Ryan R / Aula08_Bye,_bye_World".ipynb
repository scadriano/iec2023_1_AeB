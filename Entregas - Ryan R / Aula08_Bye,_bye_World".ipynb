{
  "nbformat": 4,
  "nbformat_minor": 0,
  "metadata": {
    "colab": {
      "provenance": [],
      "mount_file_id": "1vZ7hnEk-wlmmd_G7y1RM6iOlvP1OllKR",
      "authorship_tag": "ABX9TyMB+qm/3BSz7TIfsk9OWP/f",
      "include_colab_link": true
    },
    "kernelspec": {
      "name": "python3",
      "display_name": "Python 3"
    },
    "language_info": {
      "name": "python"
    }
  },
  "cells": [
    {
      "cell_type": "markdown",
      "metadata": {
        "id": "view-in-github",
        "colab_type": "text"
      },
      "source": [
        "<a href=\"https://colab.research.google.com/github/Ryan-Ribeiro/iec2023_1_AeB/blob/main/Entregas%20-%20Ryan%20R%20/%20Aula08_Bye%2C_bye_World%22.ipynb\" target=\"_parent\"><img src=\"https://colab.research.google.com/assets/colab-badge.svg\" alt=\"Open In Colab\"/></a>"
      ]
    },
    {
      "cell_type": "markdown",
      "source": [
        "## Introdução à Engenharia de Computação\n"
      ],
      "metadata": {
        "id": "MWAqiyB3gtOS"
      }
    },
    {
      "cell_type": "code",
      "source": [
        "from platform import python_version\n",
        "print(f'a versão em uso é {python_version()}.')"
      ],
      "metadata": {
        "colab": {
          "base_uri": "https://localhost:8080/"
        },
        "id": "_TwrnqbGg6aJ",
        "outputId": "d7e5d9b2-dd5a-4a39-8b65-69716ecb7d54"
      },
      "execution_count": 2,
      "outputs": [
        {
          "output_type": "stream",
          "name": "stdout",
          "text": [
            "a versão em uso é 3.10.12.\n"
          ]
        }
      ]
    },
    {
      "cell_type": "code",
      "source": [
        "print('Bye Bye World\"')"
      ],
      "metadata": {
        "id": "e5_IHgGwiUqc"
      },
      "execution_count": null,
      "outputs": []
    },
    {
      "cell_type": "markdown",
      "source": [
        "## Operadores Aritméticos"
      ],
      "metadata": {
        "id": "7xHqb0rairsL"
      }
    },
    {
      "cell_type": "code",
      "source": [
        "    # Adição\n",
        "    1 + 1"
      ],
      "metadata": {
        "id": "Y6oa0mHqivrD"
      },
      "execution_count": null,
      "outputs": []
    },
    {
      "cell_type": "code",
      "source": [
        "# Subtração\n",
        "2 - 1"
      ],
      "metadata": {
        "id": "RYHvCrUoi8Ly"
      },
      "execution_count": null,
      "outputs": []
    },
    {
      "cell_type": "code",
      "source": [
        "# Multiplicação\n",
        "2 * 2"
      ],
      "metadata": {
        "id": "ZiVBBBQ3jChq"
      },
      "execution_count": null,
      "outputs": []
    },
    {
      "cell_type": "code",
      "source": [
        "# Divisão\n",
        "3 / 2"
      ],
      "metadata": {
        "id": "keymTfwpjGtq"
      },
      "execution_count": null,
      "outputs": []
    },
    {
      "cell_type": "code",
      "source": [
        "# Potência\n",
        "4 ** 2"
      ],
      "metadata": {
        "id": "58KigHmUjS47"
      },
      "execution_count": null,
      "outputs": []
    },
    {
      "cell_type": "code",
      "source": [
        "# Módulo (resto da divisão)\n",
        "10 % 3"
      ],
      "metadata": {
        "id": "EDOaT5h4jYeK"
      },
      "execution_count": null,
      "outputs": []
    },
    {
      "cell_type": "markdown",
      "source": [
        "## Tipos de Dados"
      ],
      "metadata": {
        "id": "9pslQSRYj3_B"
      }
    },
    {
      "cell_type": "code",
      "source": [
        "# Qual o tipo do (?) -> Inteiro\n",
        "type(5)"
      ],
      "metadata": {
        "id": "9wqAJv5yj__A"
      },
      "execution_count": null,
      "outputs": []
    },
    {
      "cell_type": "markdown",
      "source": [
        "int"
      ],
      "metadata": {
        "id": "qxtLSGkjkFug"
      }
    },
    {
      "cell_type": "code",
      "source": [
        "# Qual o tipo do (?) -> Float - Decimal\n",
        "type(5.0)"
      ],
      "metadata": {
        "id": "zemBJgdSkH4I"
      },
      "execution_count": null,
      "outputs": []
    },
    {
      "cell_type": "markdown",
      "source": [
        "float"
      ],
      "metadata": {
        "id": "3o6KNcs6kOBX"
      }
    },
    {
      "cell_type": "code",
      "source": [
        "# Qual o tipo do (?) -> Str5ing\n",
        "type(0.5)"
      ],
      "metadata": {
        "id": "BSErZWMbkSwJ"
      },
      "execution_count": null,
      "outputs": []
    },
    {
      "cell_type": "code",
      "source": [
        "a = 'Estudando python'\n",
        "type(a)\n",
        "str"
      ],
      "metadata": {
        "id": "ZpoYwPzmk_re"
      },
      "execution_count": null,
      "outputs": []
    },
    {
      "cell_type": "markdown",
      "source": [
        "string\n"
      ],
      "metadata": {
        "id": "q3zXJm0-lHeN"
      }
    },
    {
      "cell_type": "markdown",
      "source": [
        "##Condicional if"
      ],
      "metadata": {
        "id": "JFZ0Rdu-kbjI"
      }
    },
    {
      "cell_type": "code",
      "source": [
        "from sre_constants import INFO\n",
        "# Condicional if (sE)\n",
        "if 5 > 2:\n",
        "    print(\"A sentença é verdadeira\")\n",
        "else:\n",
        "    print(\"A sentença é falsa!\")"
      ],
      "metadata": {
        "colab": {
          "base_uri": "https://localhost:8080/"
        },
        "id": "p_QywCTUkd-O",
        "outputId": "34ff9c96-c43f-46f7-8074-8fa185b41f0f"
      },
      "execution_count": 12,
      "outputs": [
        {
          "output_type": "stream",
          "name": "stdout",
          "text": [
            "A sentença é verdadeira\n"
          ]
        }
      ]
    },
    {
      "cell_type": "code",
      "source": [
        "# Condicional if...else com variável\n",
        "dia = \"Quarta-feira\"\n",
        "if dia == \"Sexta-feira\":\n",
        "    print(\"Hoje fará sol!\")\n",
        "else:\n",
        "    print (\"Hoje vai chover!\")"
      ],
      "metadata": {
        "colab": {
          "base_uri": "https://localhost:8080/"
        },
        "id": "E-EBeWe9keC5",
        "outputId": "22a4651e-d83e-44e3-ee2a-e02998d5d750"
      },
      "execution_count": 10,
      "outputs": [
        {
          "output_type": "stream",
          "name": "stdout",
          "text": [
            "Hoje vai chover!\n"
          ]
        }
      ]
    },
    {
      "cell_type": "code",
      "source": [
        "from google.colab import drive\n",
        "drive.mount('/content/drive')"
      ],
      "metadata": {
        "id": "UvdC5A9onqbJ"
      },
      "execution_count": null,
      "outputs": []
    },
    {
      "cell_type": "markdown",
      "source": [
        "## Manipulando Arquivos"
      ],
      "metadata": {
        "id": "l8rqBOuklqA9"
      }
    },
    {
      "cell_type": "code",
      "source": [
        "a1 = open(\"/content/drive/MyDrive/Colab Notebooks/bananinha.txt\", \"r\")\n",
        "print(a1.read())"
      ],
      "metadata": {
        "colab": {
          "base_uri": "https://localhost:8080/"
        },
        "id": "BZoU8qW0nkBD",
        "outputId": "5d68d38d-3a3a-4cb8-b1c7-fc5be3abe45c"
      },
      "execution_count": 19,
      "outputs": [
        {
          "output_type": "stream",
          "name": "stdout",
          "text": [
            "python não é fortemente tipado\n"
          ]
        }
      ]
    },
    {
      "cell_type": "code",
      "source": [
        "a3 = open(\"/content/drive/MyDrive/Colab Notebooks/Gatinho_Quentinho.txt\", \"r\")\n",
        "print(a3.read())"
      ],
      "metadata": {
        "colab": {
          "base_uri": "https://localhost:8080/"
        },
        "id": "l16VBO2vohjW",
        "outputId": "bc555990-8915-440f-ef77-702b6014fd9f"
      },
      "execution_count": 20,
      "outputs": [
        {
          "output_type": "stream",
          "name": "stdout",
          "text": [
            "Gatinho quentinho, gatinho fofinho\n",
            "Bolinha de pelo...\n",
            "\n"
          ]
        }
      ]
    },
    {
      "cell_type": "markdown",
      "source": [
        "## Gravando arquivos (.txt)"
      ],
      "metadata": {
        "id": "DPK_zmzHosnu"
      }
    },
    {
      "cell_type": "code",
      "source": [
        "a2 = open(\"arquivos/arquivo2.txt\", \"w\")"
      ],
      "metadata": {
        "id": "O8eHuAZaowOW"
      },
      "execution_count": null,
      "outputs": []
    }
  ]
}