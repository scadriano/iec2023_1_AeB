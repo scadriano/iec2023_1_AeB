{
  "nbformat": 4,
  "nbformat_minor": 0,
  "metadata": {
    "colab": {
      "provenance": [],
      "mount_file_id": "13LUlG6XKijMd006fd_7xa2Hx4yWY3BJT",
      "authorship_tag": "ABX9TyP5oEOBNBnqxH41thXvQyiv",
      "include_colab_link": true
    },
    "kernelspec": {
      "name": "python3",
      "display_name": "Python 3"
    },
    "language_info": {
      "name": "python"
    }
  },
  "cells": [
    {
      "cell_type": "markdown",
      "metadata": {
        "id": "view-in-github",
        "colab_type": "text"
      },
      "source": [
        "<a href=\"https://colab.research.google.com/github/felipejspindola/iec2023_1_AeB/blob/main/entregas-%20Felipe%20J/aula_8.ipynb\" target=\"_parent\"><img src=\"https://colab.research.google.com/assets/colab-badge.svg\" alt=\"Open In Colab\"/></a>"
      ]
    },
    {
      "cell_type": "markdown",
      "source": [
        "# introdução a engenharia de computação"
      ],
      "metadata": {
        "id": "03ECCp78gspF"
      }
    },
    {
      "cell_type": "code",
      "source": [
        "from platform import python_version\n",
        "print(f'a versão em uso é {python_version()}.')"
      ],
      "metadata": {
        "colab": {
          "base_uri": "https://localhost:8080/"
        },
        "id": "DyJArEajg-ec",
        "outputId": "3b1a6602-7992-4c6f-c420-af9628bd7cc6"
      },
      "execution_count": 1,
      "outputs": [
        {
          "output_type": "stream",
          "name": "stdout",
          "text": [
            "a versão em uso é 3.10.12.\n"
          ]
        }
      ]
    },
    {
      "cell_type": "code",
      "source": [
        "# Verificar se o Python está funcionando\n",
        "print('Bye bye, World!')"
      ],
      "metadata": {
        "colab": {
          "base_uri": "https://localhost:8080/"
        },
        "id": "bcptHU6Za-uW",
        "outputId": "ffd7e9aa-4a16-4530-8548-7c28521eec93"
      },
      "execution_count": 11,
      "outputs": [
        {
          "output_type": "stream",
          "name": "stdout",
          "text": [
            "Bye bye, World!\n"
          ]
        }
      ]
    },
    {
      "cell_type": "markdown",
      "source": [
        "# operadores aritimeticos\n"
      ],
      "metadata": {
        "id": "LNqYRX0zivhI"
      }
    },
    {
      "cell_type": "code",
      "source": [
        "# adição\n",
        "1+1"
      ],
      "metadata": {
        "colab": {
          "base_uri": "https://localhost:8080/"
        },
        "id": "KV8PNKohi1Ko",
        "outputId": "11db91e6-c118-4359-9039-e8b0220064ed"
      },
      "execution_count": 2,
      "outputs": [
        {
          "output_type": "execute_result",
          "data": {
            "text/plain": [
              "2"
            ]
          },
          "metadata": {},
          "execution_count": 2
        }
      ]
    },
    {
      "cell_type": "code",
      "source": [
        "#subtração\n",
        "2-1"
      ],
      "metadata": {
        "id": "xs39qOXtjF7Q",
        "colab": {
          "base_uri": "https://localhost:8080/"
        },
        "outputId": "bd121fb7-0db7-47af-f6a2-18762e30f8f5"
      },
      "execution_count": 3,
      "outputs": [
        {
          "output_type": "execute_result",
          "data": {
            "text/plain": [
              "1"
            ]
          },
          "metadata": {},
          "execution_count": 3
        }
      ]
    },
    {
      "cell_type": "code",
      "source": [
        "#mutiplicação\n",
        "2*2"
      ],
      "metadata": {
        "id": "ZIZF7NUvjOTe",
        "colab": {
          "base_uri": "https://localhost:8080/"
        },
        "outputId": "8d3194f9-e3cb-46b0-b6f8-0c0cca3a19c1"
      },
      "execution_count": 4,
      "outputs": [
        {
          "output_type": "execute_result",
          "data": {
            "text/plain": [
              "4"
            ]
          },
          "metadata": {},
          "execution_count": 4
        }
      ]
    },
    {
      "cell_type": "code",
      "source": [
        "#divisão\n",
        "2/2"
      ],
      "metadata": {
        "id": "Bmbl5ruQjUCw",
        "colab": {
          "base_uri": "https://localhost:8080/"
        },
        "outputId": "f484ad5c-66c0-4b01-e7ff-6c41da3beb00"
      },
      "execution_count": 5,
      "outputs": [
        {
          "output_type": "execute_result",
          "data": {
            "text/plain": [
              "1.0"
            ]
          },
          "metadata": {},
          "execution_count": 5
        }
      ]
    },
    {
      "cell_type": "code",
      "source": [
        "#potencia\n",
        "10**5"
      ],
      "metadata": {
        "id": "hHtLFY4wjgzQ",
        "colab": {
          "base_uri": "https://localhost:8080/"
        },
        "outputId": "f9792199-9694-473f-d6cb-83475afb9194"
      },
      "execution_count": 10,
      "outputs": [
        {
          "output_type": "execute_result",
          "data": {
            "text/plain": [
              "100000"
            ]
          },
          "metadata": {},
          "execution_count": 10
        }
      ]
    },
    {
      "cell_type": "code",
      "source": [
        "# modulo (resto da divisão)\n",
        "10%3"
      ],
      "metadata": {
        "id": "VaPc_Lm0jnXm",
        "colab": {
          "base_uri": "https://localhost:8080/"
        },
        "outputId": "fe1ee9b6-7591-4d37-fd12-894fd71cdf07"
      },
      "execution_count": 12,
      "outputs": [
        {
          "output_type": "execute_result",
          "data": {
            "text/plain": [
              "1"
            ]
          },
          "metadata": {},
          "execution_count": 12
        }
      ]
    },
    {
      "cell_type": "markdown",
      "source": [
        "# tipos de dados (type)"
      ],
      "metadata": {
        "id": "-mHjyQJKbVWv"
      }
    },
    {
      "cell_type": "code",
      "source": [
        "#qual o tipo de (?) -> inteiro\n",
        "type(5)"
      ],
      "metadata": {
        "id": "aotNyy52j9qM",
        "colab": {
          "base_uri": "https://localhost:8080/"
        },
        "outputId": "2edd6684-a948-49d8-9476-f2a94f8b43d0"
      },
      "execution_count": 13,
      "outputs": [
        {
          "output_type": "execute_result",
          "data": {
            "text/plain": [
              "int"
            ]
          },
          "metadata": {},
          "execution_count": 13
        }
      ]
    },
    {
      "cell_type": "code",
      "source": [
        "# qual o tipo do (?) -> float - decimal\n",
        "type (5.0)"
      ],
      "metadata": {
        "colab": {
          "base_uri": "https://localhost:8080/"
        },
        "id": "EPB8hRB_bwpy",
        "outputId": "6d48ed54-644d-4467-f4cd-b6789e0bb165"
      },
      "execution_count": 18,
      "outputs": [
        {
          "output_type": "execute_result",
          "data": {
            "text/plain": [
              "float"
            ]
          },
          "metadata": {},
          "execution_count": 18
        }
      ]
    },
    {
      "cell_type": "code",
      "source": [
        "#qual o tipo do (?) -> string\n",
        "a = 'estudando python!'\n",
        "type (a)"
      ],
      "metadata": {
        "colab": {
          "base_uri": "https://localhost:8080/"
        },
        "id": "wbHvOHr8bw-D",
        "outputId": "3503f17a-1155-4948-d8fb-61d5b0eae96e"
      },
      "execution_count": 20,
      "outputs": [
        {
          "output_type": "execute_result",
          "data": {
            "text/plain": [
              "str"
            ]
          },
          "metadata": {},
          "execution_count": 20
        }
      ]
    },
    {
      "cell_type": "markdown",
      "source": [
        "condicionais\n"
      ],
      "metadata": {
        "id": "oehW82yvkbTT"
      }
    },
    {
      "cell_type": "code",
      "source": [
        "#condicional if (se)\n",
        "if 5 > 2:\n",
        " print(\"A sentença é verdadeira!\")"
      ],
      "metadata": {
        "id": "VSE3mEv5keZj",
        "colab": {
          "base_uri": "https://localhost:8080/"
        },
        "outputId": "99280ec0-6ca3-4828-bb5f-1e68b57710b8"
      },
      "execution_count": 25,
      "outputs": [
        {
          "output_type": "stream",
          "name": "stdout",
          "text": [
            "A sentença é verdadeira!\n"
          ]
        }
      ]
    },
    {
      "cell_type": "code",
      "source": [
        "#condicional if ... else\n",
        "if 5 < 2:\n",
        "  print('a sentença é verdadeira')\n",
        "else:\n",
        "     print('a sentença é falsa')"
      ],
      "metadata": {
        "id": "WMWcvsU9lHTx",
        "colab": {
          "base_uri": "https://localhost:8080/"
        },
        "outputId": "b1976a12-e25f-4c34-a6c5-aad9a98d9664"
      },
      "execution_count": 29,
      "outputs": [
        {
          "output_type": "stream",
          "name": "stdout",
          "text": [
            "a sentença é falsa\n"
          ]
        }
      ]
    },
    {
      "cell_type": "code",
      "source": [
        "# Condicional if...else com variável\n",
        "dia = \"Sexta-feira\"\n",
        "if dia == \"Sexta-feira\":\n",
        "    print(\"Hoje fará sol!\")\n",
        "else:\n",
        "    print(\"Hoje vai chover!\")\n",
        "\n",
        "type(dia)"
      ],
      "metadata": {
        "id": "TbHgZfL6lYfb",
        "colab": {
          "base_uri": "https://localhost:8080/"
        },
        "outputId": "130a1fc8-76b3-47b6-8fa4-6b630bd71b18"
      },
      "execution_count": 47,
      "outputs": [
        {
          "output_type": "stream",
          "name": "stdout",
          "text": [
            "Hoje fará sol!\n"
          ]
        },
        {
          "output_type": "execute_result",
          "data": {
            "text/plain": [
              "str"
            ]
          },
          "metadata": {},
          "execution_count": 47
        }
      ]
    },
    {
      "cell_type": "markdown",
      "source": [
        "# Manipulando arquivos"
      ],
      "metadata": {
        "id": "jXVUoMeBeIBk"
      }
    },
    {
      "cell_type": "code",
      "source": [
        "from google.colab import drive\n",
        "drive.mount('/content/drive')"
      ],
      "metadata": {
        "colab": {
          "base_uri": "https://localhost:8080/"
        },
        "id": "4JWVK_dSeOMD",
        "outputId": "22ebac32-4091-4d74-db75-f9a51a3a5a11"
      },
      "execution_count": 35,
      "outputs": [
        {
          "output_type": "stream",
          "name": "stdout",
          "text": [
            "Drive already mounted at /content/drive; to attempt to forcibly remount, call drive.mount(\"/content/drive\", force_remount=True).\n"
          ]
        }
      ]
    },
    {
      "cell_type": "markdown",
      "source": [
        "# lendo arquivo (.txt)"
      ],
      "metadata": {
        "id": "aDXaXGRwim6e"
      }
    },
    {
      "cell_type": "code",
      "source": [
        "# Abrindo o arquivo para leitura\n",
        "a1 = open(\"/content/drive/MyDrive/Colab Notebooks/aula 8.txt\", \"r\")"
      ],
      "metadata": {
        "id": "DnEQD9-6iuvN"
      },
      "execution_count": 23,
      "outputs": []
    },
    {
      "cell_type": "code",
      "source": [
        "# Lendo o arquivo\n",
        "print(a1.read())"
      ],
      "metadata": {
        "colab": {
          "base_uri": "https://localhost:8080/"
        },
        "id": "P0vxwbFtqI2n",
        "outputId": "61881da3-9274-4864-eca1-2a7e8fb93814"
      },
      "execution_count": 24,
      "outputs": [
        {
          "output_type": "stream",
          "name": "stdout",
          "text": [
            "bom dia \n"
          ]
        }
      ]
    },
    {
      "cell_type": "markdown",
      "source": [
        "# Gravando arquivos (.txt)"
      ],
      "metadata": {
        "id": "8ug9N_NOqaK3"
      }
    },
    {
      "cell_type": "code",
      "source": [
        "# Abrindo o arquivo para gravação\n",
        "a2 = open(\"/content/drive/MyDrive/aula 8-2.txt\" , \"w\")"
      ],
      "metadata": {
        "id": "XvNr2Pmiqbip"
      },
      "execution_count": 41,
      "outputs": []
    },
    {
      "cell_type": "code",
      "source": [
        "# Gravando no arquivo\n",
        "a2.write (\"aula de python\")"
      ],
      "metadata": {
        "colab": {
          "base_uri": "https://localhost:8080/"
        },
        "id": "LTHQHAHwqb3e",
        "outputId": "b71e7253-a6de-41c8-a425-9795ef984972"
      },
      "execution_count": 42,
      "outputs": [
        {
          "output_type": "execute_result",
          "data": {
            "text/plain": [
              "14"
            ]
          },
          "metadata": {},
          "execution_count": 42
        }
      ]
    },
    {
      "cell_type": "code",
      "source": [
        "# Abrindo o arquivo para leitura\n",
        "a2 = open(\"/content/drive/MyDrive/aula 8-2.txt\" , \"r\")"
      ],
      "metadata": {
        "id": "zaMzArftuqfo"
      },
      "execution_count": 43,
      "outputs": []
    },
    {
      "cell_type": "code",
      "source": [
        "# Imprimindo arquivo\n",
        "print(a2.read())"
      ],
      "metadata": {
        "colab": {
          "base_uri": "https://localhost:8080/"
        },
        "id": "2wS06FCCuqi5",
        "outputId": "1402a639-0938-4e35-d8a5-e6b0ba5df10e"
      },
      "execution_count": 44,
      "outputs": [
        {
          "output_type": "stream",
          "name": "stdout",
          "text": [
            "aula de python\n"
          ]
        }
      ]
    }
  ]
}