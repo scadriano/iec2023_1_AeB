{
  "nbformat": 4,
  "nbformat_minor": 0,
  "metadata": {
    "colab": {
      "provenance": [],
      "mount_file_id": "1Rg1pG0CWqYYXEAA7jEMnq41zYOopFL4q",
      "authorship_tag": "ABX9TyN6GI5X4BTB2fYViKzwdPsV",
      "include_colab_link": true
    },
    "kernelspec": {
      "name": "python3",
      "display_name": "Python 3"
    },
    "language_info": {
      "name": "python"
    }
  },
  "cells": [
    {
      "cell_type": "markdown",
      "metadata": {
        "id": "view-in-github",
        "colab_type": "text"
      },
      "source": [
        "<a href=\"https://colab.research.google.com/github/Lucas-Siade/iec2023_1_AeB/blob/main/Conceitua%C3%A7%C3%A3o_de_Python_2.ipynb\" target=\"_parent\"><img src=\"https://colab.research.google.com/assets/colab-badge.svg\" alt=\"Open In Colab\"/></a>"
      ]
    },
    {
      "cell_type": "markdown",
      "source": [
        "### Introdução à Engenharia de Computação\n",
        "\n",
        "Aula 2 de Python"
      ],
      "metadata": {
        "id": "25bBhMPYzsJl"
      }
    },
    {
      "cell_type": "code",
      "execution_count": null,
      "metadata": {
        "id": "GU0-R5z1zrGJ"
      },
      "outputs": [],
      "source": [
        "from platform import python_version\n",
        "print(f\"A versão em uso é {python_version()}\")"
      ]
    },
    {
      "cell_type": "code",
      "source": [
        "#Verificar se o Python está funcionando\n",
        "print(\"Bye bye, World!\")"
      ],
      "metadata": {
        "id": "gsLBB8jU02VL"
      },
      "execution_count": null,
      "outputs": []
    },
    {
      "cell_type": "markdown",
      "source": [
        "###Importar Bibliotecas"
      ],
      "metadata": {
        "id": "4WrnA_qt1Nth"
      }
    },
    {
      "cell_type": "code",
      "source": [
        "#Importar a biblioteca - Todos os projetos passarão pelo Numpy\n",
        "#import numpy as np\n",
        "\n",
        "#Importar as bibliotecas - Visualizar dados\n",
        "\n",
        "import pandas as pd\n",
        "\n",
        "print(\"Biblioteca carregada com sucesso!\")"
      ],
      "metadata": {
        "id": "yrt-DWq_0-uC"
      },
      "execution_count": null,
      "outputs": []
    },
    {
      "cell_type": "code",
      "source": [
        "#Importar o arquivo e guardar em um dataframde do Pandas\n",
        "\n",
        "df_Siade = pd.read_csv(\"https://raw.githubusercontent.com/scadriano/iec2023_1_AeB/e304c7b84e16f1d12aed8d2d06345677946370c9/01.%20Conceitua%C3%A7%C3%A3o%20de%20Python/hospital.csv\", sep = \",\", index_col = None)\n",
        "\n",
        "print(\"Dados importados com sucesso!\")"
      ],
      "metadata": {
        "id": "PtzN40p72ZIP"
      },
      "execution_count": null,
      "outputs": []
    },
    {
      "cell_type": "code",
      "source": [
        "#Exibir uma amostra do dataframe\n",
        "\n",
        "display(df_Siade.head())"
      ],
      "metadata": {
        "id": "vxRfXZxy15rJ"
      },
      "execution_count": null,
      "outputs": []
    },
    {
      "cell_type": "code",
      "source": [
        "#Exibir todo o dataframe\n",
        "\n",
        "display(df_Siade)"
      ],
      "metadata": {
        "id": "fXMxnwI31-Qv"
      },
      "execution_count": null,
      "outputs": []
    },
    {
      "cell_type": "code",
      "source": [
        "#Remover as colunas id_planta e cidade_origem\n",
        "\n",
        "df_Siade = df_Siade.drop(columns={\"Estado\", \"Time\"})"
      ],
      "metadata": {
        "id": "fk06W8PX5dma"
      },
      "execution_count": null,
      "outputs": []
    },
    {
      "cell_type": "code",
      "source": [
        "#Imprimir o datafrase\n",
        "\n",
        "display(df_Siade)"
      ],
      "metadata": {
        "id": "DJA3k6__55Cq"
      },
      "execution_count": null,
      "outputs": []
    },
    {
      "cell_type": "code",
      "source": [
        "df_Siade.groupby(\"Diagnóstico\").count().plot.pie(y = \"Internação\")"
      ],
      "metadata": {
        "id": "b3KhFiiR6kxp"
      },
      "execution_count": null,
      "outputs": []
    },
    {
      "cell_type": "code",
      "source": [
        "import pandas as pd\n",
        "import matplotlib.pyplot as plt\n",
        "\n",
        "df_Siade = pd.read_csv(\"https://raw.githubusercontent.com/scadriano/iec2023_1_AeB/e304c7b84e16f1d12aed8d2d06345677946370c9/01.%20Conceitua%C3%A7%C3%A3o%20de%20Python/hospital.csv\", sep=\",\", index_col=None)\n",
        "\n",
        "Contagem = df_Siade.groupby(\"Diagnóstico\")[[\"Internação\"]].sum()\n",
        "\n",
        "plt.figure(figsize=(5, 6))\n",
        "plt.bar(Contagem.index, Contagem[\"Internação\"])\n",
        "plt.xlabel(\"Diagnóstico\")\n",
        "plt.ylabel(\"Número de Internações\")\n",
        "plt.title(\"Número de Internações por Diagnóstico\")\n",
        "plt.show()"
      ],
      "metadata": {
        "id": "OLAVF_d39h5E"
      },
      "execution_count": null,
      "outputs": []
    },
    {
      "cell_type": "code",
      "source": [
        "import pandas as pd\n",
        "import matplotlib.pyplot as plt\n",
        "\n",
        "df_Siade = pd.read_csv(\"https://raw.githubusercontent.com/scadriano/iec2023_1_AeB/e304c7b84e16f1d12aed8d2d06345677946370c9/01.%20Conceitua%C3%A7%C3%A3o%20de%20Python/hospital.csv\", sep=\",\", index_col=None)\n",
        "\n",
        "plt.figure(figsize=(8, 6))\n",
        "plt.scatter(df_Siade[\"Idade\"], df_Siade[\"Internação\"], alpha=0.5)\n",
        "plt.xlabel(\"Idade\")\n",
        "plt.ylabel(\"Número de Internações\")\n",
        "plt.title(\"Relação entre Idade e Número de Internações\")\n",
        "plt.grid(True)\n",
        "plt.show()\n"
      ],
      "metadata": {
        "id": "bLRA-cKW0NHK"
      },
      "execution_count": null,
      "outputs": []
    }
  ]
}