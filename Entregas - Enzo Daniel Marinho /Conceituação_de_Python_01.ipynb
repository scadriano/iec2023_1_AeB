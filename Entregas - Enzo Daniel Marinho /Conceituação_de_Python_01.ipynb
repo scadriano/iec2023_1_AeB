{
  "nbformat": 4,
  "nbformat_minor": 0,
  "metadata": {
    "colab": {
      "provenance": [],
      "toc_visible": true,
      "include_colab_link": true
    },
    "kernelspec": {
      "name": "python3",
      "display_name": "Python 3"
    },
    "language_info": {
      "name": "python"
    }
  },
  "cells": [
    {
      "cell_type": "markdown",
      "metadata": {
        "id": "view-in-github",
        "colab_type": "text"
      },
      "source": [
        "<a href=\"https://colab.research.google.com/github/enzzodani/iec2023_1_AeB/blob/main/Entregas%20-%20Enzo%20Daniel%20Marinho%20/%20Aula8_EnzoMarinho.ipynb\" target=\"_parent\"><img src=\"https://colab.research.google.com/assets/colab-badge.svg\" alt=\"Open In Colab\"/></a>"
      ]
    },
    {
      "cell_type": "markdown",
      "source": [
        "***Introdução à Engenharia de Computação***\n",
        "---\n",
        "\n",
        "\n",
        "\n",
        "\n",
        "\n",
        "\n"
      ],
      "metadata": {
        "id": "sTP1Mfy5Qtfp"
      }
    },
    {
      "cell_type": "code",
      "source": [
        "from platform import python_version\n",
        "print(f'A versão em uso é {python_version()}.')"
      ],
      "metadata": {
        "colab": {
          "base_uri": "https://localhost:8080/"
        },
        "id": "TWTZ6X4GQ6h7",
        "outputId": "1661ba55-882a-482a-b1b0-d957d68fce36"
      },
      "execution_count": null,
      "outputs": [
        {
          "output_type": "stream",
          "name": "stdout",
          "text": [
            "A versão em uso é 3.10.12.\n"
          ]
        }
      ]
    },
    {
      "cell_type": "code",
      "source": [
        "#verificar se o phyton está funcionando\n",
        "print('Bye bye, World!')"
      ],
      "metadata": {
        "colab": {
          "base_uri": "https://localhost:8080/"
        },
        "id": "T3N44OoeRYzJ",
        "outputId": "19fc6bde-6c54-41c1-deb0-232060cf8d9d"
      },
      "execution_count": null,
      "outputs": [
        {
          "output_type": "stream",
          "name": "stdout",
          "text": [
            "Bye bye, World!\n"
          ]
        }
      ]
    },
    {
      "cell_type": "markdown",
      "source": [
        "***Operadores Aritméticos***\n",
        "---"
      ],
      "metadata": {
        "id": "ULaWfo6l1CrM"
      }
    },
    {
      "cell_type": "code",
      "execution_count": null,
      "metadata": {
        "colab": {
          "base_uri": "https://localhost:8080/"
        },
        "id": "4DbAGWye0vLF",
        "outputId": "61813f9e-f954-40be-8210-015556d515d0"
      },
      "outputs": [
        {
          "output_type": "execute_result",
          "data": {
            "text/plain": [
              "2"
            ]
          },
          "metadata": {},
          "execution_count": 1
        }
      ],
      "source": [
        "#Adição\n",
        "1 + 1"
      ]
    },
    {
      "cell_type": "code",
      "source": [
        "#Subtração\n",
        "1 - 1"
      ],
      "metadata": {
        "colab": {
          "base_uri": "https://localhost:8080/"
        },
        "id": "9OFW-3aE1Saj",
        "outputId": "77c244e3-96f0-4d76-9f97-7f1848e642df"
      },
      "execution_count": null,
      "outputs": [
        {
          "output_type": "execute_result",
          "data": {
            "text/plain": [
              "0"
            ]
          },
          "metadata": {},
          "execution_count": 7
        }
      ]
    },
    {
      "cell_type": "code",
      "source": [
        "#Multiplicação\n",
        "1 * 2"
      ],
      "metadata": {
        "colab": {
          "base_uri": "https://localhost:8080/"
        },
        "id": "sLRJvrTL1VN7",
        "outputId": "3eb44af5-0f52-4fb2-c30f-4773ad5d9c59"
      },
      "execution_count": null,
      "outputs": [
        {
          "output_type": "execute_result",
          "data": {
            "text/plain": [
              "2"
            ]
          },
          "metadata": {},
          "execution_count": 8
        }
      ]
    },
    {
      "cell_type": "code",
      "source": [
        "#Divisão\n",
        "10 / 5"
      ],
      "metadata": {
        "colab": {
          "base_uri": "https://localhost:8080/"
        },
        "id": "4DhtSQHhRrd-",
        "outputId": "6a80795e-2679-436f-8399-f10089bddb05"
      },
      "execution_count": null,
      "outputs": [
        {
          "output_type": "execute_result",
          "data": {
            "text/plain": [
              "2.0"
            ]
          },
          "metadata": {},
          "execution_count": 10
        }
      ]
    },
    {
      "cell_type": "code",
      "source": [
        "#Potenciação\n",
        "3**2"
      ],
      "metadata": {
        "colab": {
          "base_uri": "https://localhost:8080/"
        },
        "id": "zrDrIzt4RxOs",
        "outputId": "850fa914-a4e3-4a2d-8935-4e39d54bc6c2"
      },
      "execution_count": null,
      "outputs": [
        {
          "output_type": "execute_result",
          "data": {
            "text/plain": [
              "9"
            ]
          },
          "metadata": {},
          "execution_count": 11
        }
      ]
    },
    {
      "cell_type": "code",
      "source": [
        "#Módulo (Resto da Divisão)\n",
        "3%2"
      ],
      "metadata": {
        "colab": {
          "base_uri": "https://localhost:8080/"
        },
        "id": "TozqpjRPR25j",
        "outputId": "d92b8f2c-8395-48f1-bfbf-f937ca7b982d"
      },
      "execution_count": null,
      "outputs": [
        {
          "output_type": "execute_result",
          "data": {
            "text/plain": [
              "1"
            ]
          },
          "metadata": {},
          "execution_count": 12
        }
      ]
    },
    {
      "cell_type": "markdown",
      "source": [
        "***Tipos de Dados (Type)***\n",
        "---"
      ],
      "metadata": {
        "id": "mH9WZcmj0-5S"
      }
    },
    {
      "cell_type": "code",
      "source": [
        "#Qual o tipo do (?) -> Inteiro\n",
        "type(5)"
      ],
      "metadata": {
        "colab": {
          "base_uri": "https://localhost:8080/"
        },
        "id": "I9EBmqpF1hgD",
        "outputId": "e135bb5b-0745-4ccf-d7f1-ee6bc7640c37"
      },
      "execution_count": null,
      "outputs": [
        {
          "output_type": "execute_result",
          "data": {
            "text/plain": [
              "int"
            ]
          },
          "metadata": {},
          "execution_count": 5
        }
      ]
    },
    {
      "cell_type": "code",
      "source": [
        "#Qual o tipo do (?) -> Float - Decimal\n",
        "type(5.0)"
      ],
      "metadata": {
        "id": "2aqcA5F71yn4",
        "colab": {
          "base_uri": "https://localhost:8080/"
        },
        "outputId": "e926bb63-c865-4c1f-a87b-e0344651c9fb"
      },
      "execution_count": null,
      "outputs": [
        {
          "output_type": "execute_result",
          "data": {
            "text/plain": [
              "float"
            ]
          },
          "metadata": {},
          "execution_count": 13
        }
      ]
    },
    {
      "cell_type": "code",
      "source": [
        "#Qual o tipo do (?) -> String\n",
        "s = \"Aprendendo Python\"\n",
        "type(s)"
      ],
      "metadata": {
        "colab": {
          "base_uri": "https://localhost:8080/"
        },
        "id": "1k_EUliuSWXS",
        "outputId": "5bcb25e8-9256-46a0-94f6-f61ac23af2b6"
      },
      "execution_count": null,
      "outputs": [
        {
          "output_type": "execute_result",
          "data": {
            "text/plain": [
              "str"
            ]
          },
          "metadata": {},
          "execution_count": 15
        }
      ]
    },
    {
      "cell_type": "markdown",
      "source": [
        "***Condicionais if***\n",
        "---"
      ],
      "metadata": {
        "id": "3itNhWD_13vw"
      }
    },
    {
      "cell_type": "code",
      "source": [
        "#Condicional if (Se)\n",
        "if 5 > 2:\n",
        "  print(\"A sentença é verdadeira!\")"
      ],
      "metadata": {
        "colab": {
          "base_uri": "https://localhost:8080/"
        },
        "id": "v0Ap6jnN158j",
        "outputId": "0336eba1-1779-4fc1-eabf-521b64ae60e2"
      },
      "execution_count": null,
      "outputs": [
        {
          "output_type": "stream",
          "name": "stdout",
          "text": [
            "A sentença é verdadeira!\n"
          ]
        }
      ]
    },
    {
      "cell_type": "code",
      "source": [
        "#Condicional if... else\n",
        "if 5 > 7:\n",
        "  print(\"A sentença é verdadeira!\")\n",
        "else:\n",
        "  print (\"A sentença é falsa!\")"
      ],
      "metadata": {
        "colab": {
          "base_uri": "https://localhost:8080/"
        },
        "id": "rr9Of_KoSnoE",
        "outputId": "7a42f5bf-7bf0-48a0-af33-20e8c3f43878"
      },
      "execution_count": null,
      "outputs": [
        {
          "output_type": "stream",
          "name": "stdout",
          "text": [
            "A sentença é falsa\n"
          ]
        }
      ]
    },
    {
      "cell_type": "code",
      "source": [
        "#Condicional if... else com variável\n",
        "dia = \"Quarta-feira\"\n",
        "if dia == \"Sexta-feira\":\n",
        "      print(\"Hoje fará Sol!\")\n",
        "else:\n",
        "      print(\"Hoje vai chover!\")\n",
        "\n",
        "type(dia)"
      ],
      "metadata": {
        "colab": {
          "base_uri": "https://localhost:8080/"
        },
        "id": "FIYgOoED2Zcq",
        "outputId": "ea8fe24a-be90-4a12-f440-f3fe032debb0"
      },
      "execution_count": null,
      "outputs": [
        {
          "output_type": "stream",
          "name": "stdout",
          "text": [
            "Hoje vai chover!\n"
          ]
        },
        {
          "output_type": "execute_result",
          "data": {
            "text/plain": [
              "str"
            ]
          },
          "metadata": {},
          "execution_count": 10
        }
      ]
    },
    {
      "cell_type": "markdown",
      "source": [
        "***Manipulando Arquivos (.txt)***\n",
        "---"
      ],
      "metadata": {
        "id": "7KoEQqA-3JBt"
      }
    },
    {
      "cell_type": "code",
      "source": [
        "from google.colab import drive\n",
        "drive.mount('/content/drive')"
      ],
      "metadata": {
        "colab": {
          "base_uri": "https://localhost:8080/"
        },
        "id": "sZs8_8G93MGB",
        "outputId": "817c8aa7-4f50-4b35-e7dd-e7436a0e0c07"
      },
      "execution_count": null,
      "outputs": [
        {
          "output_type": "stream",
          "name": "stdout",
          "text": [
            "Mounted at /content/drive\n"
          ]
        }
      ]
    },
    {
      "cell_type": "markdown",
      "source": [
        "***Lendo arquivos (.txt)***\n",
        "---"
      ],
      "metadata": {
        "id": "Q2IgUTRg5d93"
      }
    },
    {
      "cell_type": "code",
      "source": [
        "#abrindo arquivos para leitura\n",
        "a1 = open(\"/content/drive/MyDrive/Colab Notebooks/aula8.txt\", \"r\")"
      ],
      "metadata": {
        "id": "8fbhKq2g5geU"
      },
      "execution_count": null,
      "outputs": []
    },
    {
      "cell_type": "code",
      "source": [
        "print(a1.read())"
      ],
      "metadata": {
        "colab": {
          "base_uri": "https://localhost:8080/"
        },
        "id": "LzGAmci06Ymz",
        "outputId": "7c7af015-c689-4196-98b2-2ef3613992fc"
      },
      "execution_count": null,
      "outputs": [
        {
          "output_type": "stream",
          "name": "stdout",
          "text": [
            "Aprendendo Python e Git!\n"
          ]
        }
      ]
    },
    {
      "cell_type": "markdown",
      "source": [
        "***Gravando Arquivos (.txt)***\n",
        "---"
      ],
      "metadata": {
        "id": "_rnTp3RC7Hp_"
      }
    },
    {
      "cell_type": "code",
      "source": [
        "#Abrindo arquivo para gravação\n",
        "a2 = open(\"/content/drive/MyDrive/Colab Notebooks/aula8.txt\", \"w\")"
      ],
      "metadata": {
        "id": "Gy8RS1Lo7Wfx"
      },
      "execution_count": null,
      "outputs": []
    },
    {
      "cell_type": "code",
      "source": [
        "#Gravando no arquivo\n",
        "a2.write(\"Aula 8 (IEC): Aprendendo Python e Git!\")"
      ],
      "metadata": {
        "colab": {
          "base_uri": "https://localhost:8080/"
        },
        "id": "8cAyYAp270N1",
        "outputId": "87f7609b-8285-4f04-d976-6a8aebd7e51c"
      },
      "execution_count": null,
      "outputs": [
        {
          "output_type": "execute_result",
          "data": {
            "text/plain": [
              "38"
            ]
          },
          "metadata": {},
          "execution_count": 28
        }
      ]
    },
    {
      "cell_type": "code",
      "source": [
        "#Abrindo o arquivo para Leitura\n",
        "a2 = open(\"/content/drive/MyDrive/Colab Notebooks/aula8.txt\", \"r\")"
      ],
      "metadata": {
        "id": "tw2W2X7t8HTu"
      },
      "execution_count": null,
      "outputs": []
    },
    {
      "cell_type": "code",
      "source": [
        "#Imprimindo o arquivo\n",
        "print(a2.read())"
      ],
      "metadata": {
        "colab": {
          "base_uri": "https://localhost:8080/"
        },
        "id": "HE5PQ3GW8T7P",
        "outputId": "776c76ff-45cd-4e72-fdd8-55010317f63d"
      },
      "execution_count": null,
      "outputs": [
        {
          "output_type": "stream",
          "name": "stdout",
          "text": [
            "Aula 8 (IEC): Aprendendo Python e Git!\n"
          ]
        }
      ]
    }
  ]
}